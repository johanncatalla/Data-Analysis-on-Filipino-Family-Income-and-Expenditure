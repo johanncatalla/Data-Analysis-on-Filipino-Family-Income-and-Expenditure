{
 "cells": [
  {
   "attachments": {},
   "cell_type": "markdown",
   "metadata": {},
   "source": [
    "# <center> **Data Analysis on Filipino Family Income and Expenditure**\n",
    "#### <center> By: Johann Sebastian E. Catalla, BSCS-I\n",
    "#### <center> An output for the course CP102: Computer Programming 2\n",
    "***"
   ]
  },
  {
   "attachments": {},
   "cell_type": "markdown",
   "metadata": {},
   "source": [
    "<div style=\"text-align: justify\"> The dataset was sourced through kaggle from the Philippine Statistics Authority's (PSA) Family Income and Expenditure Survey (FIES) nationwide. The survey, which is undertaken every three (3) years, is aimed at providing data on family income and expenditure, including, among others, levels of consumption by item of expenditure, sources of income in cash, and related information affecting income and expenditure levels and patterns in the Philippines.\n",
    "<br><br>\n",
    "The Dataset contains more than 40k observations and 60 variables which is primarily comprised of the household income and expenditures of that specific household. For this analysis, I will be using Python's <b>pandas</b>, <b>numpy</b>, and <b>hvplot</b> libraries. </div>"
   ]
  },
  {
   "cell_type": "code",
   "execution_count": 324,
   "metadata": {},
   "outputs": [],
   "source": [
    "import pandas as pd\n",
    "import numpy as np\n",
    "import hvplot.pandas\n",
    "import holoviews as hv\n",
    "from bokeh.models.formatters import NumeralTickFormatter\n",
    "formatter = NumeralTickFormatter(format=\"0,0\")"
   ]
  },
  {
   "cell_type": "code",
   "execution_count": 325,
   "metadata": {},
   "outputs": [
    {
     "data": {
      "text/html": [
       "<div>\n",
       "<style scoped>\n",
       "    .dataframe tbody tr th:only-of-type {\n",
       "        vertical-align: middle;\n",
       "    }\n",
       "\n",
       "    .dataframe tbody tr th {\n",
       "        vertical-align: top;\n",
       "    }\n",
       "\n",
       "    .dataframe thead th {\n",
       "        text-align: right;\n",
       "    }\n",
       "</style>\n",
       "<table border=\"1\" class=\"dataframe\">\n",
       "  <thead>\n",
       "    <tr style=\"text-align: right;\">\n",
       "      <th></th>\n",
       "      <th>Total Household Income</th>\n",
       "      <th>Region</th>\n",
       "      <th>Total Food Expenditure</th>\n",
       "      <th>Main Source of Income</th>\n",
       "      <th>Agricultural Household indicator</th>\n",
       "      <th>Bread and Cereals Expenditure</th>\n",
       "      <th>Total Rice Expenditure</th>\n",
       "      <th>Meat Expenditure</th>\n",
       "      <th>Total Fish and  marine products Expenditure</th>\n",
       "      <th>Fruit Expenditure</th>\n",
       "      <th>...</th>\n",
       "      <th>Number of Refrigerator/Freezer</th>\n",
       "      <th>Number of Washing Machine</th>\n",
       "      <th>Number of Airconditioner</th>\n",
       "      <th>Number of Car, Jeep, Van</th>\n",
       "      <th>Number of Landline/wireless telephones</th>\n",
       "      <th>Number of Cellular phone</th>\n",
       "      <th>Number of Personal Computer</th>\n",
       "      <th>Number of Stove with Oven/Gas Range</th>\n",
       "      <th>Number of Motorized Banca</th>\n",
       "      <th>Number of Motorcycle/Tricycle</th>\n",
       "    </tr>\n",
       "  </thead>\n",
       "  <tbody>\n",
       "    <tr>\n",
       "      <th>0</th>\n",
       "      <td>480332</td>\n",
       "      <td>CAR</td>\n",
       "      <td>117848</td>\n",
       "      <td>Wage/Salaries</td>\n",
       "      <td>0</td>\n",
       "      <td>42140</td>\n",
       "      <td>38300</td>\n",
       "      <td>24676</td>\n",
       "      <td>16806</td>\n",
       "      <td>3325</td>\n",
       "      <td>...</td>\n",
       "      <td>1</td>\n",
       "      <td>1</td>\n",
       "      <td>0</td>\n",
       "      <td>0</td>\n",
       "      <td>0</td>\n",
       "      <td>2</td>\n",
       "      <td>1</td>\n",
       "      <td>0</td>\n",
       "      <td>0</td>\n",
       "      <td>1</td>\n",
       "    </tr>\n",
       "    <tr>\n",
       "      <th>1</th>\n",
       "      <td>198235</td>\n",
       "      <td>CAR</td>\n",
       "      <td>67766</td>\n",
       "      <td>Wage/Salaries</td>\n",
       "      <td>0</td>\n",
       "      <td>17329</td>\n",
       "      <td>13008</td>\n",
       "      <td>17434</td>\n",
       "      <td>11073</td>\n",
       "      <td>2035</td>\n",
       "      <td>...</td>\n",
       "      <td>0</td>\n",
       "      <td>1</td>\n",
       "      <td>0</td>\n",
       "      <td>0</td>\n",
       "      <td>0</td>\n",
       "      <td>3</td>\n",
       "      <td>1</td>\n",
       "      <td>0</td>\n",
       "      <td>0</td>\n",
       "      <td>2</td>\n",
       "    </tr>\n",
       "    <tr>\n",
       "      <th>2</th>\n",
       "      <td>82785</td>\n",
       "      <td>CAR</td>\n",
       "      <td>61609</td>\n",
       "      <td>Wage/Salaries</td>\n",
       "      <td>1</td>\n",
       "      <td>34182</td>\n",
       "      <td>32001</td>\n",
       "      <td>7783</td>\n",
       "      <td>2590</td>\n",
       "      <td>1730</td>\n",
       "      <td>...</td>\n",
       "      <td>0</td>\n",
       "      <td>0</td>\n",
       "      <td>0</td>\n",
       "      <td>0</td>\n",
       "      <td>0</td>\n",
       "      <td>0</td>\n",
       "      <td>0</td>\n",
       "      <td>0</td>\n",
       "      <td>0</td>\n",
       "      <td>0</td>\n",
       "    </tr>\n",
       "    <tr>\n",
       "      <th>3</th>\n",
       "      <td>107589</td>\n",
       "      <td>CAR</td>\n",
       "      <td>78189</td>\n",
       "      <td>Wage/Salaries</td>\n",
       "      <td>0</td>\n",
       "      <td>34030</td>\n",
       "      <td>28659</td>\n",
       "      <td>10914</td>\n",
       "      <td>10812</td>\n",
       "      <td>690</td>\n",
       "      <td>...</td>\n",
       "      <td>0</td>\n",
       "      <td>0</td>\n",
       "      <td>0</td>\n",
       "      <td>0</td>\n",
       "      <td>0</td>\n",
       "      <td>1</td>\n",
       "      <td>0</td>\n",
       "      <td>0</td>\n",
       "      <td>0</td>\n",
       "      <td>0</td>\n",
       "    </tr>\n",
       "    <tr>\n",
       "      <th>4</th>\n",
       "      <td>189322</td>\n",
       "      <td>CAR</td>\n",
       "      <td>94625</td>\n",
       "      <td>Wage/Salaries</td>\n",
       "      <td>0</td>\n",
       "      <td>34820</td>\n",
       "      <td>30167</td>\n",
       "      <td>18391</td>\n",
       "      <td>11309</td>\n",
       "      <td>1395</td>\n",
       "      <td>...</td>\n",
       "      <td>1</td>\n",
       "      <td>0</td>\n",
       "      <td>0</td>\n",
       "      <td>0</td>\n",
       "      <td>0</td>\n",
       "      <td>3</td>\n",
       "      <td>0</td>\n",
       "      <td>0</td>\n",
       "      <td>0</td>\n",
       "      <td>1</td>\n",
       "    </tr>\n",
       "    <tr>\n",
       "      <th>...</th>\n",
       "      <td>...</td>\n",
       "      <td>...</td>\n",
       "      <td>...</td>\n",
       "      <td>...</td>\n",
       "      <td>...</td>\n",
       "      <td>...</td>\n",
       "      <td>...</td>\n",
       "      <td>...</td>\n",
       "      <td>...</td>\n",
       "      <td>...</td>\n",
       "      <td>...</td>\n",
       "      <td>...</td>\n",
       "      <td>...</td>\n",
       "      <td>...</td>\n",
       "      <td>...</td>\n",
       "      <td>...</td>\n",
       "      <td>...</td>\n",
       "      <td>...</td>\n",
       "      <td>...</td>\n",
       "      <td>...</td>\n",
       "      <td>...</td>\n",
       "    </tr>\n",
       "    <tr>\n",
       "      <th>41539</th>\n",
       "      <td>119773</td>\n",
       "      <td>XII - SOCCSKSARGEN</td>\n",
       "      <td>44875</td>\n",
       "      <td>Enterpreneurial Activities</td>\n",
       "      <td>1</td>\n",
       "      <td>23675</td>\n",
       "      <td>21542</td>\n",
       "      <td>1476</td>\n",
       "      <td>6120</td>\n",
       "      <td>1632</td>\n",
       "      <td>...</td>\n",
       "      <td>0</td>\n",
       "      <td>0</td>\n",
       "      <td>0</td>\n",
       "      <td>0</td>\n",
       "      <td>0</td>\n",
       "      <td>1</td>\n",
       "      <td>0</td>\n",
       "      <td>0</td>\n",
       "      <td>0</td>\n",
       "      <td>0</td>\n",
       "    </tr>\n",
       "    <tr>\n",
       "      <th>41540</th>\n",
       "      <td>137320</td>\n",
       "      <td>XII - SOCCSKSARGEN</td>\n",
       "      <td>31157</td>\n",
       "      <td>Enterpreneurial Activities</td>\n",
       "      <td>1</td>\n",
       "      <td>2691</td>\n",
       "      <td>1273</td>\n",
       "      <td>1886</td>\n",
       "      <td>4386</td>\n",
       "      <td>1840</td>\n",
       "      <td>...</td>\n",
       "      <td>0</td>\n",
       "      <td>0</td>\n",
       "      <td>0</td>\n",
       "      <td>0</td>\n",
       "      <td>0</td>\n",
       "      <td>3</td>\n",
       "      <td>0</td>\n",
       "      <td>0</td>\n",
       "      <td>0</td>\n",
       "      <td>0</td>\n",
       "    </tr>\n",
       "    <tr>\n",
       "      <th>41541</th>\n",
       "      <td>133171</td>\n",
       "      <td>XII - SOCCSKSARGEN</td>\n",
       "      <td>45882</td>\n",
       "      <td>Enterpreneurial Activities</td>\n",
       "      <td>2</td>\n",
       "      <td>28646</td>\n",
       "      <td>27339</td>\n",
       "      <td>480</td>\n",
       "      <td>4796</td>\n",
       "      <td>1232</td>\n",
       "      <td>...</td>\n",
       "      <td>0</td>\n",
       "      <td>0</td>\n",
       "      <td>0</td>\n",
       "      <td>0</td>\n",
       "      <td>0</td>\n",
       "      <td>1</td>\n",
       "      <td>0</td>\n",
       "      <td>0</td>\n",
       "      <td>0</td>\n",
       "      <td>0</td>\n",
       "    </tr>\n",
       "    <tr>\n",
       "      <th>41542</th>\n",
       "      <td>129500</td>\n",
       "      <td>XII - SOCCSKSARGEN</td>\n",
       "      <td>81416</td>\n",
       "      <td>Enterpreneurial Activities</td>\n",
       "      <td>1</td>\n",
       "      <td>29996</td>\n",
       "      <td>26655</td>\n",
       "      <td>2359</td>\n",
       "      <td>17730</td>\n",
       "      <td>2923</td>\n",
       "      <td>...</td>\n",
       "      <td>0</td>\n",
       "      <td>0</td>\n",
       "      <td>0</td>\n",
       "      <td>0</td>\n",
       "      <td>0</td>\n",
       "      <td>2</td>\n",
       "      <td>0</td>\n",
       "      <td>0</td>\n",
       "      <td>0</td>\n",
       "      <td>0</td>\n",
       "    </tr>\n",
       "    <tr>\n",
       "      <th>41543</th>\n",
       "      <td>128598</td>\n",
       "      <td>XII - SOCCSKSARGEN</td>\n",
       "      <td>78195</td>\n",
       "      <td>Enterpreneurial Activities</td>\n",
       "      <td>1</td>\n",
       "      <td>43485</td>\n",
       "      <td>41205</td>\n",
       "      <td>1985</td>\n",
       "      <td>7735</td>\n",
       "      <td>2062</td>\n",
       "      <td>...</td>\n",
       "      <td>0</td>\n",
       "      <td>0</td>\n",
       "      <td>0</td>\n",
       "      <td>0</td>\n",
       "      <td>0</td>\n",
       "      <td>1</td>\n",
       "      <td>0</td>\n",
       "      <td>0</td>\n",
       "      <td>0</td>\n",
       "      <td>0</td>\n",
       "    </tr>\n",
       "  </tbody>\n",
       "</table>\n",
       "<p>41544 rows × 60 columns</p>\n",
       "</div>"
      ],
      "text/plain": [
       "       Total Household Income              Region  Total Food Expenditure  \\\n",
       "0                      480332                 CAR                  117848   \n",
       "1                      198235                 CAR                   67766   \n",
       "2                       82785                 CAR                   61609   \n",
       "3                      107589                 CAR                   78189   \n",
       "4                      189322                 CAR                   94625   \n",
       "...                       ...                 ...                     ...   \n",
       "41539                  119773  XII - SOCCSKSARGEN                   44875   \n",
       "41540                  137320  XII - SOCCSKSARGEN                   31157   \n",
       "41541                  133171  XII - SOCCSKSARGEN                   45882   \n",
       "41542                  129500  XII - SOCCSKSARGEN                   81416   \n",
       "41543                  128598  XII - SOCCSKSARGEN                   78195   \n",
       "\n",
       "            Main Source of Income  Agricultural Household indicator  \\\n",
       "0                   Wage/Salaries                                 0   \n",
       "1                   Wage/Salaries                                 0   \n",
       "2                   Wage/Salaries                                 1   \n",
       "3                   Wage/Salaries                                 0   \n",
       "4                   Wage/Salaries                                 0   \n",
       "...                           ...                               ...   \n",
       "41539  Enterpreneurial Activities                                 1   \n",
       "41540  Enterpreneurial Activities                                 1   \n",
       "41541  Enterpreneurial Activities                                 2   \n",
       "41542  Enterpreneurial Activities                                 1   \n",
       "41543  Enterpreneurial Activities                                 1   \n",
       "\n",
       "       Bread and Cereals Expenditure  Total Rice Expenditure  \\\n",
       "0                              42140                   38300   \n",
       "1                              17329                   13008   \n",
       "2                              34182                   32001   \n",
       "3                              34030                   28659   \n",
       "4                              34820                   30167   \n",
       "...                              ...                     ...   \n",
       "41539                          23675                   21542   \n",
       "41540                           2691                    1273   \n",
       "41541                          28646                   27339   \n",
       "41542                          29996                   26655   \n",
       "41543                          43485                   41205   \n",
       "\n",
       "       Meat Expenditure  Total Fish and  marine products Expenditure  \\\n",
       "0                 24676                                        16806   \n",
       "1                 17434                                        11073   \n",
       "2                  7783                                         2590   \n",
       "3                 10914                                        10812   \n",
       "4                 18391                                        11309   \n",
       "...                 ...                                          ...   \n",
       "41539              1476                                         6120   \n",
       "41540              1886                                         4386   \n",
       "41541               480                                         4796   \n",
       "41542              2359                                        17730   \n",
       "41543              1985                                         7735   \n",
       "\n",
       "       Fruit Expenditure  ...  Number of Refrigerator/Freezer  \\\n",
       "0                   3325  ...                               1   \n",
       "1                   2035  ...                               0   \n",
       "2                   1730  ...                               0   \n",
       "3                    690  ...                               0   \n",
       "4                   1395  ...                               1   \n",
       "...                  ...  ...                             ...   \n",
       "41539               1632  ...                               0   \n",
       "41540               1840  ...                               0   \n",
       "41541               1232  ...                               0   \n",
       "41542               2923  ...                               0   \n",
       "41543               2062  ...                               0   \n",
       "\n",
       "       Number of Washing Machine  Number of Airconditioner  \\\n",
       "0                              1                         0   \n",
       "1                              1                         0   \n",
       "2                              0                         0   \n",
       "3                              0                         0   \n",
       "4                              0                         0   \n",
       "...                          ...                       ...   \n",
       "41539                          0                         0   \n",
       "41540                          0                         0   \n",
       "41541                          0                         0   \n",
       "41542                          0                         0   \n",
       "41543                          0                         0   \n",
       "\n",
       "       Number of Car, Jeep, Van  Number of Landline/wireless telephones  \\\n",
       "0                             0                                       0   \n",
       "1                             0                                       0   \n",
       "2                             0                                       0   \n",
       "3                             0                                       0   \n",
       "4                             0                                       0   \n",
       "...                         ...                                     ...   \n",
       "41539                         0                                       0   \n",
       "41540                         0                                       0   \n",
       "41541                         0                                       0   \n",
       "41542                         0                                       0   \n",
       "41543                         0                                       0   \n",
       "\n",
       "       Number of Cellular phone  Number of Personal Computer  \\\n",
       "0                             2                            1   \n",
       "1                             3                            1   \n",
       "2                             0                            0   \n",
       "3                             1                            0   \n",
       "4                             3                            0   \n",
       "...                         ...                          ...   \n",
       "41539                         1                            0   \n",
       "41540                         3                            0   \n",
       "41541                         1                            0   \n",
       "41542                         2                            0   \n",
       "41543                         1                            0   \n",
       "\n",
       "       Number of Stove with Oven/Gas Range  Number of Motorized Banca  \\\n",
       "0                                        0                          0   \n",
       "1                                        0                          0   \n",
       "2                                        0                          0   \n",
       "3                                        0                          0   \n",
       "4                                        0                          0   \n",
       "...                                    ...                        ...   \n",
       "41539                                    0                          0   \n",
       "41540                                    0                          0   \n",
       "41541                                    0                          0   \n",
       "41542                                    0                          0   \n",
       "41543                                    0                          0   \n",
       "\n",
       "       Number of Motorcycle/Tricycle  \n",
       "0                                  1  \n",
       "1                                  2  \n",
       "2                                  0  \n",
       "3                                  0  \n",
       "4                                  1  \n",
       "...                              ...  \n",
       "41539                              0  \n",
       "41540                              0  \n",
       "41541                              0  \n",
       "41542                              0  \n",
       "41543                              0  \n",
       "\n",
       "[41544 rows x 60 columns]"
      ]
     },
     "execution_count": 325,
     "metadata": {},
     "output_type": "execute_result"
    }
   ],
   "source": [
    "dataset = pd.read_csv(\"Family Income and Expenditure.csv\")\n",
    "dataset"
   ]
  },
  {
   "attachments": {},
   "cell_type": "markdown",
   "metadata": {},
   "source": [
    "## **QUESTIONS** ##"
   ]
  },
  {
   "attachments": {},
   "cell_type": "markdown",
   "metadata": {},
   "source": [
    "1. What is the Average Yearly Food Expenditure and Average Income per region? \n",
    "2. What is the ratio of Food Expenditure to income per region?"
   ]
  },
  {
   "cell_type": "code",
   "execution_count": 368,
   "metadata": {},
   "outputs": [
    {
     "data": {},
     "metadata": {},
     "output_type": "display_data"
    },
    {
     "data": {
      "application/vnd.holoviews_exec.v0+json": "",
      "text/html": [
       "<div id='41315'>\n",
       "  <div class=\"bk-root\" id=\"5e3d245b-f60f-49cd-8d55-ecb8f0d90773\" data-root-id=\"41315\"></div>\n",
       "</div>\n",
       "<script type=\"application/javascript\">(function(root) {\n",
       "  function embed_document(root) {\n",
       "    var docs_json = {\"a164446c-5b59-44d0-8e35-ae2aff36a7bb\":{\"defs\":[{\"extends\":null,\"module\":null,\"name\":\"ReactiveHTML1\",\"overrides\":[],\"properties\":[]},{\"extends\":null,\"module\":null,\"name\":\"FlexBox1\",\"overrides\":[],\"properties\":[{\"default\":\"flex-start\",\"kind\":null,\"name\":\"align_content\"},{\"default\":\"flex-start\",\"kind\":null,\"name\":\"align_items\"},{\"default\":\"row\",\"kind\":null,\"name\":\"flex_direction\"},{\"default\":\"wrap\",\"kind\":null,\"name\":\"flex_wrap\"},{\"default\":\"flex-start\",\"kind\":null,\"name\":\"justify_content\"}]},{\"extends\":null,\"module\":null,\"name\":\"GridStack1\",\"overrides\":[],\"properties\":[{\"default\":\"warn\",\"kind\":null,\"name\":\"mode\"},{\"default\":null,\"kind\":null,\"name\":\"ncols\"},{\"default\":null,\"kind\":null,\"name\":\"nrows\"},{\"default\":true,\"kind\":null,\"name\":\"allow_resize\"},{\"default\":true,\"kind\":null,\"name\":\"allow_drag\"},{\"default\":[],\"kind\":null,\"name\":\"state\"}]},{\"extends\":null,\"module\":null,\"name\":\"click1\",\"overrides\":[],\"properties\":[{\"default\":\"\",\"kind\":null,\"name\":\"terminal_output\"},{\"default\":\"\",\"kind\":null,\"name\":\"debug_name\"},{\"default\":0,\"kind\":null,\"name\":\"clears\"}]},{\"extends\":null,\"module\":null,\"name\":\"NotificationAreaBase1\",\"overrides\":[],\"properties\":[{\"default\":\"bottom-right\",\"kind\":null,\"name\":\"position\"},{\"default\":0,\"kind\":null,\"name\":\"_clear\"}]},{\"extends\":null,\"module\":null,\"name\":\"NotificationArea1\",\"overrides\":[],\"properties\":[{\"default\":[],\"kind\":null,\"name\":\"notifications\"},{\"default\":\"bottom-right\",\"kind\":null,\"name\":\"position\"},{\"default\":0,\"kind\":null,\"name\":\"_clear\"},{\"default\":[{\"background\":\"#ffc107\",\"icon\":{\"className\":\"fas fa-exclamation-triangle\",\"color\":\"white\",\"tagName\":\"i\"},\"type\":\"warning\"},{\"background\":\"#007bff\",\"icon\":{\"className\":\"fas fa-info-circle\",\"color\":\"white\",\"tagName\":\"i\"},\"type\":\"info\"}],\"kind\":null,\"name\":\"types\"}]},{\"extends\":null,\"module\":null,\"name\":\"Notification\",\"overrides\":[],\"properties\":[{\"default\":null,\"kind\":null,\"name\":\"background\"},{\"default\":3000,\"kind\":null,\"name\":\"duration\"},{\"default\":null,\"kind\":null,\"name\":\"icon\"},{\"default\":\"\",\"kind\":null,\"name\":\"message\"},{\"default\":null,\"kind\":null,\"name\":\"notification_type\"},{\"default\":false,\"kind\":null,\"name\":\"_destroyed\"}]},{\"extends\":null,\"module\":null,\"name\":\"TemplateActions1\",\"overrides\":[],\"properties\":[{\"default\":0,\"kind\":null,\"name\":\"open_modal\"},{\"default\":0,\"kind\":null,\"name\":\"close_modal\"}]},{\"extends\":null,\"module\":null,\"name\":\"MaterialTemplateActions1\",\"overrides\":[],\"properties\":[{\"default\":0,\"kind\":null,\"name\":\"open_modal\"},{\"default\":0,\"kind\":null,\"name\":\"close_modal\"}]}],\"roots\":{\"references\":[{\"attributes\":{\"toolbars\":[{\"id\":\"41341\"},{\"id\":\"41406\"}],\"tools\":[{\"id\":\"41318\"},{\"id\":\"41335\"},{\"id\":\"41336\"},{\"id\":\"41337\"},{\"id\":\"41338\"},{\"id\":\"41339\"},{\"id\":\"41384\"},{\"id\":\"41400\"},{\"id\":\"41401\"},{\"id\":\"41402\"},{\"id\":\"41403\"},{\"id\":\"41404\"}]},\"id\":\"41458\",\"type\":\"ProxyToolbar\"},{\"attributes\":{},\"id\":\"41449\",\"type\":\"NoOverlap\"},{\"attributes\":{},\"id\":\"41400\",\"type\":\"SaveTool\"},{\"attributes\":{\"axis_label\":\"\",\"coordinates\":null,\"formatter\":{\"id\":\"41426\"},\"group\":null,\"major_label_policy\":{\"id\":\"41427\"},\"ticker\":{\"id\":\"41395\"}},\"id\":\"41394\",\"type\":\"CategoricalAxis\"},{\"attributes\":{\"fill_alpha\":{\"value\":0.2},\"fill_color\":{\"field\":\"Variable\",\"transform\":{\"id\":\"41348\"}},\"hatch_alpha\":{\"value\":0.2},\"hatch_color\":{\"field\":\"Variable\",\"transform\":{\"id\":\"41348\"}},\"height\":{\"value\":0.8},\"left\":{\"field\":\"bottom\"},\"line_alpha\":{\"value\":0.2},\"line_color\":{\"value\":null},\"right\":{\"field\":\"top\"},\"y\":{\"field\":\"Region\"}},\"id\":\"41354\",\"type\":\"HBar\"},{\"attributes\":{},\"id\":\"41402\",\"type\":\"WheelZoomTool\"},{\"attributes\":{\"factors\":[\"Total Food Expenditure\",\"Total Household Income\"],\"palette\":[\"pink\",\"darkgreen\"]},\"id\":\"41348\",\"type\":\"CategoricalColorMapper\"},{\"attributes\":{},\"id\":\"36159\",\"type\":\"NumeralTickFormatter\"},{\"attributes\":{\"coordinates\":null,\"group\":null,\"items\":[{\"id\":\"41368\"}],\"location\":[0,0],\"orientation\":\"horizontal\"},\"id\":\"41367\",\"type\":\"Legend\"},{\"attributes\":{\"fill_color\":{\"field\":\"zvalues\",\"transform\":{\"id\":\"41413\"}},\"hatch_color\":{\"value\":\"darkorange\"},\"height\":{\"value\":1},\"line_alpha\":{\"value\":0},\"line_color\":{\"value\":\"darkorange\"},\"width\":{\"value\":1},\"x\":{\"field\":\"columns\"},\"y\":{\"field\":\"index\"}},\"id\":\"41419\",\"type\":\"Rect\"},{\"attributes\":{\"coordinates\":null,\"data_source\":{\"id\":\"41349\"},\"glyph\":{\"id\":\"41352\"},\"group\":null,\"hover_glyph\":null,\"muted_glyph\":{\"id\":\"41354\"},\"nonselection_glyph\":{\"id\":\"41353\"},\"selection_glyph\":{\"id\":\"41369\"},\"view\":{\"id\":\"41356\"}},\"id\":\"41355\",\"type\":\"GlyphRenderer\"},{\"attributes\":{\"fill_alpha\":{\"value\":0.2},\"fill_color\":{\"field\":\"zvalues\",\"transform\":{\"id\":\"41413\"}},\"hatch_alpha\":{\"value\":0.2},\"hatch_color\":{\"value\":\"darkorange\"},\"height\":{\"value\":1},\"line_alpha\":{\"value\":0},\"line_color\":{\"value\":\"darkorange\"},\"width\":{\"value\":1},\"x\":{\"field\":\"columns\"},\"y\":{\"field\":\"index\"}},\"id\":\"41420\",\"type\":\"Rect\"},{\"attributes\":{\"factors\":[\"X - Northern Mindanao\",\" ARMM\",\"IX - Zasmboanga Peninsula\",\"VIII - Eastern Visayas\",\"IVB - MIMAROPA\",\"XII - SOCCSKSARGEN\",\"Caraga\",\"II - Cagayan Valley\",\"V - Bicol Region\",\"VI - Western Visayas\",\"CAR\",\"I - Ilocos Region\",\"XI - Davao Region\",\"VII - Central Visayas\",\"III - Central Luzon\",\"IVA - CALABARZON\",\"NCR\"],\"tags\":[[[\"Region\",\"Region\",null]]]},\"id\":\"41317\",\"type\":\"FactorRange\"},{\"attributes\":{},\"id\":\"41427\",\"type\":\"AllLabels\"},{\"attributes\":{},\"id\":\"41453\",\"type\":\"UnionRenderers\"},{\"attributes\":{\"end\":582768.7429999999,\"reset_end\":582768.7429999999,\"reset_start\":0.0,\"tags\":[[[\"value\",\"value\",null]]]},\"id\":\"41316\",\"type\":\"Range1d\"},{\"attributes\":{},\"id\":\"41329\",\"type\":\"BasicTicker\"},{\"attributes\":{},\"id\":\"41364\",\"type\":\"UnionRenderers\"},{\"attributes\":{\"source\":{\"id\":\"41414\"}},\"id\":\"41422\",\"type\":\"CDSView\"},{\"attributes\":{\"coordinates\":null,\"group\":null,\"text\":\"Ratio of Food Expenditure to Income\",\"text_color\":\"black\",\"text_font_size\":\"12pt\"},\"id\":\"41386\",\"type\":\"Title\"},{\"attributes\":{\"callback\":null,\"renderers\":[{\"id\":\"41355\"}],\"tags\":[\"hv_created\"],\"tooltips\":[[\"Region\",\"@{Region}\"],[\"Variable\",\"@{Variable}\"],[\"value\",\"@{value}\"]]},\"id\":\"41318\",\"type\":\"HoverTool\"},{\"attributes\":{},\"id\":\"41426\",\"type\":\"CategoricalTickFormatter\"},{\"attributes\":{},\"id\":\"41360\",\"type\":\"AllLabels\"},{\"attributes\":{\"fill_alpha\":{\"value\":1.0},\"fill_color\":{\"field\":\"Variable\",\"transform\":{\"id\":\"41348\"}},\"hatch_alpha\":{\"value\":1.0},\"hatch_color\":{\"field\":\"Variable\",\"transform\":{\"id\":\"41348\"}},\"hatch_scale\":{\"value\":12.0},\"hatch_weight\":{\"value\":1.0},\"height\":{\"value\":0.8},\"left\":{\"field\":\"bottom\"},\"line_alpha\":{\"value\":1.0},\"line_cap\":{\"value\":\"butt\"},\"line_color\":{\"value\":null},\"line_dash\":{\"value\":[]},\"line_dash_offset\":{\"value\":0},\"line_join\":{\"value\":\"bevel\"},\"line_width\":{\"value\":1},\"right\":{\"field\":\"top\"},\"y\":{\"field\":\"Region\"}},\"id\":\"41369\",\"type\":\"HBar\"},{\"attributes\":{},\"id\":\"41429\",\"type\":\"CategoricalTickFormatter\"},{\"attributes\":{\"factors\":[\"NCR\",\"CAR\",\"X - Northern Mindanao\",\"II - Cagayan Valley\",\"I - Ilocos Region\",\"IVA - CALABARZON\",\"XI - Davao Region\",\"III - Central Luzon\",\"IVB - MIMAROPA\",\"IX - Zasmboanga Peninsula\",\"VI - Western Visayas\",\"Caraga\",\"VIII - Eastern Visayas\",\"VII - Central Visayas\",\"V - Bicol Region\",\" ARMM\",\"XII - SOCCSKSARGEN\"],\"tags\":[[[\"index\",\"index\",null]]]},\"id\":\"41383\",\"type\":\"FactorRange\"},{\"attributes\":{},\"id\":\"41324\",\"type\":\"LinearScale\"},{\"attributes\":{},\"id\":\"41350\",\"type\":\"Selection\"},{\"attributes\":{},\"id\":\"41390\",\"type\":\"CategoricalScale\"},{\"attributes\":{\"callback\":null,\"renderers\":[{\"id\":\"41421\"}],\"tags\":[\"hv_created\"],\"tooltips\":[[\"columns\",\"@{columns}\"],[\"index\",\"@{index}\"],[\"value\",\"@{value}\"]]},\"id\":\"41384\",\"type\":\"HoverTool\"},{\"attributes\":{},\"id\":\"41359\",\"type\":\"CategoricalTickFormatter\"},{\"attributes\":{},\"id\":\"41339\",\"type\":\"ResetTool\"},{\"attributes\":{\"axis_label\":\"Region in the Philippines\",\"axis_label_text_font_size\":\"11.7px\",\"coordinates\":null,\"formatter\":{\"id\":\"41359\"},\"group\":null,\"group_text_font_size\":\"9.0pt\",\"major_label_policy\":{\"id\":\"41360\"},\"major_label_text_font_size\":\"9.0pt\",\"ticker\":{\"id\":\"41333\"}},\"id\":\"41332\",\"type\":\"CategoricalAxis\"},{\"attributes\":{\"axis\":{\"id\":\"41328\"},\"coordinates\":null,\"grid_line_color\":null,\"group\":null,\"ticker\":null},\"id\":\"41331\",\"type\":\"Grid\"},{\"attributes\":{\"fill_alpha\":{\"value\":0.1},\"fill_color\":{\"field\":\"zvalues\",\"transform\":{\"id\":\"41413\"}},\"hatch_alpha\":{\"value\":0.1},\"hatch_color\":{\"value\":\"darkorange\"},\"height\":{\"value\":1},\"line_alpha\":{\"value\":0},\"line_color\":{\"value\":\"darkorange\"},\"width\":{\"value\":1},\"x\":{\"field\":\"columns\"},\"y\":{\"field\":\"index\"}},\"id\":\"41418\",\"type\":\"Rect\"},{\"attributes\":{\"children\":[[{\"id\":\"41319\"},0,0],[{\"id\":\"41385\"},0,1]]},\"id\":\"41457\",\"type\":\"GridBox\"},{\"attributes\":{\"axis\":{\"id\":\"41394\"},\"coordinates\":null,\"grid_line_color\":null,\"group\":null,\"ticker\":null},\"id\":\"41396\",\"type\":\"Grid\"},{\"attributes\":{\"label\":{\"field\":\"Variable\"},\"renderers\":[{\"id\":\"41355\"}]},\"id\":\"41368\",\"type\":\"LegendItem\"},{\"attributes\":{},\"id\":\"41430\",\"type\":\"AllLabels\"},{\"attributes\":{\"data\":{\"columns\":[\"Food Percentage to Income\",\"Food Percentage to Income\",\"Food Percentage to Income\",\"Food Percentage to Income\",\"Food Percentage to Income\",\"Food Percentage to Income\",\"Food Percentage to Income\",\"Food Percentage to Income\",\"Food Percentage to Income\",\"Food Percentage to Income\",\"Food Percentage to Income\",\"Food Percentage to Income\",\"Food Percentage to Income\",\"Food Percentage to Income\",\"Food Percentage to Income\",\"Food Percentage to Income\",\"Food Percentage to Income\"],\"index\":[\"NCR\",\"CAR\",\"X - Northern Mindanao\",\"II - Cagayan Valley\",\"I - Ilocos Region\",\"IVA - CALABARZON\",\"XI - Davao Region\",\"III - Central Luzon\",\"IVB - MIMAROPA\",\"IX - Zasmboanga Peninsula\",\"VI - Western Visayas\",\"Caraga\",\"VIII - Eastern Visayas\",\"VII - Central Visayas\",\"V - Bicol Region\",\" ARMM\",\"XII - SOCCSKSARGEN\"],\"value\":[\"0.37\",\"0.4\",\"0.4\",\"0.4\",\"0.42\",\"0.42\",\"0.43\",\"0.43\",\"0.44\",\"0.44\",\"0.47\",\"0.47\",\"0.48\",\"0.51\",\"0.51\",\"0.54\",\"0.55\"],\"zvalues\":{\"__ndarray__\":\"rkfhehSu1z+amZmZmZnZP5qZmZmZmdk/mpmZmZmZ2T/hehSuR+HaP+F6FK5H4do/hetRuB6F2z+F61G4HoXbPylcj8L1KNw/KVyPwvUo3D8UrkfhehTePxSuR+F6FN4/uB6F61G43j9SuB6F61HgP1K4HoXrUeA/SOF6FK5H4T+amZmZmZnhPw==\",\"dtype\":\"float64\",\"order\":\"little\",\"shape\":[17]}},\"selected\":{\"id\":\"41415\"},\"selection_policy\":{\"id\":\"41453\"}},\"id\":\"41414\",\"type\":\"ColumnDataSource\"},{\"attributes\":{\"overlay\":{\"id\":\"41340\"}},\"id\":\"41338\",\"type\":\"BoxZoomTool\"},{\"attributes\":{\"active_drag\":{\"id\":\"41336\"},\"active_scroll\":{\"id\":\"41337\"},\"tools\":[{\"id\":\"41318\"},{\"id\":\"41335\"},{\"id\":\"41336\"},{\"id\":\"41337\"},{\"id\":\"41338\"},{\"id\":\"41339\"}]},\"id\":\"41341\",\"type\":\"Toolbar\"},{\"attributes\":{},\"id\":\"41333\",\"type\":\"CategoricalTicker\"},{\"attributes\":{\"axis_label\":\"Yearly Food Expenditure per Family\",\"axis_label_text_font_size\":\"11.7px\",\"coordinates\":null,\"formatter\":{\"id\":\"36159\"},\"group\":null,\"major_label_policy\":{\"id\":\"41363\"},\"major_label_text_font_size\":\"9.0pt\",\"ticker\":{\"id\":\"41329\"}},\"id\":\"41328\",\"type\":\"LinearAxis\"},{\"attributes\":{},\"id\":\"41326\",\"type\":\"CategoricalScale\"},{\"attributes\":{},\"id\":\"41398\",\"type\":\"CategoricalTicker\"},{\"attributes\":{},\"id\":\"41392\",\"type\":\"CategoricalScale\"},{\"attributes\":{\"fill_alpha\":{\"value\":0.1},\"fill_color\":{\"field\":\"Variable\",\"transform\":{\"id\":\"41348\"}},\"hatch_alpha\":{\"value\":0.1},\"hatch_color\":{\"field\":\"Variable\",\"transform\":{\"id\":\"41348\"}},\"height\":{\"value\":0.8},\"left\":{\"field\":\"bottom\"},\"line_alpha\":{\"value\":0.1},\"line_color\":{\"value\":null},\"right\":{\"field\":\"top\"},\"y\":{\"field\":\"Region\"}},\"id\":\"41353\",\"type\":\"HBar\"},{\"attributes\":{},\"id\":\"41401\",\"type\":\"PanTool\"},{\"attributes\":{},\"id\":\"41363\",\"type\":\"AllLabels\"},{\"attributes\":{},\"id\":\"41337\",\"type\":\"WheelZoomTool\"},{\"attributes\":{},\"id\":\"41404\",\"type\":\"ResetTool\"},{\"attributes\":{},\"id\":\"41423\",\"type\":\"BasicTicker\"},{\"attributes\":{\"source\":{\"id\":\"41349\"}},\"id\":\"41356\",\"type\":\"CDSView\"},{\"attributes\":{\"overlay\":{\"id\":\"41405\"}},\"id\":\"41403\",\"type\":\"BoxZoomTool\"},{\"attributes\":{},\"id\":\"41336\",\"type\":\"PanTool\"},{\"attributes\":{\"axis_label\":\"\",\"coordinates\":null,\"formatter\":{\"id\":\"41429\"},\"group\":null,\"major_label_policy\":{\"id\":\"41430\"},\"ticker\":{\"id\":\"41398\"}},\"id\":\"41397\",\"type\":\"CategoricalAxis\"},{\"attributes\":{\"fill_color\":{\"field\":\"Variable\",\"transform\":{\"id\":\"41348\"}},\"hatch_color\":{\"field\":\"Variable\",\"transform\":{\"id\":\"41348\"}},\"height\":{\"value\":0.8},\"left\":{\"field\":\"bottom\"},\"line_color\":{\"value\":null},\"right\":{\"field\":\"top\"},\"y\":{\"field\":\"Region\"}},\"id\":\"41352\",\"type\":\"HBar\"},{\"attributes\":{\"axis\":{\"id\":\"41332\"},\"coordinates\":null,\"dimension\":1,\"grid_line_color\":null,\"group\":null,\"ticker\":null},\"id\":\"41334\",\"type\":\"Grid\"},{\"attributes\":{\"children\":[{\"id\":\"41459\"},{\"id\":\"41457\"}]},\"id\":\"41460\",\"type\":\"Column\"},{\"attributes\":{\"bottom_units\":\"screen\",\"coordinates\":null,\"fill_alpha\":0.5,\"fill_color\":\"lightgrey\",\"group\":null,\"left_units\":\"screen\",\"level\":\"overlay\",\"line_alpha\":1.0,\"line_color\":\"black\",\"line_dash\":[4,4],\"line_width\":2,\"right_units\":\"screen\",\"syncable\":false,\"top_units\":\"screen\"},\"id\":\"41340\",\"type\":\"BoxAnnotation\"},{\"attributes\":{\"children\":[{\"id\":\"41460\"}],\"margin\":[0,0,0,0],\"name\":\"Row46046\",\"tags\":[\"embedded\"]},\"id\":\"41315\",\"type\":\"Row\"},{\"attributes\":{\"factors\":[\"Food Percentage to Income\"],\"tags\":[[[\"columns\",\"columns\",null]]]},\"id\":\"41382\",\"type\":\"FactorRange\"},{\"attributes\":{\"above\":[{\"id\":\"41367\"}],\"below\":[{\"id\":\"41328\"}],\"center\":[{\"id\":\"41331\"},{\"id\":\"41334\"},{\"id\":\"41367\"}],\"height\":700,\"left\":[{\"id\":\"41332\"}],\"margin\":null,\"min_border_bottom\":10,\"min_border_left\":10,\"min_border_right\":10,\"min_border_top\":10,\"renderers\":[{\"id\":\"41355\"}],\"sizing_mode\":\"fixed\",\"title\":{\"id\":\"41320\"},\"toolbar\":{\"id\":\"41341\"},\"toolbar_location\":null,\"width\":800,\"x_range\":{\"id\":\"41316\"},\"x_scale\":{\"id\":\"41324\"},\"y_range\":{\"id\":\"41317\"},\"y_scale\":{\"id\":\"41326\"}},\"id\":\"41319\",\"subtype\":\"Figure\",\"type\":\"Plot\"},{\"attributes\":{\"axis\":{\"id\":\"41397\"},\"coordinates\":null,\"dimension\":1,\"grid_line_color\":null,\"group\":null,\"ticker\":null},\"id\":\"41399\",\"type\":\"Grid\"},{\"attributes\":{\"fill_color\":{\"field\":\"zvalues\",\"transform\":{\"id\":\"41413\"}},\"hatch_color\":{\"value\":\"darkorange\"},\"height\":{\"value\":1},\"line_alpha\":{\"value\":0},\"line_color\":{\"value\":\"darkorange\"},\"width\":{\"value\":1},\"x\":{\"field\":\"columns\"},\"y\":{\"field\":\"index\"}},\"id\":\"41417\",\"type\":\"Rect\"},{\"attributes\":{\"active_drag\":{\"id\":\"41401\"},\"active_scroll\":{\"id\":\"41402\"},\"tools\":[{\"id\":\"41384\"},{\"id\":\"41400\"},{\"id\":\"41401\"},{\"id\":\"41402\"},{\"id\":\"41403\"},{\"id\":\"41404\"}]},\"id\":\"41406\",\"type\":\"Toolbar\"},{\"attributes\":{},\"id\":\"41335\",\"type\":\"SaveTool\"},{\"attributes\":{},\"id\":\"41395\",\"type\":\"CategoricalTicker\"},{\"attributes\":{\"coordinates\":null,\"group\":null,\"text\":\"Regions in the Philippines sorted by \\nAverage Yearly Food Expenditure and Average Income\",\"text_color\":\"black\",\"text_font_size\":\"10.8pt\"},\"id\":\"41320\",\"type\":\"Title\"},{\"attributes\":{\"bar_line_color\":\"black\",\"color_mapper\":{\"id\":\"41413\"},\"coordinates\":null,\"group\":null,\"label_standoff\":8,\"location\":[0,0],\"major_label_policy\":{\"id\":\"41449\"},\"major_tick_line_color\":\"black\",\"ticker\":{\"id\":\"41423\"}},\"id\":\"41424\",\"type\":\"ColorBar\"},{\"attributes\":{\"data\":{\"Region\":[\"X - Northern Mindanao\",\"IVA - CALABARZON\",\"III - Central Luzon\",\"VII - Central Visayas\",\"XI - Davao Region\",\"I - Ilocos Region\",\"CAR\",\"VI - Western Visayas\",\"NCR\",\"II - Cagayan Valley\",\"Caraga\",\"XII - SOCCSKSARGEN\",\"IVB - MIMAROPA\",\"VIII - Eastern Visayas\",\"IX - Zasmboanga Peninsula\",\" ARMM\",\"V - Bicol Region\",\"III - Central Luzon\",\"VII - Central Visayas\",\"XI - Davao Region\",\"I - Ilocos Region\",\"CAR\",\"VI - Western Visayas\",\"V - Bicol Region\",\"IVB - MIMAROPA\",\"Caraga\",\"XII - SOCCSKSARGEN\",\"VIII - Eastern Visayas\",\"IX - Zasmboanga Peninsula\",\" ARMM\",\"X - Northern Mindanao\",\"IVA - CALABARZON\",\"II - Cagayan Valley\",\"NCR\"],\"Variable\":[\"Total Food Expenditure\",\"Total Food Expenditure\",\"Total Food Expenditure\",\"Total Food Expenditure\",\"Total Food Expenditure\",\"Total Food Expenditure\",\"Total Food Expenditure\",\"Total Food Expenditure\",\"Total Food Expenditure\",\"Total Food Expenditure\",\"Total Food Expenditure\",\"Total Food Expenditure\",\"Total Food Expenditure\",\"Total Food Expenditure\",\"Total Food Expenditure\",\"Total Food Expenditure\",\"Total Food Expenditure\",\"Total Household Income\",\"Total Household Income\",\"Total Household Income\",\"Total Household Income\",\"Total Household Income\",\"Total Household Income\",\"Total Household Income\",\"Total Household Income\",\"Total Household Income\",\"Total Household Income\",\"Total Household Income\",\"Total Household Income\",\"Total Household Income\",\"Total Household Income\",\"Total Household Income\",\"Total Household Income\",\"Total Household Income\"],\"bottom\":{\"__ndarray__\":\"AAAAAAAAAAAAAAAAAAAAAAAAAAAAAAAAAAAAAAAAAAAAAAAAAAAAAAAAAAAAAAAAAAAAAAAAAAAAAAAAAAAAAAAAAAAAAAAAAAAAAAAAAAAAAAAAAAAAAAAAAAAAAAAAAAAAAAAAAAAAAAAAAAAAAAAAAAAAAAAAAAAAAAAAAAAAAAAAAAAAADMzMzPrWPhAFK5H4TKV9EAUrkfhbs7zQKRwPQqfsPNArkfhegye80CuR+F6UH3zQPYoXI+2wPJAPQrXo4RG8UD2KFyPio7xQArXo3Chg/FAFK5H4Z4M8UDsUbge1QDxQD0K16NotO9AFK5H4RJO70AzMzMzX7f5QClcj8JFdfJAw/UoXIcG/0A=\",\"dtype\":\"float64\",\"order\":\"little\",\"shape\":[34]},\"top\":{\"__ndarray__\":\"FK5H4RJO70AzMzMzX7f5QDMzMzPrWPhAFK5H4TKV9EAUrkfhbs7zQKRwPQqfsPNArkfhegye80CuR+F6UH3zQMP1KFyHBv9AKVyPwkV18kD2KFyPio7xQArXo3Chg/FAPQrXo4RG8UAUrkfhngzxQOxRuB7VAPFAPQrXo2i070D2KFyPtsDyQFK4HoXP9xdBXI/C9cF7E0F7FK5HK3wTQUjhehSgdBNBpHA9ChVbFUGQwvUoWVQSQZqZmZkTDBBBPQrXo1WLEUGQwvUoUGgQQetRuB4XGA9BpHA9CipFEEFxPQrXMdEPQYXrUbjwXwhBrkfhemn6EEFcj8L12fEYQR+F61H6EBNBPQrXo8y4IEE=\",\"dtype\":\"float64\",\"order\":\"little\",\"shape\":[34]},\"value\":{\"__ndarray__\":\"FK5H4RJO70AzMzMzX7f5QDMzMzPrWPhAFK5H4TKV9EAUrkfhbs7zQKRwPQqfsPNArkfhegye80CuR+F6UH3zQMP1KFyHBv9AKVyPwkV18kD2KFyPio7xQArXo3Chg/FAPQrXo4RG8UAUrkfhngzxQOxRuB7VAPFAPQrXo2i070D2KFyPtsDyQIXrUbiU4RFBrkfheuqsDEHsUbgeHxENQT0K16PwEA1BuB6F65FzEEFI4XoUCuoKQbgehevLtwZBXI/C9WhzCkGkcD0KWwkIQWZmZmZGVgZBPQrXowQECEF7FK5Hx1AHQfYoXI/WcgBB16NwPU4hCkGPwvUoAoQSQSlcj8JR5wxBCtejcPevGUE=\",\"dtype\":\"float64\",\"order\":\"little\",\"shape\":[34]}},\"selected\":{\"id\":\"41350\"},\"selection_policy\":{\"id\":\"41364\"}},\"id\":\"41349\",\"type\":\"ColumnDataSource\"},{\"attributes\":{\"below\":[{\"id\":\"41394\"}],\"center\":[{\"id\":\"41396\"},{\"id\":\"41399\"}],\"height\":700,\"left\":[{\"id\":\"41397\"}],\"margin\":null,\"min_border_bottom\":10,\"min_border_left\":10,\"min_border_right\":10,\"min_border_top\":10,\"renderers\":[{\"id\":\"41421\"}],\"right\":[{\"id\":\"41424\"}],\"sizing_mode\":\"fixed\",\"title\":{\"id\":\"41386\"},\"toolbar\":{\"id\":\"41406\"},\"toolbar_location\":null,\"width\":700,\"x_range\":{\"id\":\"41382\"},\"x_scale\":{\"id\":\"41390\"},\"y_range\":{\"id\":\"41383\"},\"y_scale\":{\"id\":\"41392\"}},\"id\":\"41385\",\"subtype\":\"Figure\",\"type\":\"Plot\"},{\"attributes\":{\"high\":0.55,\"low\":0.37,\"nan_color\":\"white\",\"palette\":[\"#b3fef5\",\"#b0fef5\",\"#adfdf5\",\"#a9fcf5\",\"#a6fbf6\",\"#a3faf6\",\"#a0faf6\",\"#9df9f6\",\"#9af8f6\",\"#97f7f6\",\"#93f7f6\",\"#90f6f6\",\"#8df5f6\",\"#8af4f7\",\"#87f3f7\",\"#83f2f7\",\"#80f2f7\",\"#7df1f7\",\"#79f0f7\",\"#76eff7\",\"#73eef7\",\"#6fedf8\",\"#6cecf8\",\"#68ecf8\",\"#65ebf8\",\"#61eaf8\",\"#5ee9f8\",\"#5ae8f8\",\"#57e7f8\",\"#53e6f8\",\"#50e5f9\",\"#4ce4f9\",\"#49e3f9\",\"#45e2f9\",\"#42e1f9\",\"#3ee0f9\",\"#3bdff9\",\"#38def9\",\"#35ddf9\",\"#32dcf9\",\"#30dbfa\",\"#2ed9fa\",\"#2dd8fa\",\"#2cd7fa\",\"#2bd6fa\",\"#2bd5fa\",\"#2ad3fa\",\"#2ad2fa\",\"#29d1fa\",\"#29d0fb\",\"#29cffb\",\"#28cdfb\",\"#28ccfb\",\"#28cbfb\",\"#28cafb\",\"#28c8fb\",\"#28c7fb\",\"#29c6fb\",\"#29c5fb\",\"#29c4fb\",\"#29c2fb\",\"#2ac1fb\",\"#2ac0fb\",\"#2bbffb\",\"#2bbdfc\",\"#2cbcfc\",\"#2dbbfc\",\"#2db9fc\",\"#2eb8fc\",\"#2fb7fc\",\"#2fb6fc\",\"#30b4fc\",\"#31b3fc\",\"#32b2fc\",\"#32b0fc\",\"#33affc\",\"#33aefc\",\"#34adfc\",\"#34abfc\",\"#34aafc\",\"#35a9fc\",\"#35a8fc\",\"#35a6fc\",\"#35a5fc\",\"#35a4fc\",\"#35a3fc\",\"#35a1fc\",\"#35a0fc\",\"#359ffc\",\"#359dfc\",\"#359cfc\",\"#359bfc\",\"#349afd\",\"#3498fd\",\"#3497fd\",\"#3396fd\",\"#3395fd\",\"#3293fd\",\"#3292fd\",\"#3191fd\",\"#3090fd\",\"#308ffd\",\"#2f8dfd\",\"#2f8cfd\",\"#2e8bfd\",\"#2e8afd\",\"#2d88fd\",\"#2d87fd\",\"#2c86fd\",\"#2c84fd\",\"#2c83fd\",\"#2c82fd\",\"#2b81fd\",\"#2b7ffd\",\"#2b7efd\",\"#2b7dfd\",\"#2b7bfd\",\"#2b7afd\",\"#2b79fd\",\"#2b77fd\",\"#2b76fd\",\"#2b75fd\",\"#2b73fd\",\"#2c72fd\",\"#2c71fd\",\"#2c6ffd\",\"#2c6efd\",\"#2d6cfd\",\"#2d6bfd\",\"#2d6afc\",\"#2e68fc\",\"#2e67fc\",\"#2e65fc\",\"#2e64fc\",\"#2f62fc\",\"#2f61fc\",\"#2f5ffc\",\"#2f5efc\",\"#2f5dfc\",\"#2f5bfc\",\"#2f5afc\",\"#2f58fb\",\"#2f57fb\",\"#2f55fb\",\"#2f53fb\",\"#2f52fb\",\"#2f50fb\",\"#2f4ffb\",\"#2f4dfb\",\"#2e4cfb\",\"#2e4afb\",\"#2e48fb\",\"#2e47fa\",\"#2d45fa\",\"#2d43fa\",\"#2d42fa\",\"#2d40fa\",\"#2c3efa\",\"#2c3dfa\",\"#2b3bf9\",\"#2b39f9\",\"#2a37f9\",\"#2a36f8\",\"#2934f8\",\"#2832f7\",\"#2831f7\",\"#272ff6\",\"#262ef5\",\"#252cf5\",\"#252af4\",\"#2429f3\",\"#2327f2\",\"#2226f1\",\"#2124f0\",\"#2023ef\",\"#1f22ee\",\"#1e20ed\",\"#1d1feb\",\"#1c1eea\",\"#1b1ce9\",\"#1a1be7\",\"#181ae6\",\"#1719e5\",\"#1618e3\",\"#1417e1\",\"#1316e0\",\"#1215de\",\"#1014dc\",\"#0f13db\",\"#0e12d9\",\"#0d11d7\",\"#0c10d5\",\"#0b0fd3\",\"#0a0ed1\",\"#090dd0\",\"#080dce\",\"#080ccc\",\"#070bca\",\"#070ac8\",\"#0709c6\",\"#0708c4\",\"#0707c2\",\"#0707bf\",\"#0806bd\",\"#0806bb\",\"#0905b9\",\"#0904b7\",\"#0a04b5\",\"#0a04b2\",\"#0b03b0\",\"#0c03ae\",\"#0d02ab\",\"#0e02a9\",\"#0e02a7\",\"#0f02a4\",\"#0f01a2\",\"#1001a0\",\"#10019d\",\"#10019b\",\"#100199\",\"#100197\",\"#100194\",\"#0f0192\",\"#0f0190\",\"#0f018e\",\"#0e018b\",\"#0e0189\",\"#0d0187\",\"#0d0185\",\"#0c0183\",\"#0b0181\",\"#0b017e\",\"#0a017c\",\"#09017a\",\"#090178\",\"#080276\",\"#070274\",\"#060272\",\"#060270\",\"#05026e\",\"#04026c\",\"#030269\",\"#030267\",\"#020265\",\"#010263\",\"#010261\",\"#00025f\",\"#00025d\",\"#00025b\",\"#000259\",\"#000257\",\"#000255\",\"#000154\",\"#000152\",\"#000150\",\"#00004e\"]},\"id\":\"41413\",\"type\":\"LinearColorMapper\"},{\"attributes\":{\"coordinates\":null,\"data_source\":{\"id\":\"41414\"},\"glyph\":{\"id\":\"41417\"},\"group\":null,\"hover_glyph\":null,\"muted_glyph\":{\"id\":\"41420\"},\"nonselection_glyph\":{\"id\":\"41418\"},\"selection_glyph\":{\"id\":\"41419\"},\"view\":{\"id\":\"41422\"}},\"id\":\"41421\",\"type\":\"GlyphRenderer\"},{\"attributes\":{\"toolbar\":{\"id\":\"41458\"},\"toolbar_location\":\"above\"},\"id\":\"41459\",\"type\":\"ToolbarBox\"},{\"attributes\":{\"bottom_units\":\"screen\",\"coordinates\":null,\"fill_alpha\":0.5,\"fill_color\":\"lightgrey\",\"group\":null,\"left_units\":\"screen\",\"level\":\"overlay\",\"line_alpha\":1.0,\"line_color\":\"black\",\"line_dash\":[4,4],\"line_width\":2,\"right_units\":\"screen\",\"syncable\":false,\"top_units\":\"screen\"},\"id\":\"41405\",\"type\":\"BoxAnnotation\"},{\"attributes\":{},\"id\":\"41415\",\"type\":\"Selection\"}],\"root_ids\":[\"41315\"]},\"title\":\"Bokeh Application\",\"version\":\"2.4.3\"}};\n",
       "    var render_items = [{\"docid\":\"a164446c-5b59-44d0-8e35-ae2aff36a7bb\",\"root_ids\":[\"41315\"],\"roots\":{\"41315\":\"5e3d245b-f60f-49cd-8d55-ecb8f0d90773\"}}];\n",
       "    root.Bokeh.embed.embed_items_notebook(docs_json, render_items);\n",
       "    for (const render_item of render_items) {\n",
       "      for (const root_id of render_item.root_ids) {\n",
       "\tconst id_el = document.getElementById(root_id)\n",
       "\tif (id_el.children.length && (id_el.children[0].className === 'bk-root')) {\n",
       "\t  const root_el = id_el.children[0]\n",
       "\t  root_el.id = root_el.id + '-rendered'\n",
       "\t}\n",
       "      }\n",
       "    }\n",
       "  }\n",
       "  if (root.Bokeh !== undefined && root.Bokeh.Panel !== undefined) {\n",
       "    embed_document(root);\n",
       "  } else {\n",
       "    var attempts = 0;\n",
       "    var timer = setInterval(function(root) {\n",
       "      if (root.Bokeh !== undefined && root.Bokeh.Panel !== undefined) {\n",
       "        clearInterval(timer);\n",
       "        embed_document(root);\n",
       "      } else if (document.readyState == \"complete\") {\n",
       "        attempts++;\n",
       "        if (attempts > 200) {\n",
       "          clearInterval(timer);\n",
       "          console.log(\"Bokeh: ERROR: Unable to run BokehJS code because BokehJS library is missing\");\n",
       "        }\n",
       "      }\n",
       "    }, 25, root)\n",
       "  }\n",
       "})(window);</script>"
      ],
      "text/plain": [
       ":Layout\n",
       "   .Bars.I    :Bars   [Region,Variable]   (value)\n",
       "   .HeatMap.I :HeatMap   [columns,index]   (value)"
      ]
     },
     "execution_count": 368,
     "metadata": {
      "application/vnd.holoviews_exec.v0+json": {
       "id": "41315"
      }
     },
     "output_type": "execute_result"
    }
   ],
   "source": [
    "# adding the food to income ratio heading\n",
    "dataset[\"Food Percentage to Income\"] = dataset[\"Total Food Expenditure\"] / dataset[\"Total Household Income\"]\n",
    "# ratio of food to income\n",
    "res = dataset.groupby(by=\"Region\")[[\"Food Percentage to Income\"]].mean().sort_values(by=\"Food Percentage to Income\").round(2)\n",
    "\n",
    "total_food = dataset.groupby(\"Region\")[[\"Total Food Expenditure\", \"Total Household Income\"]].mean().round(2).sort_values(by=[\"Total Food Expenditure\", \"Total Household Income\"])\n",
    "\n",
    "total_food.hvplot.barh(title=\"Regions in the Philippines sorted by \\nAverage Yearly Food Expenditure and Average Income\",color=[\"pink\", \"darkgreen\"],\\\n",
    "                        fontscale=0.9, height=700,width=800, xformatter=formatter, line_color=None,\\\n",
    "                        ylabel=\"Yearly Food Expenditure per Family\", xlabel=\"Region in the Philippines\",\\\n",
    "                        fontsize={'xticks': 10, 'yticks': 10}, stacked=True, legend=\"top\") + res.hvplot.heatmap(title=\"Ratio of Food Expenditure to Income\", height=700, color=\"darkorange\")\n"
   ]
  },
  {
   "attachments": {},
   "cell_type": "markdown",
   "metadata": {},
   "source": [
    "3. What are the main sources of income in the country? Per region?"
   ]
  },
  {
   "cell_type": "code",
   "execution_count": 327,
   "metadata": {},
   "outputs": [
    {
     "data": {},
     "metadata": {},
     "output_type": "display_data"
    },
    {
     "data": {
      "application/vnd.holoviews_exec.v0+json": "",
      "text/html": [
       "<div id='36418'>\n",
       "  <div class=\"bk-root\" id=\"3a9c78a3-5552-4b15-b392-d0da8a09a109\" data-root-id=\"36418\"></div>\n",
       "</div>\n",
       "<script type=\"application/javascript\">(function(root) {\n",
       "  function embed_document(root) {\n",
       "    var docs_json = {\"c7bab57c-8574-42c6-a4f1-e7c0b036a456\":{\"defs\":[{\"extends\":null,\"module\":null,\"name\":\"ReactiveHTML1\",\"overrides\":[],\"properties\":[]},{\"extends\":null,\"module\":null,\"name\":\"FlexBox1\",\"overrides\":[],\"properties\":[{\"default\":\"flex-start\",\"kind\":null,\"name\":\"align_content\"},{\"default\":\"flex-start\",\"kind\":null,\"name\":\"align_items\"},{\"default\":\"row\",\"kind\":null,\"name\":\"flex_direction\"},{\"default\":\"wrap\",\"kind\":null,\"name\":\"flex_wrap\"},{\"default\":\"flex-start\",\"kind\":null,\"name\":\"justify_content\"}]},{\"extends\":null,\"module\":null,\"name\":\"GridStack1\",\"overrides\":[],\"properties\":[{\"default\":\"warn\",\"kind\":null,\"name\":\"mode\"},{\"default\":null,\"kind\":null,\"name\":\"ncols\"},{\"default\":null,\"kind\":null,\"name\":\"nrows\"},{\"default\":true,\"kind\":null,\"name\":\"allow_resize\"},{\"default\":true,\"kind\":null,\"name\":\"allow_drag\"},{\"default\":[],\"kind\":null,\"name\":\"state\"}]},{\"extends\":null,\"module\":null,\"name\":\"click1\",\"overrides\":[],\"properties\":[{\"default\":\"\",\"kind\":null,\"name\":\"terminal_output\"},{\"default\":\"\",\"kind\":null,\"name\":\"debug_name\"},{\"default\":0,\"kind\":null,\"name\":\"clears\"}]},{\"extends\":null,\"module\":null,\"name\":\"NotificationAreaBase1\",\"overrides\":[],\"properties\":[{\"default\":\"bottom-right\",\"kind\":null,\"name\":\"position\"},{\"default\":0,\"kind\":null,\"name\":\"_clear\"}]},{\"extends\":null,\"module\":null,\"name\":\"NotificationArea1\",\"overrides\":[],\"properties\":[{\"default\":[],\"kind\":null,\"name\":\"notifications\"},{\"default\":\"bottom-right\",\"kind\":null,\"name\":\"position\"},{\"default\":0,\"kind\":null,\"name\":\"_clear\"},{\"default\":[{\"background\":\"#ffc107\",\"icon\":{\"className\":\"fas fa-exclamation-triangle\",\"color\":\"white\",\"tagName\":\"i\"},\"type\":\"warning\"},{\"background\":\"#007bff\",\"icon\":{\"className\":\"fas fa-info-circle\",\"color\":\"white\",\"tagName\":\"i\"},\"type\":\"info\"}],\"kind\":null,\"name\":\"types\"}]},{\"extends\":null,\"module\":null,\"name\":\"Notification\",\"overrides\":[],\"properties\":[{\"default\":null,\"kind\":null,\"name\":\"background\"},{\"default\":3000,\"kind\":null,\"name\":\"duration\"},{\"default\":null,\"kind\":null,\"name\":\"icon\"},{\"default\":\"\",\"kind\":null,\"name\":\"message\"},{\"default\":null,\"kind\":null,\"name\":\"notification_type\"},{\"default\":false,\"kind\":null,\"name\":\"_destroyed\"}]},{\"extends\":null,\"module\":null,\"name\":\"TemplateActions1\",\"overrides\":[],\"properties\":[{\"default\":0,\"kind\":null,\"name\":\"open_modal\"},{\"default\":0,\"kind\":null,\"name\":\"close_modal\"}]},{\"extends\":null,\"module\":null,\"name\":\"MaterialTemplateActions1\",\"overrides\":[],\"properties\":[{\"default\":0,\"kind\":null,\"name\":\"open_modal\"},{\"default\":0,\"kind\":null,\"name\":\"close_modal\"}]}],\"roots\":{\"references\":[{\"attributes\":{\"children\":[{\"id\":\"36558\"},{\"id\":\"36556\"}]},\"id\":\"36559\",\"type\":\"Column\"},{\"attributes\":{},\"id\":\"36438\",\"type\":\"SaveTool\"},{\"attributes\":{},\"id\":\"36442\",\"type\":\"ResetTool\"},{\"attributes\":{},\"id\":\"36486\",\"type\":\"BasicTicker\"},{\"attributes\":{\"below\":[{\"id\":\"36431\"}],\"center\":[{\"id\":\"36433\"},{\"id\":\"36437\"}],\"height\":700,\"left\":[{\"id\":\"36434\"}],\"margin\":null,\"min_border_bottom\":10,\"min_border_left\":10,\"min_border_right\":10,\"min_border_top\":10,\"renderers\":[{\"id\":\"36457\"}],\"sizing_mode\":\"fixed\",\"title\":{\"id\":\"36423\"},\"toolbar\":{\"id\":\"36444\"},\"toolbar_location\":null,\"width\":700,\"x_range\":{\"id\":\"36419\"},\"x_scale\":{\"id\":\"36427\"},\"y_range\":{\"id\":\"36420\"},\"y_scale\":{\"id\":\"36429\"}},\"id\":\"36422\",\"subtype\":\"Figure\",\"type\":\"Plot\"},{\"attributes\":{\"axis\":{\"id\":\"36434\"},\"coordinates\":null,\"dimension\":1,\"grid_line_color\":null,\"group\":null,\"ticker\":null},\"id\":\"36437\",\"type\":\"Grid\"},{\"attributes\":{\"callback\":null,\"renderers\":[{\"id\":\"36509\"}],\"tags\":[\"hv_created\"],\"tooltips\":[[\"Region\",\"@{Region}\"],[\"Main Source of Income\",\"@{Main_Source_of_Income}\"],[\"0\",\"@{A_0}\"]]},\"id\":\"36472\",\"type\":\"HoverTool\"},{\"attributes\":{},\"id\":\"36464\",\"type\":\"BasicTickFormatter\"},{\"attributes\":{},\"id\":\"36429\",\"type\":\"LinearScale\"},{\"attributes\":{},\"id\":\"36483\",\"type\":\"CategoricalTicker\"},{\"attributes\":{\"axis_label\":\"0\",\"coordinates\":null,\"formatter\":{\"id\":\"36513\"},\"group\":null,\"major_label_policy\":{\"id\":\"36514\"},\"ticker\":{\"id\":\"36486\"}},\"id\":\"36485\",\"type\":\"LinearAxis\"},{\"attributes\":{\"axis\":{\"id\":\"36431\"},\"coordinates\":null,\"grid_line_color\":null,\"group\":null,\"ticker\":null},\"id\":\"36433\",\"type\":\"Grid\"},{\"attributes\":{\"axis_label\":\"Region\",\"coordinates\":null,\"formatter\":{\"id\":\"36516\"},\"group\":null,\"major_label_orientation\":0.4363323129985824,\"major_label_policy\":{\"id\":\"36517\"},\"ticker\":{\"id\":\"36483\"}},\"id\":\"36482\",\"type\":\"CategoricalAxis\"},{\"attributes\":{},\"id\":\"36491\",\"type\":\"WheelZoomTool\"},{\"attributes\":{\"overlay\":{\"id\":\"36494\"}},\"id\":\"36492\",\"type\":\"BoxZoomTool\"},{\"attributes\":{},\"id\":\"36461\",\"type\":\"CategoricalTickFormatter\"},{\"attributes\":{\"source\":{\"id\":\"36503\"}},\"id\":\"36510\",\"type\":\"CDSView\"},{\"attributes\":{\"bottom\":{\"value\":0},\"fill_alpha\":{\"value\":1.0},\"fill_color\":{\"value\":\"#30a2da\"},\"hatch_alpha\":{\"value\":1.0},\"hatch_color\":{\"value\":\"#30a2da\"},\"hatch_scale\":{\"value\":12.0},\"hatch_weight\":{\"value\":1.0},\"line_alpha\":{\"value\":1.0},\"line_cap\":{\"value\":\"butt\"},\"line_color\":{\"value\":\"black\"},\"line_dash\":{\"value\":[]},\"line_dash_offset\":{\"value\":0},\"line_join\":{\"value\":\"bevel\"},\"line_width\":{\"value\":1},\"top\":{\"field\":\"Count\"},\"width\":{\"value\":0.8},\"x\":{\"field\":\"Main_Source_of_Income\"}},\"id\":\"36459\",\"type\":\"VBar\"},{\"attributes\":{},\"id\":\"36517\",\"type\":\"AllLabels\"},{\"attributes\":{\"source\":{\"id\":\"36451\"}},\"id\":\"36458\",\"type\":\"CDSView\"},{\"attributes\":{\"toolbars\":[{\"id\":\"36444\"},{\"id\":\"36495\"}],\"tools\":[{\"id\":\"36421\"},{\"id\":\"36438\"},{\"id\":\"36439\"},{\"id\":\"36440\"},{\"id\":\"36441\"},{\"id\":\"36442\"},{\"id\":\"36472\"},{\"id\":\"36489\"},{\"id\":\"36490\"},{\"id\":\"36491\"},{\"id\":\"36492\"},{\"id\":\"36493\"}]},\"id\":\"36557\",\"type\":\"ProxyToolbar\"},{\"attributes\":{\"end\":21394.8,\"reset_end\":21394.8,\"reset_start\":0.0,\"tags\":[[[\"Count\",\"Count\",null]]]},\"id\":\"36420\",\"type\":\"Range1d\"},{\"attributes\":{},\"id\":\"36432\",\"type\":\"CategoricalTicker\"},{\"attributes\":{},\"id\":\"36435\",\"type\":\"BasicTicker\"},{\"attributes\":{\"children\":[[{\"id\":\"36422\"},0,0],[{\"id\":\"36473\"},0,1]]},\"id\":\"36556\",\"type\":\"GridBox\"},{\"attributes\":{\"bottom_units\":\"screen\",\"coordinates\":null,\"fill_alpha\":0.5,\"fill_color\":\"lightgrey\",\"group\":null,\"left_units\":\"screen\",\"level\":\"overlay\",\"line_alpha\":1.0,\"line_color\":\"black\",\"line_dash\":[4,4],\"line_width\":2,\"right_units\":\"screen\",\"syncable\":false,\"top_units\":\"screen\"},\"id\":\"36443\",\"type\":\"BoxAnnotation\"},{\"attributes\":{\"factors\":[\"Wage/Salaries\",\"Other sources of Income\",\"Enterpreneurial Activities\"],\"tags\":[[[\"Main Source of Income\",\"Main Source of Income\",null]]]},\"id\":\"36419\",\"type\":\"FactorRange\"},{\"attributes\":{},\"id\":\"36452\",\"type\":\"Selection\"},{\"attributes\":{\"coordinates\":null,\"group\":null,\"text_color\":\"black\",\"text_font_size\":\"12pt\"},\"id\":\"36423\",\"type\":\"Title\"},{\"attributes\":{\"callback\":null,\"renderers\":[{\"id\":\"36457\"}],\"tags\":[\"hv_created\"],\"tooltips\":[[\"Main Source of Income\",\"@{Main_Source_of_Income}\"],[\"Count\",\"@{Count}\"]]},\"id\":\"36421\",\"type\":\"HoverTool\"},{\"attributes\":{\"coordinates\":null,\"data_source\":{\"id\":\"36451\"},\"glyph\":{\"id\":\"36454\"},\"group\":null,\"hover_glyph\":null,\"muted_glyph\":{\"id\":\"36456\"},\"nonselection_glyph\":{\"id\":\"36455\"},\"selection_glyph\":{\"id\":\"36459\"},\"view\":{\"id\":\"36458\"}},\"id\":\"36457\",\"type\":\"GlyphRenderer\"},{\"attributes\":{},\"id\":\"36465\",\"type\":\"AllLabels\"},{\"attributes\":{\"coordinates\":null,\"data_source\":{\"id\":\"36503\"},\"glyph\":{\"id\":\"36506\"},\"group\":null,\"hover_glyph\":null,\"muted_glyph\":{\"id\":\"36508\"},\"nonselection_glyph\":{\"id\":\"36507\"},\"selection_glyph\":{\"id\":\"36523\"},\"view\":{\"id\":\"36510\"}},\"id\":\"36509\",\"type\":\"GlyphRenderer\"},{\"attributes\":{\"fill_alpha\":{\"value\":0.2},\"fill_color\":{\"value\":\"#30a2da\"},\"hatch_alpha\":{\"value\":0.2},\"hatch_color\":{\"value\":\"#30a2da\"},\"line_alpha\":{\"value\":0.2},\"top\":{\"field\":\"Count\"},\"width\":{\"value\":0.8},\"x\":{\"field\":\"Main_Source_of_Income\"}},\"id\":\"36456\",\"type\":\"VBar\"},{\"attributes\":{\"coordinates\":null,\"group\":null,\"text_color\":\"black\",\"text_font_size\":\"12pt\"},\"id\":\"36474\",\"type\":\"Title\"},{\"attributes\":{\"active_drag\":{\"id\":\"36490\"},\"active_scroll\":{\"id\":\"36491\"},\"tools\":[{\"id\":\"36472\"},{\"id\":\"36489\"},{\"id\":\"36490\"},{\"id\":\"36491\"},{\"id\":\"36492\"},{\"id\":\"36493\"}]},\"id\":\"36495\",\"type\":\"Toolbar\"},{\"attributes\":{},\"id\":\"36480\",\"type\":\"LinearScale\"},{\"attributes\":{\"data\":{\"A_0\":[1753,517,401,584,675,544,578,469,546,619,427,481,648,442,620,457,559,814,773,506,972,465,866,797,476,481,338,127,1021,531,819,532,406,912,748,1322,368,995,752,977,1299,510,979,1335,1068,1022,1840,2816,2466,895,996],\"Main_Source_of_Income\":[\"Enterpreneurial Activities\",\"Enterpreneurial Activities\",\"Enterpreneurial Activities\",\"Enterpreneurial Activities\",\"Enterpreneurial Activities\",\"Enterpreneurial Activities\",\"Enterpreneurial Activities\",\"Enterpreneurial Activities\",\"Enterpreneurial Activities\",\"Enterpreneurial Activities\",\"Enterpreneurial Activities\",\"Enterpreneurial Activities\",\"Enterpreneurial Activities\",\"Enterpreneurial Activities\",\"Enterpreneurial Activities\",\"Enterpreneurial Activities\",\"Enterpreneurial Activities\",\"Other sources of Income\",\"Other sources of Income\",\"Other sources of Income\",\"Other sources of Income\",\"Other sources of Income\",\"Other sources of Income\",\"Other sources of Income\",\"Other sources of Income\",\"Other sources of Income\",\"Other sources of Income\",\"Other sources of Income\",\"Other sources of Income\",\"Other sources of Income\",\"Other sources of Income\",\"Other sources of Income\",\"Other sources of Income\",\"Other sources of Income\",\"Wage/Salaries\",\"Wage/Salaries\",\"Wage/Salaries\",\"Wage/Salaries\",\"Wage/Salaries\",\"Wage/Salaries\",\"Wage/Salaries\",\"Wage/Salaries\",\"Wage/Salaries\",\"Wage/Salaries\",\"Wage/Salaries\",\"Wage/Salaries\",\"Wage/Salaries\",\"Wage/Salaries\",\"Wage/Salaries\",\"Wage/Salaries\",\"Wage/Salaries\"],\"Region\":[\" ARMM\",\"NCR\",\"IVB - MIMAROPA\",\"V - Bicol Region\",\"IVA - CALABARZON\",\"VI - Western Visayas\",\"III - Central Luzon\",\"VII - Central Visayas\",\"VIII - Eastern Visayas\",\"II - Cagayan Valley\",\"X - Northern Mindanao\",\"Caraga\",\"XI - Davao Region\",\"CAR\",\"XII - SOCCSKSARGEN\",\"I - Ilocos Region\",\"IX - Zasmboanga Peninsula\",\"VIII - Eastern Visayas\",\"VII - Central Visayas\",\"XII - SOCCSKSARGEN\",\"VI - Western Visayas\",\"X - Northern Mindanao\",\"V - Bicol Region\",\"NCR\",\"XI - Davao Region\",\"IX - Zasmboanga Peninsula\",\"IVB - MIMAROPA\",\" ARMM\",\"IVA - CALABARZON\",\"CAR\",\"III - Central Luzon\",\"II - Cagayan Valley\",\"Caraga\",\"I - Ilocos Region\",\"IX - Zasmboanga Peninsula\",\"XI - Davao Region\",\" ARMM\",\"X - Northern Mindanao\",\"CAR\",\"VIII - Eastern Visayas\",\"VII - Central Visayas\",\"IVB - MIMAROPA\",\"I - Ilocos Region\",\"VI - Western Visayas\",\"II - Cagayan Valley\",\"V - Bicol Region\",\"III - Central Luzon\",\"NCR\",\"IVA - CALABARZON\",\"Caraga\",\"XII - SOCCSKSARGEN\"],\"bottom\":{\"__ndarray__\":\"AAAAAAAAAAAAAAAAAAAAAAAAAAAAAAAAAAAAAAAAAAAAAAAAAAAAAAAAAAAAAAAAAAAAAAAAAAAAAAAAAAAAAAAAAAAAAAAAAAAAAAAAAAAAAAAAAAAAAAAAAAAAAAAAAAAAAAAAAAAAAAAAAAAAAAAAAAAAAAAAAAAAAAAAAAAAAAAAAAAAAAAAAAAAEIFAAAAAAABQfUAAAAAAAGCDQAAAAAAAAIFAAAAAAACwekAAAAAAAECCQAAAAAAAKIBAAAAAAABAhEAAAAAAAHiBQAAAAAAAEHlAAAAAAABkm0AAAAAAABiFQAAAAAAAoHtAAAAAAAAQgkAAAAAAAFiDQAAAAAAAEH5AAAAAAACQfEAAAAAAAECQQAAAAAAAkJFAAAAAAABgnUAAAAAAAOCLQAAAAAAAaI5AAAAAAABAlUAAAAAAAGiTQAAAAAAAGIdAAAAAAABklUAAAAAAALCXQAAAAAAA/JFAAAAAAAColkAAAAAAANSVQAAAAAAAiJRAAAAAAACAmkAAAAAAALiLQAAAAAAAmJFA\",\"dtype\":\"float64\",\"order\":\"little\",\"shape\":[51]},\"top\":{\"__ndarray__\":\"AAAAAABkm0AAAAAAACiAQAAAAAAAEHlAAAAAAABAgkAAAAAAABiFQAAAAAAAAIFAAAAAAAAQgkAAAAAAAFB9QAAAAAAAEIFAAAAAAABYg0AAAAAAALB6QAAAAAAAEH5AAAAAAABAhEAAAAAAAKB7QAAAAAAAYINAAAAAAACQfEAAAAAAAHiBQAAAAAAAQJVAAAAAAABok0AAAAAAAJiRQAAAAAAAsJdAAAAAAADgi0AAAAAAAKiWQAAAAAAAiJRAAAAAAACQkUAAAAAAAECQQAAAAAAAGIdAAAAAAABgnUAAAAAAAICaQAAAAAAAaI5AAAAAAADUlUAAAAAAAPyRQAAAAAAAuItAAAAAAABklUAAAAAAAPCbQAAAAAAAHKNAAAAAAACQoUAAAAAAAHydQAAAAAAA9JpAAAAAAABCokAAAAAAANqjQAAAAAAAhJNAAAAAAABYokAAAAAAAEamQAAAAAAAVqFAAAAAAABQo0AAAAAAAEqpQAAAAAAAIrBAAAAAAABCsEAAAAAAANibQAAAAAAAlKBA\",\"dtype\":\"float64\",\"order\":\"little\",\"shape\":[51]}},\"selected\":{\"id\":\"36504\"},\"selection_policy\":{\"id\":\"36518\"}},\"id\":\"36503\",\"type\":\"ColumnDataSource\"},{\"attributes\":{\"bottom\":{\"field\":\"bottom\"},\"fill_alpha\":{\"value\":0.2},\"fill_color\":{\"field\":\"Main_Source_of_Income\",\"transform\":{\"id\":\"36502\"}},\"hatch_alpha\":{\"value\":0.2},\"hatch_color\":{\"field\":\"Main_Source_of_Income\",\"transform\":{\"id\":\"36502\"}},\"line_alpha\":{\"value\":0.2},\"top\":{\"field\":\"top\"},\"width\":{\"value\":0.8},\"x\":{\"field\":\"Region\"}},\"id\":\"36508\",\"type\":\"VBar\"},{\"attributes\":{\"bottom\":{\"field\":\"bottom\"},\"fill_alpha\":{\"value\":0.1},\"fill_color\":{\"field\":\"Main_Source_of_Income\",\"transform\":{\"id\":\"36502\"}},\"hatch_alpha\":{\"value\":0.1},\"hatch_color\":{\"field\":\"Main_Source_of_Income\",\"transform\":{\"id\":\"36502\"}},\"line_alpha\":{\"value\":0.1},\"top\":{\"field\":\"top\"},\"width\":{\"value\":0.8},\"x\":{\"field\":\"Region\"}},\"id\":\"36507\",\"type\":\"VBar\"},{\"attributes\":{\"end\":4453.3,\"reset_end\":4453.3,\"reset_start\":0.0,\"tags\":[[[\"0\",\"0\",null]]]},\"id\":\"36471\",\"type\":\"Range1d\"},{\"attributes\":{\"above\":[{\"id\":\"36521\"}],\"below\":[{\"id\":\"36482\"}],\"center\":[{\"id\":\"36484\"},{\"id\":\"36488\"},{\"id\":\"36521\"}],\"height\":700,\"left\":[{\"id\":\"36485\"}],\"margin\":null,\"min_border_bottom\":10,\"min_border_left\":10,\"min_border_right\":10,\"min_border_top\":10,\"renderers\":[{\"id\":\"36509\"}],\"sizing_mode\":\"fixed\",\"title\":{\"id\":\"36474\"},\"toolbar\":{\"id\":\"36495\"},\"toolbar_location\":null,\"width\":800,\"x_range\":{\"id\":\"36470\"},\"x_scale\":{\"id\":\"36478\"},\"y_range\":{\"id\":\"36471\"},\"y_scale\":{\"id\":\"36480\"}},\"id\":\"36473\",\"subtype\":\"Figure\",\"type\":\"Plot\"},{\"attributes\":{},\"id\":\"36513\",\"type\":\"BasicTickFormatter\"},{\"attributes\":{\"fill_alpha\":{\"value\":0.1},\"fill_color\":{\"value\":\"#30a2da\"},\"hatch_alpha\":{\"value\":0.1},\"hatch_color\":{\"value\":\"#30a2da\"},\"line_alpha\":{\"value\":0.1},\"top\":{\"field\":\"Count\"},\"width\":{\"value\":0.8},\"x\":{\"field\":\"Main_Source_of_Income\"}},\"id\":\"36455\",\"type\":\"VBar\"},{\"attributes\":{},\"id\":\"36516\",\"type\":\"CategoricalTickFormatter\"},{\"attributes\":{},\"id\":\"36478\",\"type\":\"CategoricalScale\"},{\"attributes\":{\"data\":{\"Count\":[20388,10836,10320],\"Main_Source_of_Income\":[\"Wage/Salaries\",\"Other sources of Income\",\"Enterpreneurial Activities\"]},\"selected\":{\"id\":\"36452\"},\"selection_policy\":{\"id\":\"36541\"}},\"id\":\"36451\",\"type\":\"ColumnDataSource\"},{\"attributes\":{\"bottom\":{\"field\":\"bottom\"},\"fill_alpha\":{\"value\":1.0},\"fill_color\":{\"field\":\"Main_Source_of_Income\",\"transform\":{\"id\":\"36502\"}},\"hatch_alpha\":{\"value\":1.0},\"hatch_color\":{\"field\":\"Main_Source_of_Income\",\"transform\":{\"id\":\"36502\"}},\"hatch_scale\":{\"value\":12.0},\"hatch_weight\":{\"value\":1.0},\"line_alpha\":{\"value\":1.0},\"line_cap\":{\"value\":\"butt\"},\"line_color\":{\"value\":\"black\"},\"line_dash\":{\"value\":[]},\"line_dash_offset\":{\"value\":0},\"line_join\":{\"value\":\"bevel\"},\"line_width\":{\"value\":1},\"top\":{\"field\":\"top\"},\"width\":{\"value\":0.8},\"x\":{\"field\":\"Region\"}},\"id\":\"36523\",\"type\":\"VBar\"},{\"attributes\":{\"active_drag\":{\"id\":\"36439\"},\"active_scroll\":{\"id\":\"36440\"},\"tools\":[{\"id\":\"36421\"},{\"id\":\"36438\"},{\"id\":\"36439\"},{\"id\":\"36440\"},{\"id\":\"36441\"},{\"id\":\"36442\"}]},\"id\":\"36444\",\"type\":\"Toolbar\"},{\"attributes\":{},\"id\":\"36518\",\"type\":\"UnionRenderers\"},{\"attributes\":{\"label\":{\"field\":\"Main_Source_of_Income\"},\"renderers\":[{\"id\":\"36509\"}]},\"id\":\"36522\",\"type\":\"LegendItem\"},{\"attributes\":{\"fill_color\":{\"value\":\"#30a2da\"},\"hatch_color\":{\"value\":\"#30a2da\"},\"top\":{\"field\":\"Count\"},\"width\":{\"value\":0.8},\"x\":{\"field\":\"Main_Source_of_Income\"}},\"id\":\"36454\",\"type\":\"VBar\"},{\"attributes\":{\"children\":[{\"id\":\"36559\"}],\"margin\":[0,0,0,0],\"name\":\"Row40364\",\"tags\":[\"embedded\"]},\"id\":\"36418\",\"type\":\"Row\"},{\"attributes\":{\"axis_label\":\"Main Source of Income\",\"coordinates\":null,\"formatter\":{\"id\":\"36461\"},\"group\":null,\"major_label_policy\":{\"id\":\"36462\"},\"ticker\":{\"id\":\"36432\"}},\"id\":\"36431\",\"type\":\"CategoricalAxis\"},{\"attributes\":{},\"id\":\"36440\",\"type\":\"WheelZoomTool\"},{\"attributes\":{\"overlay\":{\"id\":\"36443\"}},\"id\":\"36441\",\"type\":\"BoxZoomTool\"},{\"attributes\":{},\"id\":\"36462\",\"type\":\"AllLabels\"},{\"attributes\":{},\"id\":\"36504\",\"type\":\"Selection\"},{\"attributes\":{\"factors\":[\" ARMM\",\"CAR\",\"Caraga\",\"I - Ilocos Region\",\"II - Cagayan Valley\",\"III - Central Luzon\",\"IVA - CALABARZON\",\"IVB - MIMAROPA\",\"IX - Zasmboanga Peninsula\",\"NCR\",\"V - Bicol Region\",\"VI - Western Visayas\",\"VII - Central Visayas\",\"VIII - Eastern Visayas\",\"X - Northern Mindanao\",\"XI - Davao Region\",\"XII - SOCCSKSARGEN\"],\"tags\":[[[\"Region\",\"Region\",null]]]},\"id\":\"36470\",\"type\":\"FactorRange\"},{\"attributes\":{\"axis\":{\"id\":\"36482\"},\"coordinates\":null,\"grid_line_color\":null,\"group\":null,\"ticker\":null},\"id\":\"36484\",\"type\":\"Grid\"},{\"attributes\":{},\"id\":\"36427\",\"type\":\"CategoricalScale\"},{\"attributes\":{},\"id\":\"36493\",\"type\":\"ResetTool\"},{\"attributes\":{},\"id\":\"36439\",\"type\":\"PanTool\"},{\"attributes\":{\"axis_label\":\"Count\",\"coordinates\":null,\"formatter\":{\"id\":\"36464\"},\"group\":null,\"major_label_policy\":{\"id\":\"36465\"},\"ticker\":{\"id\":\"36435\"}},\"id\":\"36434\",\"type\":\"LinearAxis\"},{\"attributes\":{\"bottom_units\":\"screen\",\"coordinates\":null,\"fill_alpha\":0.5,\"fill_color\":\"lightgrey\",\"group\":null,\"left_units\":\"screen\",\"level\":\"overlay\",\"line_alpha\":1.0,\"line_color\":\"black\",\"line_dash\":[4,4],\"line_width\":2,\"right_units\":\"screen\",\"syncable\":false,\"top_units\":\"screen\"},\"id\":\"36494\",\"type\":\"BoxAnnotation\"},{\"attributes\":{\"toolbar\":{\"id\":\"36557\"},\"toolbar_location\":\"above\"},\"id\":\"36558\",\"type\":\"ToolbarBox\"},{\"attributes\":{},\"id\":\"36489\",\"type\":\"SaveTool\"},{\"attributes\":{\"coordinates\":null,\"group\":null,\"items\":[{\"id\":\"36522\"}],\"location\":[0,0],\"orientation\":\"horizontal\"},\"id\":\"36521\",\"type\":\"Legend\"},{\"attributes\":{\"bottom\":{\"field\":\"bottom\"},\"fill_color\":{\"field\":\"Main_Source_of_Income\",\"transform\":{\"id\":\"36502\"}},\"hatch_color\":{\"field\":\"Main_Source_of_Income\",\"transform\":{\"id\":\"36502\"}},\"top\":{\"field\":\"top\"},\"width\":{\"value\":0.8},\"x\":{\"field\":\"Region\"}},\"id\":\"36506\",\"type\":\"VBar\"},{\"attributes\":{\"axis\":{\"id\":\"36485\"},\"coordinates\":null,\"dimension\":1,\"grid_line_color\":null,\"group\":null,\"ticker\":null},\"id\":\"36488\",\"type\":\"Grid\"},{\"attributes\":{},\"id\":\"36514\",\"type\":\"AllLabels\"},{\"attributes\":{},\"id\":\"36541\",\"type\":\"UnionRenderers\"},{\"attributes\":{},\"id\":\"36490\",\"type\":\"PanTool\"},{\"attributes\":{\"factors\":[\"Enterpreneurial Activities\",\"Other sources of Income\",\"Wage/Salaries\"],\"palette\":[\"#30a2da\",\"#fc4f30\",\"#e5ae38\"]},\"id\":\"36502\",\"type\":\"CategoricalColorMapper\"}],\"root_ids\":[\"36418\"]},\"title\":\"Bokeh Application\",\"version\":\"2.4.3\"}};\n",
       "    var render_items = [{\"docid\":\"c7bab57c-8574-42c6-a4f1-e7c0b036a456\",\"root_ids\":[\"36418\"],\"roots\":{\"36418\":\"3a9c78a3-5552-4b15-b392-d0da8a09a109\"}}];\n",
       "    root.Bokeh.embed.embed_items_notebook(docs_json, render_items);\n",
       "    for (const render_item of render_items) {\n",
       "      for (const root_id of render_item.root_ids) {\n",
       "\tconst id_el = document.getElementById(root_id)\n",
       "\tif (id_el.children.length && (id_el.children[0].className === 'bk-root')) {\n",
       "\t  const root_el = id_el.children[0]\n",
       "\t  root_el.id = root_el.id + '-rendered'\n",
       "\t}\n",
       "      }\n",
       "    }\n",
       "  }\n",
       "  if (root.Bokeh !== undefined && root.Bokeh.Panel !== undefined) {\n",
       "    embed_document(root);\n",
       "  } else {\n",
       "    var attempts = 0;\n",
       "    var timer = setInterval(function(root) {\n",
       "      if (root.Bokeh !== undefined && root.Bokeh.Panel !== undefined) {\n",
       "        clearInterval(timer);\n",
       "        embed_document(root);\n",
       "      } else if (document.readyState == \"complete\") {\n",
       "        attempts++;\n",
       "        if (attempts > 200) {\n",
       "          clearInterval(timer);\n",
       "          console.log(\"Bokeh: ERROR: Unable to run BokehJS code because BokehJS library is missing\");\n",
       "        }\n",
       "      }\n",
       "    }, 25, root)\n",
       "  }\n",
       "})(window);</script>"
      ],
      "text/plain": [
       ":Layout\n",
       "   .Bars.I  :Bars   [Main Source of Income]   (Count)\n",
       "   .Bars.II :Bars   [Region,Main Source of Income]   (0)"
      ]
     },
     "execution_count": 327,
     "metadata": {
      "application/vnd.holoviews_exec.v0+json": {
       "id": "36418"
      }
     },
     "output_type": "execute_result"
    }
   ],
   "source": [
    "country = dataset.groupby(\"Main Source of Income\").size().to_frame().sort_values(0, ascending=False)\n",
    "country.columns = [\"Count\"]\n",
    "per_region = dataset.groupby([\"Region\", \"Main Source of Income\"]).size().to_frame()\n",
    "country.hvplot.bar(height=700) + per_region.hvplot.bar(width=800, height=700, stacked=True, rot=25, legend='top')\n"
   ]
  },
  {
   "attachments": {},
   "cell_type": "markdown",
   "metadata": {},
   "source": [
    "5. How much does each region spend on their overall expenses? "
   ]
  },
  {
   "cell_type": "code",
   "execution_count": 328,
   "metadata": {},
   "outputs": [
    {
     "name": "stdout",
     "output_type": "stream",
     "text": [
      "['Total Household Income', 'Region', 'Total Food Expenditure', 'Main Source of Income', 'Agricultural Household indicator', 'Bread and Cereals Expenditure', 'Total Rice Expenditure', 'Meat Expenditure', 'Total Fish and  marine products Expenditure', 'Fruit Expenditure', 'Vegetables Expenditure', 'Restaurant and hotels Expenditure', 'Alcoholic Beverages Expenditure', 'Tobacco Expenditure', 'Clothing, Footwear and Other Wear Expenditure', 'Housing and water Expenditure', 'Imputed House Rental Value', 'Medical Care Expenditure', 'Transportation Expenditure', 'Communication Expenditure', 'Education Expenditure', 'Miscellaneous Goods and Services Expenditure', 'Special Occasions Expenditure', 'Crop Farming and Gardening expenses', 'Total Income from Entrepreneurial Acitivites', 'Household Head Sex', 'Household Head Age', 'Household Head Marital Status', 'Household Head Highest Grade Completed', 'Household Head Job or Business Indicator', 'Household Head Occupation', 'Household Head Class of Worker', 'Type of Household', 'Total Number of Family members', 'Members with age less than 5 year old', 'Members with age 5 - 17 years old', 'Total number of family members employed', 'Type of Building/House', 'Type of Roof', 'Type of Walls', 'House Floor Area', 'House Age', 'Number of bedrooms', 'Tenure Status', 'Toilet Facilities', 'Electricity', 'Main Source of Water Supply', 'Number of Television', 'Number of CD/VCD/DVD', 'Number of Component/Stereo set', 'Number of Refrigerator/Freezer', 'Number of Washing Machine', 'Number of Airconditioner', 'Number of Car, Jeep, Van', 'Number of Landline/wireless telephones', 'Number of Cellular phone', 'Number of Personal Computer', 'Number of Stove with Oven/Gas Range', 'Number of Motorized Banca', 'Number of Motorcycle/Tricycle', 'Food Percentage to Income']\n"
     ]
    }
   ],
   "source": [
    "heads = dataset.columns\n",
    "lst = []\n",
    "for x in heads:\n",
    "    lst.append(x)\n",
    "\n",
    "print(lst)"
   ]
  },
  {
   "cell_type": "code",
   "execution_count": 338,
   "metadata": {},
   "outputs": [
    {
     "data": {},
     "metadata": {},
     "output_type": "display_data"
    },
    {
     "data": {
      "application/vnd.holoviews_exec.v0+json": "",
      "text/html": [
       "<div id='38190'>\n",
       "  <div class=\"bk-root\" id=\"e1aaad58-e829-4f0f-b136-5fa5b06bd8a2\" data-root-id=\"38190\"></div>\n",
       "</div>\n",
       "<script type=\"application/javascript\">(function(root) {\n",
       "  function embed_document(root) {\n",
       "    var docs_json = {\"df6ed976-3182-448f-adcf-845fbe4cf3ff\":{\"defs\":[{\"extends\":null,\"module\":null,\"name\":\"ReactiveHTML1\",\"overrides\":[],\"properties\":[]},{\"extends\":null,\"module\":null,\"name\":\"FlexBox1\",\"overrides\":[],\"properties\":[{\"default\":\"flex-start\",\"kind\":null,\"name\":\"align_content\"},{\"default\":\"flex-start\",\"kind\":null,\"name\":\"align_items\"},{\"default\":\"row\",\"kind\":null,\"name\":\"flex_direction\"},{\"default\":\"wrap\",\"kind\":null,\"name\":\"flex_wrap\"},{\"default\":\"flex-start\",\"kind\":null,\"name\":\"justify_content\"}]},{\"extends\":null,\"module\":null,\"name\":\"GridStack1\",\"overrides\":[],\"properties\":[{\"default\":\"warn\",\"kind\":null,\"name\":\"mode\"},{\"default\":null,\"kind\":null,\"name\":\"ncols\"},{\"default\":null,\"kind\":null,\"name\":\"nrows\"},{\"default\":true,\"kind\":null,\"name\":\"allow_resize\"},{\"default\":true,\"kind\":null,\"name\":\"allow_drag\"},{\"default\":[],\"kind\":null,\"name\":\"state\"}]},{\"extends\":null,\"module\":null,\"name\":\"click1\",\"overrides\":[],\"properties\":[{\"default\":\"\",\"kind\":null,\"name\":\"terminal_output\"},{\"default\":\"\",\"kind\":null,\"name\":\"debug_name\"},{\"default\":0,\"kind\":null,\"name\":\"clears\"}]},{\"extends\":null,\"module\":null,\"name\":\"NotificationAreaBase1\",\"overrides\":[],\"properties\":[{\"default\":\"bottom-right\",\"kind\":null,\"name\":\"position\"},{\"default\":0,\"kind\":null,\"name\":\"_clear\"}]},{\"extends\":null,\"module\":null,\"name\":\"NotificationArea1\",\"overrides\":[],\"properties\":[{\"default\":[],\"kind\":null,\"name\":\"notifications\"},{\"default\":\"bottom-right\",\"kind\":null,\"name\":\"position\"},{\"default\":0,\"kind\":null,\"name\":\"_clear\"},{\"default\":[{\"background\":\"#ffc107\",\"icon\":{\"className\":\"fas fa-exclamation-triangle\",\"color\":\"white\",\"tagName\":\"i\"},\"type\":\"warning\"},{\"background\":\"#007bff\",\"icon\":{\"className\":\"fas fa-info-circle\",\"color\":\"white\",\"tagName\":\"i\"},\"type\":\"info\"}],\"kind\":null,\"name\":\"types\"}]},{\"extends\":null,\"module\":null,\"name\":\"Notification\",\"overrides\":[],\"properties\":[{\"default\":null,\"kind\":null,\"name\":\"background\"},{\"default\":3000,\"kind\":null,\"name\":\"duration\"},{\"default\":null,\"kind\":null,\"name\":\"icon\"},{\"default\":\"\",\"kind\":null,\"name\":\"message\"},{\"default\":null,\"kind\":null,\"name\":\"notification_type\"},{\"default\":false,\"kind\":null,\"name\":\"_destroyed\"}]},{\"extends\":null,\"module\":null,\"name\":\"TemplateActions1\",\"overrides\":[],\"properties\":[{\"default\":0,\"kind\":null,\"name\":\"open_modal\"},{\"default\":0,\"kind\":null,\"name\":\"close_modal\"}]},{\"extends\":null,\"module\":null,\"name\":\"MaterialTemplateActions1\",\"overrides\":[],\"properties\":[{\"default\":0,\"kind\":null,\"name\":\"open_modal\"},{\"default\":0,\"kind\":null,\"name\":\"close_modal\"}]}],\"roots\":{\"references\":[{\"attributes\":{\"bottom\":{\"field\":\"bottom\"},\"fill_alpha\":{\"value\":0.2},\"fill_color\":{\"field\":\"Variable\",\"transform\":{\"id\":\"38223\"}},\"hatch_alpha\":{\"value\":0.2},\"hatch_color\":{\"field\":\"Variable\",\"transform\":{\"id\":\"38223\"}},\"line_alpha\":{\"value\":0.2},\"top\":{\"field\":\"top\"},\"width\":{\"value\":0.8},\"x\":{\"field\":\"Region\"}},\"id\":\"38229\",\"type\":\"VBar\"},{\"attributes\":{},\"id\":\"38204\",\"type\":\"CategoricalTicker\"},{\"attributes\":{},\"id\":\"38207\",\"type\":\"BasicTicker\"},{\"attributes\":{\"bottom_units\":\"screen\",\"coordinates\":null,\"fill_alpha\":0.5,\"fill_color\":\"lightgrey\",\"group\":null,\"left_units\":\"screen\",\"level\":\"overlay\",\"line_alpha\":1.0,\"line_color\":\"black\",\"line_dash\":[4,4],\"line_width\":2,\"right_units\":\"screen\",\"syncable\":false,\"top_units\":\"screen\"},\"id\":\"38215\",\"type\":\"BoxAnnotation\"},{\"attributes\":{},\"id\":\"38214\",\"type\":\"ResetTool\"},{\"attributes\":{\"bottom\":{\"field\":\"bottom\"},\"fill_alpha\":{\"value\":1.0},\"fill_color\":{\"field\":\"Variable\",\"transform\":{\"id\":\"38223\"}},\"hatch_alpha\":{\"value\":1.0},\"hatch_color\":{\"field\":\"Variable\",\"transform\":{\"id\":\"38223\"}},\"hatch_scale\":{\"value\":12.0},\"hatch_weight\":{\"value\":1.0},\"line_alpha\":{\"value\":1.0},\"line_cap\":{\"value\":\"butt\"},\"line_color\":{\"value\":\"black\"},\"line_dash\":{\"value\":[]},\"line_dash_offset\":{\"value\":0},\"line_join\":{\"value\":\"bevel\"},\"line_width\":{\"value\":1},\"top\":{\"field\":\"top\"},\"width\":{\"value\":0.8},\"x\":{\"field\":\"Region\"}},\"id\":\"38244\",\"type\":\"VBar\"},{\"attributes\":{},\"id\":\"38238\",\"type\":\"AllLabels\"},{\"attributes\":{\"axis\":{\"id\":\"38203\"},\"coordinates\":null,\"grid_line_color\":null,\"group\":null,\"ticker\":null},\"id\":\"38205\",\"type\":\"Grid\"},{\"attributes\":{\"axis_label\":\"Region\",\"coordinates\":null,\"formatter\":{\"id\":\"38237\"},\"group\":null,\"major_label_orientation\":0.4363323129985824,\"major_label_policy\":{\"id\":\"38238\"},\"ticker\":{\"id\":\"38204\"}},\"id\":\"38203\",\"type\":\"CategoricalAxis\"},{\"attributes\":{},\"id\":\"38201\",\"type\":\"LinearScale\"},{\"attributes\":{},\"id\":\"38199\",\"type\":\"CategoricalScale\"},{\"attributes\":{\"active_drag\":{\"id\":\"38211\"},\"active_scroll\":{\"id\":\"38212\"},\"tools\":[{\"id\":\"38193\"},{\"id\":\"38210\"},{\"id\":\"38211\"},{\"id\":\"38212\"},{\"id\":\"38213\"},{\"id\":\"38214\"}]},\"id\":\"38216\",\"type\":\"Toolbar\"},{\"attributes\":{},\"id\":\"36159\",\"type\":\"NumeralTickFormatter\"},{\"attributes\":{},\"id\":\"38237\",\"type\":\"CategoricalTickFormatter\"},{\"attributes\":{\"factors\":[\"Clothing, Footwear and Other Wear Expenditure\",\"Housing and water Expenditure\",\"Imputed House Rental Value\",\"Medical Care Expenditure\",\"Transportation Expenditure\",\"Communication Expenditure\",\"Education Expenditure\",\"Miscellaneous Goods and Services Expenditure\",\"Special Occasions Expenditure\",\"Crop Farming and Gardening expenses\"],\"palette\":[\"#30a2da\",\"#fc4f30\",\"#e5ae38\",\"#6d904f\",\"#8b8b8b\",\"#17becf\",\"#9467bd\",\"#d62728\",\"#1f77b4\",\"#e377c2\"]},\"id\":\"38223\",\"type\":\"CategoricalColorMapper\"},{\"attributes\":{\"below\":[{\"id\":\"38203\"}],\"center\":[{\"id\":\"38205\"},{\"id\":\"38209\"},{\"id\":\"38242\"}],\"height\":900,\"left\":[{\"id\":\"38206\"}],\"margin\":[5,5,5,5],\"min_border_bottom\":10,\"min_border_left\":10,\"min_border_right\":10,\"min_border_top\":10,\"renderers\":[{\"id\":\"38230\"}],\"right\":[{\"id\":\"38242\"}],\"sizing_mode\":\"fixed\",\"title\":{\"id\":\"38195\"},\"toolbar\":{\"id\":\"38216\"},\"width\":1400,\"x_range\":{\"id\":\"38191\"},\"x_scale\":{\"id\":\"38199\"},\"y_range\":{\"id\":\"38192\"},\"y_scale\":{\"id\":\"38201\"}},\"id\":\"38194\",\"subtype\":\"Figure\",\"type\":\"Plot\"},{\"attributes\":{},\"id\":\"38211\",\"type\":\"PanTool\"},{\"attributes\":{\"source\":{\"id\":\"38224\"}},\"id\":\"38231\",\"type\":\"CDSView\"},{\"attributes\":{\"bottom\":{\"field\":\"bottom\"},\"fill_color\":{\"field\":\"Variable\",\"transform\":{\"id\":\"38223\"}},\"hatch_color\":{\"field\":\"Variable\",\"transform\":{\"id\":\"38223\"}},\"top\":{\"field\":\"top\"},\"width\":{\"value\":0.8},\"x\":{\"field\":\"Region\"}},\"id\":\"38227\",\"type\":\"VBar\"},{\"attributes\":{\"factors\":[\" ARMM\",\"CAR\",\"Caraga\",\"I - Ilocos Region\",\"II - Cagayan Valley\",\"III - Central Luzon\",\"IVA - CALABARZON\",\"IVB - MIMAROPA\",\"IX - Zasmboanga Peninsula\",\"NCR\",\"V - Bicol Region\",\"VI - Western Visayas\",\"VII - Central Visayas\",\"VIII - Eastern Visayas\",\"X - Northern Mindanao\",\"XI - Davao Region\",\"XII - SOCCSKSARGEN\"],\"tags\":[[[\"Region\",\"Region\",null]]]},\"id\":\"38191\",\"type\":\"FactorRange\"},{\"attributes\":{},\"id\":\"38235\",\"type\":\"AllLabels\"},{\"attributes\":{},\"id\":\"38210\",\"type\":\"SaveTool\"},{\"attributes\":{\"children\":[{\"id\":\"38194\"}],\"height\":900,\"margin\":[0,0,0,0],\"name\":\"Row42760\",\"sizing_mode\":\"fixed\",\"tags\":[\"embedded\"],\"width\":1400},\"id\":\"38190\",\"type\":\"Row\"},{\"attributes\":{\"axis\":{\"id\":\"38206\"},\"coordinates\":null,\"dimension\":1,\"grid_line_color\":null,\"group\":null,\"ticker\":null},\"id\":\"38209\",\"type\":\"Grid\"},{\"attributes\":{\"overlay\":{\"id\":\"38215\"}},\"id\":\"38213\",\"type\":\"BoxZoomTool\"},{\"attributes\":{},\"id\":\"38225\",\"type\":\"Selection\"},{\"attributes\":{\"bottom\":{\"field\":\"bottom\"},\"fill_alpha\":{\"value\":0.1},\"fill_color\":{\"field\":\"Variable\",\"transform\":{\"id\":\"38223\"}},\"hatch_alpha\":{\"value\":0.1},\"hatch_color\":{\"field\":\"Variable\",\"transform\":{\"id\":\"38223\"}},\"line_alpha\":{\"value\":0.1},\"top\":{\"field\":\"top\"},\"width\":{\"value\":0.8},\"x\":{\"field\":\"Region\"}},\"id\":\"38228\",\"type\":\"VBar\"},{\"attributes\":{\"data\":{\"Region\":[\" ARMM\",\"XII - SOCCSKSARGEN\",\"XI - Davao Region\",\"X - Northern Mindanao\",\"VIII - Eastern Visayas\",\"VI - Western Visayas\",\"V - Bicol Region\",\"NCR\",\"VII - Central Visayas\",\"IVB - MIMAROPA\",\"IVA - CALABARZON\",\"III - Central Luzon\",\"II - Cagayan Valley\",\"I - Ilocos Region\",\"Caraga\",\"CAR\",\"IX - Zasmboanga Peninsula\",\"V - Bicol Region\",\"XII - SOCCSKSARGEN\",\"XI - Davao Region\",\"X - Northern Mindanao\",\"VIII - Eastern Visayas\",\"VII - Central Visayas\",\"VI - Western Visayas\",\"NCR\",\"I - Ilocos Region\",\"IVB - MIMAROPA\",\"IVA - CALABARZON\",\"III - Central Luzon\",\"II - Cagayan Valley\",\"Caraga\",\"CAR\",\" ARMM\",\"IX - Zasmboanga Peninsula\",\"V - Bicol Region\",\"XII - SOCCSKSARGEN\",\"XI - Davao Region\",\"X - Northern Mindanao\",\"VIII - Eastern Visayas\",\"VII - Central Visayas\",\"VI - Western Visayas\",\"NCR\",\"I - Ilocos Region\",\"IVB - MIMAROPA\",\"IVA - CALABARZON\",\"III - Central Luzon\",\"II - Cagayan Valley\",\"Caraga\",\"CAR\",\" ARMM\",\"IX - Zasmboanga Peninsula\",\"XII - SOCCSKSARGEN\",\"XI - Davao Region\",\"X - Northern Mindanao\",\"VIII - Eastern Visayas\",\"VII - Central Visayas\",\"VI - Western Visayas\",\"V - Bicol Region\",\"NCR\",\"IX - Zasmboanga Peninsula\",\"IVA - CALABARZON\",\"III - Central Luzon\",\"II - Cagayan Valley\",\"I - Ilocos Region\",\"Caraga\",\"CAR\",\" ARMM\",\"IVB - MIMAROPA\",\"NCR\",\"XI - Davao Region\",\"X - Northern Mindanao\",\"VIII - Eastern Visayas\",\"VII - Central Visayas\",\"VI - Western Visayas\",\"V - Bicol Region\",\"IX - Zasmboanga Peninsula\",\"XII - SOCCSKSARGEN\",\"IVA - CALABARZON\",\"III - Central Luzon\",\"II - Cagayan Valley\",\"I - Ilocos Region\",\"Caraga\",\"CAR\",\" ARMM\",\"IVB - MIMAROPA\",\"XI - Davao Region\",\"X - Northern Mindanao\",\"VIII - Eastern Visayas\",\"VII - Central Visayas\",\"VI - Western Visayas\",\"V - Bicol Region\",\"NCR\",\"IX - Zasmboanga Peninsula\",\"XII - SOCCSKSARGEN\",\"IVA - CALABARZON\",\"III - Central Luzon\",\"II - Cagayan Valley\",\"I - Ilocos Region\",\"Caraga\",\"CAR\",\" ARMM\",\"IVB - MIMAROPA\",\"XII - SOCCSKSARGEN\",\"XI - Davao Region\",\"X - Northern Mindanao\",\"VIII - Eastern Visayas\",\"VII - Central Visayas\",\"VI - Western Visayas\",\"V - Bicol Region\",\"NCR\",\"IX - Zasmboanga Peninsula\",\"IVA - CALABARZON\",\"III - Central Luzon\",\"II - Cagayan Valley\",\"I - Ilocos Region\",\"Caraga\",\"CAR\",\" ARMM\",\"IVB - MIMAROPA\",\"V - Bicol Region\",\"XI - Davao Region\",\"X - Northern Mindanao\",\"VIII - Eastern Visayas\",\"VII - Central Visayas\",\"XII - SOCCSKSARGEN\",\"VI - Western Visayas\",\"NCR\",\"II - Cagayan Valley\",\"IVB - MIMAROPA\",\"IVA - CALABARZON\",\"III - Central Luzon\",\"I - Ilocos Region\",\"Caraga\",\"CAR\",\" ARMM\",\"IX - Zasmboanga Peninsula\",\"XII - SOCCSKSARGEN\",\"XI - Davao Region\",\"X - Northern Mindanao\",\"VIII - Eastern Visayas\",\"VI - Western Visayas\",\"V - Bicol Region\",\"NCR\",\"IX - Zasmboanga Peninsula\",\"VII - Central Visayas\",\"IVA - CALABARZON\",\"III - Central Luzon\",\"II - Cagayan Valley\",\"I - Ilocos Region\",\"Caraga\",\"CAR\",\" ARMM\",\"IVB - MIMAROPA\",\"X - Northern Mindanao\",\"VIII - Eastern Visayas\",\"VII - Central Visayas\",\"VI - Western Visayas\",\"V - Bicol Region\",\"NCR\",\"IX - Zasmboanga Peninsula\",\"II - Cagayan Valley\",\"IVA - CALABARZON\",\"III - Central Luzon\",\"I - Ilocos Region\",\"Caraga\",\"CAR\",\" ARMM\",\"XI - Davao Region\",\"IVB - MIMAROPA\",\"XII - SOCCSKSARGEN\"],\"Variable\":[\"Clothing, Footwear and Other Wear Expenditure\",\"Clothing, Footwear and Other Wear Expenditure\",\"Clothing, Footwear and Other Wear Expenditure\",\"Clothing, Footwear and Other Wear Expenditure\",\"Clothing, Footwear and Other Wear Expenditure\",\"Clothing, Footwear and Other Wear Expenditure\",\"Clothing, Footwear and Other Wear Expenditure\",\"Clothing, Footwear and Other Wear Expenditure\",\"Clothing, Footwear and Other Wear Expenditure\",\"Clothing, Footwear and Other Wear Expenditure\",\"Clothing, Footwear and Other Wear Expenditure\",\"Clothing, Footwear and Other Wear Expenditure\",\"Clothing, Footwear and Other Wear Expenditure\",\"Clothing, Footwear and Other Wear Expenditure\",\"Clothing, Footwear and Other Wear Expenditure\",\"Clothing, Footwear and Other Wear Expenditure\",\"Clothing, Footwear and Other Wear Expenditure\",\"Housing and water Expenditure\",\"Housing and water Expenditure\",\"Housing and water Expenditure\",\"Housing and water Expenditure\",\"Housing and water Expenditure\",\"Housing and water Expenditure\",\"Housing and water Expenditure\",\"Housing and water Expenditure\",\"Housing and water Expenditure\",\"Housing and water Expenditure\",\"Housing and water Expenditure\",\"Housing and water Expenditure\",\"Housing and water Expenditure\",\"Housing and water Expenditure\",\"Housing and water Expenditure\",\"Housing and water Expenditure\",\"Housing and water Expenditure\",\"Imputed House Rental Value\",\"Imputed House Rental Value\",\"Imputed House Rental Value\",\"Imputed House Rental Value\",\"Imputed House Rental Value\",\"Imputed House Rental Value\",\"Imputed House Rental Value\",\"Imputed House Rental Value\",\"Imputed House Rental Value\",\"Imputed House Rental Value\",\"Imputed House Rental Value\",\"Imputed House Rental Value\",\"Imputed House Rental Value\",\"Imputed House Rental Value\",\"Imputed House Rental Value\",\"Imputed House Rental Value\",\"Imputed House Rental Value\",\"Medical Care Expenditure\",\"Medical Care Expenditure\",\"Medical Care Expenditure\",\"Medical Care Expenditure\",\"Medical Care Expenditure\",\"Medical Care Expenditure\",\"Medical Care Expenditure\",\"Medical Care Expenditure\",\"Medical Care Expenditure\",\"Medical Care Expenditure\",\"Medical Care Expenditure\",\"Medical Care Expenditure\",\"Medical Care Expenditure\",\"Medical Care Expenditure\",\"Medical Care Expenditure\",\"Medical Care Expenditure\",\"Medical Care Expenditure\",\"Transportation Expenditure\",\"Transportation Expenditure\",\"Transportation Expenditure\",\"Transportation Expenditure\",\"Transportation Expenditure\",\"Transportation Expenditure\",\"Transportation Expenditure\",\"Transportation Expenditure\",\"Transportation Expenditure\",\"Transportation Expenditure\",\"Transportation Expenditure\",\"Transportation Expenditure\",\"Transportation Expenditure\",\"Transportation Expenditure\",\"Transportation Expenditure\",\"Transportation Expenditure\",\"Transportation Expenditure\",\"Communication Expenditure\",\"Communication Expenditure\",\"Communication Expenditure\",\"Communication Expenditure\",\"Communication Expenditure\",\"Communication Expenditure\",\"Communication Expenditure\",\"Communication Expenditure\",\"Communication Expenditure\",\"Communication Expenditure\",\"Communication Expenditure\",\"Communication Expenditure\",\"Communication Expenditure\",\"Communication Expenditure\",\"Communication Expenditure\",\"Communication Expenditure\",\"Communication Expenditure\",\"Education Expenditure\",\"Education Expenditure\",\"Education Expenditure\",\"Education Expenditure\",\"Education Expenditure\",\"Education Expenditure\",\"Education Expenditure\",\"Education Expenditure\",\"Education Expenditure\",\"Education Expenditure\",\"Education Expenditure\",\"Education Expenditure\",\"Education Expenditure\",\"Education Expenditure\",\"Education Expenditure\",\"Education Expenditure\",\"Education Expenditure\",\"Miscellaneous Goods and Services Expenditure\",\"Miscellaneous Goods and Services Expenditure\",\"Miscellaneous Goods and Services Expenditure\",\"Miscellaneous Goods and Services Expenditure\",\"Miscellaneous Goods and Services Expenditure\",\"Miscellaneous Goods and Services Expenditure\",\"Miscellaneous Goods and Services Expenditure\",\"Miscellaneous Goods and Services Expenditure\",\"Miscellaneous Goods and Services Expenditure\",\"Miscellaneous Goods and Services Expenditure\",\"Miscellaneous Goods and Services Expenditure\",\"Miscellaneous Goods and Services Expenditure\",\"Miscellaneous Goods and Services Expenditure\",\"Miscellaneous Goods and Services Expenditure\",\"Miscellaneous Goods and Services Expenditure\",\"Miscellaneous Goods and Services Expenditure\",\"Miscellaneous Goods and Services Expenditure\",\"Special Occasions Expenditure\",\"Special Occasions Expenditure\",\"Special Occasions Expenditure\",\"Special Occasions Expenditure\",\"Special Occasions Expenditure\",\"Special Occasions Expenditure\",\"Special Occasions Expenditure\",\"Special Occasions Expenditure\",\"Special Occasions Expenditure\",\"Special Occasions Expenditure\",\"Special Occasions Expenditure\",\"Special Occasions Expenditure\",\"Special Occasions Expenditure\",\"Special Occasions Expenditure\",\"Special Occasions Expenditure\",\"Special Occasions Expenditure\",\"Special Occasions Expenditure\",\"Crop Farming and Gardening expenses\",\"Crop Farming and Gardening expenses\",\"Crop Farming and Gardening expenses\",\"Crop Farming and Gardening expenses\",\"Crop Farming and Gardening expenses\",\"Crop Farming and Gardening expenses\",\"Crop Farming and Gardening expenses\",\"Crop Farming and Gardening expenses\",\"Crop Farming and Gardening expenses\",\"Crop Farming and Gardening expenses\",\"Crop Farming and Gardening expenses\",\"Crop Farming and Gardening expenses\",\"Crop Farming and Gardening expenses\",\"Crop Farming and Gardening expenses\",\"Crop Farming and Gardening expenses\",\"Crop Farming and Gardening expenses\",\"Crop Farming and Gardening expenses\"],\"bottom\":{\"__ndarray__\":\"AAAAAAAAAAAAAAAAAAAAAAAAAAAAAAAAAAAAAAAAAAAAAAAAAAAAAAAAAAAAAAAAAAAAAAAAAAAAAAAAAAAAAAAAAAAAAAAAAAAAAAAAAAAAAAAAAAAAAAAAAAAAAAAAAAAAAAAAAAAAAAAAAAAAAAAAAAAAAAAAAAAAAAAAAAAAAAAAAAAAANejcD1Kp7BAXI/C9WitsEAK16NwfaGyQGZmZmZmzbJAPQrXo3DRrUAUrkfh+hixQKRwPQrX1LJAFK5H4fpAu0CamZmZWUG0QAAAAAAAfbNA7FG4HsXBt0BSuB6FqwO2QPYoXI/CXa1AH4XrUXgYs0AAAAAAQFi2QHE9CtcjPqVAj8L1KFw+sUC5HoXrETXeQHE9CtcTNdxAAAAAAADr4UDD9ShcLxPgQClcj8I1Xt5A7FG4Hm3X5EB7FK5H+ezgQArXo3CRcvhAhetRuGYw4kCkcD0K90XeQOJ6FK43B+tA4XoUrldt6ED2KFyPkoTeQOxRuB41Vt5AMzMzM4Mj6EAUrkfhmsXSQHE9CteTtthAZmZmZs7h40B7FK5HOZbqQB+F61FYludA7FG4HpU25kAVrkfhWlbvQJqZmZlBoOhA7FG4Hg0l5kAAAAAAMnYCQeJ6FK5fxuFAXI/C9Rwf9EDhehSut/fxQAAAAAAIV+ZAUrgehaO56kCuR+F6/B7mQHA9Ctf/jvJA61G4HgXj20DhehSuT/flQClcj8JnqgNBFa5H4erA7UCF61G4HufqQOJ6FK7v3ehAkML1KLBv8UCkcD0KtwnsQJDC9ShMBelA7FG4HhXP40A9Ctej0B3nQHsUrkcNvvZAZmZmZjJx9ED2KFyPojnpQFK4HoXzfu5AuB6F6/FT6EDhehSux8v0QKNwPQo3vNxAPQrXowB66EDD9Shct6zxQBSuR+ES0+9APgrXoxCi7EDYo3A9bhX0QHE9CtcDW/BA4noUrre07ED2KFyP+GoGQaRwPQrXVedAcD0K11Pl60DXo3A92jv7QHoUrkdZQPhAKVyPwi2V7UAK16Nwwb/xQB6F61H4aexAUrgehZdo90AoXI/CfZbgQIXrUbiOnexA61G4HgUa7UCvR+F6UHTyQBSuR+Eqq/BAZ2ZmZpbA7UC5HoXrof70QJDC9Sj4GfFAw/UoXC/f7UDXo3A9xKMHQWdmZmYeY+hAMzMzM6/O/ECtR+F6nJP5QEjhehQ+9+5AuB6F6+Wz8kBwPQrXE4XtQNejcD1uW/hACdejcH014UAAAAAAANntQB+F61FIhPBAIIXrUWw+9EDC9Shcq2byQEjhehQaT/BAH4XrUZy09kAAAAAAbCjwQHE9CtdPj/JAhetRuHAbCUEK16NwUerwQD0K16OIkfBAmZmZmXVB/0AoXI/CAab7QHA9CtcrHfRAFK5H4U5Y8EBmZmZmdu/6QK1H4XqkKuNApHA9CmeQ6kB7FK5Hsb/yQLoehevd/fZArkfhemwD9UBSuB6F27PyQHsUrkcZLvVArkfhevjg8kBmZmZm3MkLQTMzMzP7SO9ACtejcB0/+UAzMzMzib0BQaNwPQrfSP9AzMzMzDh080CjcD0Ks/r2QArXo3Ap2vJA61G4Hs3j/UBbj8L14GbmQML1KFzvI/NASOF6FJ5l9kC4HoXrqT30QFK4HoXbtPpAhetRuOaS9kAK16NwGQH0QGZmZmZgbAxBwvUoXKuu8ECE61G4koD0QIXrUbhmjwJBHoXrUa5fAEHWo3A9xkH4QFyPwvWwPvRAAAAAAFBX/0CtR+F69APnQIfrUbi6b/hA9ShcjxIb9EDD9ShcT9nzQA==\",\"dtype\":\"float64\",\"order\":\"little\",\"shape\":[170]},\"top\":{\"__ndarray__\":\"cT0K1yM+pUBcj8L1aK2wQArXo3B9obJAZmZmZmbNskA9CtejcNGtQKRwPQrX1LJA16NwPUqnsEAUrkfh+kC7QBSuR+H6GLFAAAAAAAB9s0DsUbgexcG3QFK4HoWrA7ZA9ihcj8JdrUCamZmZWUG0QB+F61F4GLNAAAAAAEBYtkCPwvUoXD6xQLkehesRNd5AcT0K1xM13EAAAAAAAOvhQMP1KFwvE+BAKVyPwjVe3kDsUbgebdfkQHsUrkf57OBACtejcJFy+ECF61G4ZjDiQKRwPQr3Rd5A4noUrjcH60DhehSuV23oQPYoXI+ShN5A7FG4HjVW3kAzMzMzgyPoQBSuR+GaxdJAcT0K15O22EDsUbgeDSXmQGZmZmbO4eNAexSuRzmW6kAfhetRWJbnQOxRuB6VNuZAFa5H4VpW70CamZmZQaDoQAAAAAAydgJBUrgehaO56kDhehSuT/flQFyPwvUcH/RA4XoUrrf38UAAAAAACFfmQK5H4Xr8HuZAcD0K1/+O8kDrUbgeBePbQOJ6FK5fxuFAPQrXo9Ad50AVrkfh6sDtQIXrUbge5+pA4noUru/d6ECQwvUosG/xQKRwPQq3CexAkML1KEwF6UApXI/CZ6oDQexRuB4Vz+NAexSuRw2+9kBmZmZmMnH0QPYoXI+iOelAUrgehfN+7kC4HoXr8VPoQOF6FK7Hy/RAo3A9Cje83EA9CtejAHroQPYoXI/4agZBw/UoXLes8UAUrkfhEtPvQD4K16MQouxA2KNwPW4V9EBxPQrXA1vwQOJ6FK63tOxApHA9CtdV50BwPQrXU+XrQNejcD3aO/tAehSuR1lA+EApXI/CLZXtQArXo3DBv/FAHoXrUfhp7EBSuB6Fl2j3QChcj8J9luBAhetRuI6d7ECvR+F6UHTyQBSuR+Eqq/BAZ2ZmZpbA7UC5HoXrof70QJDC9Sj4GfFAw/UoXC/f7UDXo3A9xKMHQWdmZmYeY+hA61G4HgUa7UAzMzMzr878QK1H4Xqck/lASOF6FD737kC4HoXr5bPyQHA9CtcThe1A16NwPW5b+EAJ16NwfTXhQAAAAAAA2e1AAAAAAGwo8EAghetRbD70QML1KFyrZvJASOF6FBpP8EAfhetRnLT2QHE9CtdPj/JAH4XrUUiE8ECF61G4cBsJQaRwPQpnkOpAmZmZmXVB/0AoXI/CAab7QArXo3BR6vBAcD0K1ysd9EAUrkfhTljwQGZmZmZ27/pArUfheqQq40A9CtejiJHwQK5H4Xr44PJAuh6F69399kCuR+F6bAP1QFK4HoXbs/JACtejcB0/+UB7FK5Hsb/yQHsUrkcZLvVAZmZmZtzJC0HMzMzMOHTzQML1KFzvI/NAMzMzM4m9AUGjcD0K30j/QKNwPQqz+vZACtejcCna8kDrUbgezeP9QFuPwvXgZuZAMzMzM/tI70DD9ShcT9nzQIfrUbi6b/hASOF6FJ5l9kC4HoXrqT30QIXrUbjmkvZACtejcBkB9EBmZmZmYGwMQcL1KFyrrvBAUrgehdu0+kCF61G4Zo8CQR6F61GuXwBBhOtRuJKA9EDWo3A9xkH4QFyPwvWwPvRAAAAAAFBX/0CtR+F69APnQPUoXI8SG/RAZ2ZmZjb5+EC4HoXrmWD2QLgeheslAvxAUrgehc8g+UB7FK5HJdz2QAAAAAB6egxB4XoUrhdU9ECtR+F6ZCT+QLgehevX7QJBW4/C9TzAAUGtR+F69H77QHA9CtefW/dAj8L1KAokA0E9CtejxFH1QON6FK43UfxA61G4HgW8+UAL16NwIeT3QA==\",\"dtype\":\"float64\",\"order\":\"little\",\"shape\":[170]},\"value\":{\"__ndarray__\":\"cT0K1yM+pUBcj8L1aK2wQArXo3B9obJAZmZmZmbNskA9CtejcNGtQKRwPQrX1LJA16NwPUqnsEAUrkfh+kC7QBSuR+H6GLFAAAAAAAB9s0DsUbgexcG3QFK4HoWrA7ZA9ihcj8JdrUCamZmZWUG0QB+F61F4GLNAAAAAAEBYtkCPwvUoXD6xQMP1KFw/C9pAmpmZmbkJ2EA9CtejoC3fQOxRuB4Fc9tA4XoUrgek2kApXI/CTbTiQM3MzMy8JN1AKVyPwoG+9kCkcD0Kd1DfQKRwPQq3ZtlApHA9Cv8O6EDXo3A94qzlQNejcD3a2NpApHA9CheQ2UAzMzMze1jlQGZmZmbWHdBAzczMzPxm1EA9CtejECrMQLgehesRHcdA9ihcj3JW0UBxPQrXowzOQFyPwvXoHcxAUrgehdv91EB7FK5HIc3OQOxRuB6l8+hAmpmZmXkS0UA9CtejUFHLQK5H4XoEbtpAw/UoXC8E10AUrkfh+lLMQOF6FK6Hz8tAXI/C9fj02UCuR+F61DrCQKRwPQpXrMVAuB6F6xHguUDNzMzMjFW5QDMzMzMzhrpArkfhetQ6tUBSuB6FK0i8QFK4HoWrS7tAH4XrUfgBt0CPwvUoXEPDQFK4HoWrRbBA9ihcj4L3xEApXI/C1cvDQK5H4XrUFLdAAAAAAIAqvkBSuB6Fq6exQIXrUbg+5sFACtejcD0mi0DhehSuhxW0QGZmZmaGBNZAw/UoXA9ixkA9Ctej0K/DQOF6FK4HIb5APQrXo/AtxUD2KFyPQrHCQI/C9Shce71Aw/UoXA82vEDNzMzMDB7DQHE9Ctcz99FApHA9Cjd5zkDNzMzMLG7BQArXo3A9AsRAmpmZmRlYwECF61G4fubEQLgehesRw7FAH4XrUTiOwEBxPQrXI/OoQEjhehQuNKhAj8L1KFzooUApXI/CdSatQNejcD2K3qdAFK5H4XqnokAUrkfhuozDQClcj8J11KBArkfhehRLo0DD9ShcTy25QDMzMzMzNLVA7FG4HgUhpkDD9Shcj4SuQB+F61G4saFApHA9CtdarkApXI/C9d+TQK5H4XoUt6NApHA9Cpe2uUAK16NwvaG8QOF6FK4HuLtASOF6FO7stkBmZmZmpl+7QBSuR+F6VbdA16NwPQpLuUDhehSux3rHQOxRuB5FarFAMzMzMzOWw0DXo3A9KpPAQGZmZmYm67ZAhetRuF6UtkDD9ShcT1y5QHsUrkdBoMRAPQrXo3BSr0DXo3A9ilC6QHsUrkeB5cJAzczMzIz7xUBcj8L1CObEQFK4HoULJsNAXI/C9QhUxEDXo3A9KrrEQFK4HoVL9sRACtejcF1z1UAUrkfhOk/EQClcj8I1k8RAMzMzM3Pm0EDXo3A96hbNQJqZmZk57MZArkfhetQOxEApXI/CtaLHQHE9Ctfj4blAPQrXo1DiwkB7FK5H4ZmxQM3MzMzMHbdAmpmZmRkjtkBmZmZm5py4QKRwPQrXTLZAw/UoXA8CskAAAAAAgFC0QI/C9SjcorBAexSuR+Fbt0A9CtejsDu6QJqZmZnZZ7dAhetRuJ7FsEAzMzMzM3G0QB+F61F4SLZASOF6FC44t0A9CtejcKKTQGZmZmZm5K5A9ihcj8KcxEAAAAAAgBfBQGZmZmam1LRAZmZmZkZvxECF61G4XtjGQDMzMzMzM3xA9ihcj2IrzUBSuB6Fo0fjQM3MzMxMnKdA16NwPeoIxkC4HoXrcenJQKRwPQp358hAexSuRxHD20DNzMzMlJ/jQOF6FK7nC89A16NwPcqD1kAfhetRSCvQQA==\",\"dtype\":\"float64\",\"order\":\"little\",\"shape\":[170]}},\"selected\":{\"id\":\"38225\"},\"selection_policy\":{\"id\":\"38239\"}},\"id\":\"38224\",\"type\":\"ColumnDataSource\"},{\"attributes\":{\"axis_label\":\"\",\"coordinates\":null,\"formatter\":{\"id\":\"36159\"},\"group\":null,\"major_label_policy\":{\"id\":\"38235\"},\"ticker\":{\"id\":\"38207\"}},\"id\":\"38206\",\"type\":\"LinearAxis\"},{\"attributes\":{\"end\":248298.227,\"reset_end\":248298.227,\"reset_start\":0.0,\"tags\":[[[\"value\",\"value\",null]]]},\"id\":\"38192\",\"type\":\"Range1d\"},{\"attributes\":{},\"id\":\"38239\",\"type\":\"UnionRenderers\"},{\"attributes\":{\"callback\":null,\"renderers\":[{\"id\":\"38230\"}],\"tags\":[\"hv_created\"],\"tooltips\":[[\"Region\",\"@{Region}\"],[\"Variable\",\"@{Variable}\"],[\"value\",\"@{value}\"]]},\"id\":\"38193\",\"type\":\"HoverTool\"},{\"attributes\":{\"coordinates\":null,\"group\":null,\"text_color\":\"black\",\"text_font_size\":\"12pt\"},\"id\":\"38195\",\"type\":\"Title\"},{\"attributes\":{\"coordinates\":null,\"data_source\":{\"id\":\"38224\"},\"glyph\":{\"id\":\"38227\"},\"group\":null,\"hover_glyph\":null,\"muted_glyph\":{\"id\":\"38229\"},\"nonselection_glyph\":{\"id\":\"38228\"},\"selection_glyph\":{\"id\":\"38244\"},\"view\":{\"id\":\"38231\"}},\"id\":\"38230\",\"type\":\"GlyphRenderer\"},{\"attributes\":{\"coordinates\":null,\"group\":null,\"items\":[{\"id\":\"38243\"}],\"location\":[0,0]},\"id\":\"38242\",\"type\":\"Legend\"},{\"attributes\":{},\"id\":\"38212\",\"type\":\"WheelZoomTool\"},{\"attributes\":{\"label\":{\"field\":\"Variable\"},\"renderers\":[{\"id\":\"38230\"}]},\"id\":\"38243\",\"type\":\"LegendItem\"}],\"root_ids\":[\"38190\"]},\"title\":\"Bokeh Application\",\"version\":\"2.4.3\"}};\n",
       "    var render_items = [{\"docid\":\"df6ed976-3182-448f-adcf-845fbe4cf3ff\",\"root_ids\":[\"38190\"],\"roots\":{\"38190\":\"e1aaad58-e829-4f0f-b136-5fa5b06bd8a2\"}}];\n",
       "    root.Bokeh.embed.embed_items_notebook(docs_json, render_items);\n",
       "    for (const render_item of render_items) {\n",
       "      for (const root_id of render_item.root_ids) {\n",
       "\tconst id_el = document.getElementById(root_id)\n",
       "\tif (id_el.children.length && (id_el.children[0].className === 'bk-root')) {\n",
       "\t  const root_el = id_el.children[0]\n",
       "\t  root_el.id = root_el.id + '-rendered'\n",
       "\t}\n",
       "      }\n",
       "    }\n",
       "  }\n",
       "  if (root.Bokeh !== undefined && root.Bokeh.Panel !== undefined) {\n",
       "    embed_document(root);\n",
       "  } else {\n",
       "    var attempts = 0;\n",
       "    var timer = setInterval(function(root) {\n",
       "      if (root.Bokeh !== undefined && root.Bokeh.Panel !== undefined) {\n",
       "        clearInterval(timer);\n",
       "        embed_document(root);\n",
       "      } else if (document.readyState == \"complete\") {\n",
       "        attempts++;\n",
       "        if (attempts > 200) {\n",
       "          clearInterval(timer);\n",
       "          console.log(\"Bokeh: ERROR: Unable to run BokehJS code because BokehJS library is missing\");\n",
       "        }\n",
       "      }\n",
       "    }, 25, root)\n",
       "  }\n",
       "})(window);</script>"
      ],
      "text/plain": [
       ":Bars   [Region,Variable]   (value)"
      ]
     },
     "execution_count": 338,
     "metadata": {
      "application/vnd.holoviews_exec.v0+json": {
       "id": "38190"
      }
     },
     "output_type": "execute_result"
    }
   ],
   "source": [
    "other_exp = ['Clothing, Footwear and Other Wear Expenditure', 'Housing and water Expenditure', \n",
    "       'Imputed House Rental Value', 'Medical Care Expenditure', 'Transportation Expenditure', 'Communication Expenditure', \n",
    "       'Education Expenditure', 'Miscellaneous Goods and Services Expenditure', 'Special Occasions Expenditure', 'Crop Farming and Gardening expenses']\n",
    "\n",
    "expense_scatter = dataset.groupby(\"Region\")[other_exp].mean().round(2)\n",
    "expense_scatter.hvplot.bar(rot=25, width=1400, height=900, yformatter=formatter, stacked=True)"
   ]
  },
  {
   "attachments": {},
   "cell_type": "markdown",
   "metadata": {},
   "source": [
    "6. Head Sex"
   ]
  },
  {
   "cell_type": "code",
   "execution_count": 330,
   "metadata": {},
   "outputs": [
    {
     "data": {},
     "metadata": {},
     "output_type": "display_data"
    },
    {
     "data": {
      "application/vnd.holoviews_exec.v0+json": "",
      "text/html": [
       "<div id='37231'>\n",
       "  <div class=\"bk-root\" id=\"98610bf4-f0d5-40ae-9212-d69fcccfa567\" data-root-id=\"37231\"></div>\n",
       "</div>\n",
       "<script type=\"application/javascript\">(function(root) {\n",
       "  function embed_document(root) {\n",
       "    var docs_json = {\"98613beb-0651-4eef-8677-1f96e2c0fb3e\":{\"defs\":[{\"extends\":null,\"module\":null,\"name\":\"ReactiveHTML1\",\"overrides\":[],\"properties\":[]},{\"extends\":null,\"module\":null,\"name\":\"FlexBox1\",\"overrides\":[],\"properties\":[{\"default\":\"flex-start\",\"kind\":null,\"name\":\"align_content\"},{\"default\":\"flex-start\",\"kind\":null,\"name\":\"align_items\"},{\"default\":\"row\",\"kind\":null,\"name\":\"flex_direction\"},{\"default\":\"wrap\",\"kind\":null,\"name\":\"flex_wrap\"},{\"default\":\"flex-start\",\"kind\":null,\"name\":\"justify_content\"}]},{\"extends\":null,\"module\":null,\"name\":\"GridStack1\",\"overrides\":[],\"properties\":[{\"default\":\"warn\",\"kind\":null,\"name\":\"mode\"},{\"default\":null,\"kind\":null,\"name\":\"ncols\"},{\"default\":null,\"kind\":null,\"name\":\"nrows\"},{\"default\":true,\"kind\":null,\"name\":\"allow_resize\"},{\"default\":true,\"kind\":null,\"name\":\"allow_drag\"},{\"default\":[],\"kind\":null,\"name\":\"state\"}]},{\"extends\":null,\"module\":null,\"name\":\"click1\",\"overrides\":[],\"properties\":[{\"default\":\"\",\"kind\":null,\"name\":\"terminal_output\"},{\"default\":\"\",\"kind\":null,\"name\":\"debug_name\"},{\"default\":0,\"kind\":null,\"name\":\"clears\"}]},{\"extends\":null,\"module\":null,\"name\":\"NotificationAreaBase1\",\"overrides\":[],\"properties\":[{\"default\":\"bottom-right\",\"kind\":null,\"name\":\"position\"},{\"default\":0,\"kind\":null,\"name\":\"_clear\"}]},{\"extends\":null,\"module\":null,\"name\":\"NotificationArea1\",\"overrides\":[],\"properties\":[{\"default\":[],\"kind\":null,\"name\":\"notifications\"},{\"default\":\"bottom-right\",\"kind\":null,\"name\":\"position\"},{\"default\":0,\"kind\":null,\"name\":\"_clear\"},{\"default\":[{\"background\":\"#ffc107\",\"icon\":{\"className\":\"fas fa-exclamation-triangle\",\"color\":\"white\",\"tagName\":\"i\"},\"type\":\"warning\"},{\"background\":\"#007bff\",\"icon\":{\"className\":\"fas fa-info-circle\",\"color\":\"white\",\"tagName\":\"i\"},\"type\":\"info\"}],\"kind\":null,\"name\":\"types\"}]},{\"extends\":null,\"module\":null,\"name\":\"Notification\",\"overrides\":[],\"properties\":[{\"default\":null,\"kind\":null,\"name\":\"background\"},{\"default\":3000,\"kind\":null,\"name\":\"duration\"},{\"default\":null,\"kind\":null,\"name\":\"icon\"},{\"default\":\"\",\"kind\":null,\"name\":\"message\"},{\"default\":null,\"kind\":null,\"name\":\"notification_type\"},{\"default\":false,\"kind\":null,\"name\":\"_destroyed\"}]},{\"extends\":null,\"module\":null,\"name\":\"TemplateActions1\",\"overrides\":[],\"properties\":[{\"default\":0,\"kind\":null,\"name\":\"open_modal\"},{\"default\":0,\"kind\":null,\"name\":\"close_modal\"}]},{\"extends\":null,\"module\":null,\"name\":\"MaterialTemplateActions1\",\"overrides\":[],\"properties\":[{\"default\":0,\"kind\":null,\"name\":\"open_modal\"},{\"default\":0,\"kind\":null,\"name\":\"close_modal\"}]}],\"roots\":{\"references\":[{\"attributes\":{\"axis\":{\"id\":\"37244\"},\"coordinates\":null,\"grid_line_color\":null,\"group\":null,\"ticker\":null},\"id\":\"37246\",\"type\":\"Grid\"},{\"attributes\":{},\"id\":\"37280\",\"type\":\"UnionRenderers\"},{\"attributes\":{},\"id\":\"37240\",\"type\":\"CategoricalScale\"},{\"attributes\":{},\"id\":\"37248\",\"type\":\"BasicTicker\"},{\"attributes\":{\"children\":[{\"id\":\"37235\"}],\"height\":700,\"margin\":[0,0,0,0],\"name\":\"Row41206\",\"sizing_mode\":\"fixed\",\"tags\":[\"embedded\"],\"width\":800},\"id\":\"37231\",\"type\":\"Row\"},{\"attributes\":{\"bottom_units\":\"screen\",\"coordinates\":null,\"fill_alpha\":0.5,\"fill_color\":\"lightgrey\",\"group\":null,\"left_units\":\"screen\",\"level\":\"overlay\",\"line_alpha\":1.0,\"line_color\":\"black\",\"line_dash\":[4,4],\"line_width\":2,\"right_units\":\"screen\",\"syncable\":false,\"top_units\":\"screen\"},\"id\":\"37256\",\"type\":\"BoxAnnotation\"},{\"attributes\":{\"source\":{\"id\":\"37265\"}},\"id\":\"37272\",\"type\":\"CDSView\"},{\"attributes\":{\"coordinates\":null,\"group\":null,\"text\":\"Household Head Sex per Region\",\"text_color\":\"black\",\"text_font_size\":\"12pt\"},\"id\":\"37236\",\"type\":\"Title\"},{\"attributes\":{\"factors\":[\" ARMM\",\"CAR\",\"Caraga\",\"I - Ilocos Region\",\"II - Cagayan Valley\",\"III - Central Luzon\",\"IVA - CALABARZON\",\"IVB - MIMAROPA\",\"IX - Zasmboanga Peninsula\",\"NCR\",\"V - Bicol Region\",\"VI - Western Visayas\",\"VII - Central Visayas\",\"VIII - Eastern Visayas\",\"X - Northern Mindanao\",\"XI - Davao Region\",\"XII - SOCCSKSARGEN\"],\"tags\":[[[\"Region\",\"Region\",null]]]},\"id\":\"37232\",\"type\":\"FactorRange\"},{\"attributes\":{},\"id\":\"37251\",\"type\":\"SaveTool\"},{\"attributes\":{},\"id\":\"37275\",\"type\":\"BasicTickFormatter\"},{\"attributes\":{\"axis_label\":\"Region\",\"coordinates\":null,\"formatter\":{\"id\":\"37278\"},\"group\":null,\"major_label_orientation\":0.4363323129985824,\"major_label_policy\":{\"id\":\"37279\"},\"ticker\":{\"id\":\"37245\"}},\"id\":\"37244\",\"type\":\"CategoricalAxis\"},{\"attributes\":{\"overlay\":{\"id\":\"37256\"}},\"id\":\"37254\",\"type\":\"BoxZoomTool\"},{\"attributes\":{\"active_drag\":{\"id\":\"37252\"},\"active_scroll\":{\"id\":\"37253\"},\"tools\":[{\"id\":\"37234\"},{\"id\":\"37251\"},{\"id\":\"37252\"},{\"id\":\"37253\"},{\"id\":\"37254\"},{\"id\":\"37255\"}]},\"id\":\"37257\",\"type\":\"Toolbar\"},{\"attributes\":{},\"id\":\"37245\",\"type\":\"CategoricalTicker\"},{\"attributes\":{},\"id\":\"37255\",\"type\":\"ResetTool\"},{\"attributes\":{\"coordinates\":null,\"group\":null,\"items\":[{\"id\":\"37284\"}],\"location\":[0,0],\"orientation\":\"horizontal\"},\"id\":\"37283\",\"type\":\"Legend\"},{\"attributes\":{\"bottom\":{\"field\":\"bottom\"},\"fill_color\":{\"field\":\"Household_Head_Sex\",\"transform\":{\"id\":\"37264\"}},\"hatch_color\":{\"field\":\"Household_Head_Sex\",\"transform\":{\"id\":\"37264\"}},\"top\":{\"field\":\"top\"},\"width\":{\"value\":0.8},\"x\":{\"field\":\"Region\"}},\"id\":\"37268\",\"type\":\"VBar\"},{\"attributes\":{\"axis\":{\"id\":\"37247\"},\"coordinates\":null,\"dimension\":1,\"grid_line_color\":null,\"group\":null,\"ticker\":null},\"id\":\"37250\",\"type\":\"Grid\"},{\"attributes\":{},\"id\":\"37253\",\"type\":\"WheelZoomTool\"},{\"attributes\":{\"bottom\":{\"field\":\"bottom\"},\"fill_alpha\":{\"value\":0.1},\"fill_color\":{\"field\":\"Household_Head_Sex\",\"transform\":{\"id\":\"37264\"}},\"hatch_alpha\":{\"value\":0.1},\"hatch_color\":{\"field\":\"Household_Head_Sex\",\"transform\":{\"id\":\"37264\"}},\"line_alpha\":{\"value\":0.1},\"top\":{\"field\":\"top\"},\"width\":{\"value\":0.8},\"x\":{\"field\":\"Region\"}},\"id\":\"37269\",\"type\":\"VBar\"},{\"attributes\":{},\"id\":\"37279\",\"type\":\"AllLabels\"},{\"attributes\":{\"bottom\":{\"field\":\"bottom\"},\"fill_alpha\":{\"value\":0.2},\"fill_color\":{\"field\":\"Household_Head_Sex\",\"transform\":{\"id\":\"37264\"}},\"hatch_alpha\":{\"value\":0.2},\"hatch_color\":{\"field\":\"Household_Head_Sex\",\"transform\":{\"id\":\"37264\"}},\"line_alpha\":{\"value\":0.2},\"top\":{\"field\":\"top\"},\"width\":{\"value\":0.8},\"x\":{\"field\":\"Region\"}},\"id\":\"37270\",\"type\":\"VBar\"},{\"attributes\":{\"callback\":null,\"renderers\":[{\"id\":\"37271\"}],\"tags\":[\"hv_created\"],\"tooltips\":[[\"Region\",\"@{Region}\"],[\"Household Head Sex\",\"@{Household_Head_Sex}\"],[\"Count\",\"@{Count}\"]]},\"id\":\"37234\",\"type\":\"HoverTool\"},{\"attributes\":{\"axis_label\":\"Count\",\"coordinates\":null,\"formatter\":{\"id\":\"37275\"},\"group\":null,\"major_label_policy\":{\"id\":\"37276\"},\"ticker\":{\"id\":\"37248\"}},\"id\":\"37247\",\"type\":\"LinearAxis\"},{\"attributes\":{\"coordinates\":null,\"data_source\":{\"id\":\"37265\"},\"glyph\":{\"id\":\"37268\"},\"group\":null,\"hover_glyph\":null,\"muted_glyph\":{\"id\":\"37270\"},\"nonselection_glyph\":{\"id\":\"37269\"},\"selection_glyph\":{\"id\":\"37285\"},\"view\":{\"id\":\"37272\"}},\"id\":\"37271\",\"type\":\"GlyphRenderer\"},{\"attributes\":{\"above\":[{\"id\":\"37283\"}],\"below\":[{\"id\":\"37244\"}],\"center\":[{\"id\":\"37246\"},{\"id\":\"37250\"},{\"id\":\"37283\"}],\"height\":700,\"left\":[{\"id\":\"37247\"}],\"margin\":[5,5,5,5],\"min_border_bottom\":10,\"min_border_left\":10,\"min_border_right\":10,\"min_border_top\":10,\"renderers\":[{\"id\":\"37271\"}],\"sizing_mode\":\"fixed\",\"title\":{\"id\":\"37236\"},\"toolbar\":{\"id\":\"37257\"},\"width\":800,\"x_range\":{\"id\":\"37232\"},\"x_scale\":{\"id\":\"37240\"},\"y_range\":{\"id\":\"37233\"},\"y_scale\":{\"id\":\"37242\"}},\"id\":\"37235\",\"subtype\":\"Figure\",\"type\":\"Plot\"},{\"attributes\":{\"data\":{\"Count\":[171,487,400,444,665,642,565,1178,362,266,1062,354,777,417,369,555,347,1959,2077,1487,1893,1356,1876,1435,2460,1907,2952,1793,1434,983,1802,3100,2209,1760],\"Household_Head_Sex\":[\"Female\",\"Female\",\"Female\",\"Female\",\"Female\",\"Female\",\"Female\",\"Female\",\"Female\",\"Female\",\"Female\",\"Female\",\"Female\",\"Female\",\"Female\",\"Female\",\"Female\",\"Male\",\"Male\",\"Male\",\"Male\",\"Male\",\"Male\",\"Male\",\"Male\",\"Male\",\"Male\",\"Male\",\"Male\",\"Male\",\"Male\",\"Male\",\"Male\",\"Male\"],\"Region\":[\" ARMM\",\"XI - Davao Region\",\"X - Northern Mindanao\",\"VIII - Eastern Visayas\",\"VII - Central Visayas\",\"VI - Western Visayas\",\"V - Bicol Region\",\"NCR\",\"XII - SOCCSKSARGEN\",\"IVB - MIMAROPA\",\"IVA - CALABARZON\",\"IX - Zasmboanga Peninsula\",\"III - Central Luzon\",\"II - Cagayan Valley\",\"CAR\",\"I - Ilocos Region\",\"Caraga\",\"XI - Davao Region\",\" ARMM\",\"X - Northern Mindanao\",\"VIII - Eastern Visayas\",\"CAR\",\"VII - Central Visayas\",\"Caraga\",\"III - Central Luzon\",\"V - Bicol Region\",\"NCR\",\"I - Ilocos Region\",\"IX - Zasmboanga Peninsula\",\"IVB - MIMAROPA\",\"II - Cagayan Valley\",\"IVA - CALABARZON\",\"VI - Western Visayas\",\"XII - SOCCSKSARGEN\"],\"bottom\":{\"__ndarray__\":\"AAAAAAAAAAAAAAAAAAAAAAAAAAAAAAAAAAAAAAAAAAAAAAAAAAAAAAAAAAAAAAAAAAAAAAAAAAAAAAAAAAAAAAAAAAAAAAAAAAAAAAAAAAAAAAAAAAAAAAAAAAAAAAAAAAAAAAAAAAAAAAAAAAAAAAAAAAAAAAAAAAAAAAAAAAAAAAAAAAAAAAAAAAAAcH5AAAAAAABgZUAAAAAAAAB5QAAAAAAAwHtAAAAAAAAQd0AAAAAAAMiEQAAAAAAAsHVAAAAAAABIiEAAAAAAAKiBQAAAAAAAaJJAAAAAAABYgUAAAAAAACB2QAAAAAAAoHBAAAAAAAAQekAAAAAAAJiQQAAAAAAAEIRAAAAAAACgdkA=\",\"dtype\":\"float64\",\"order\":\"little\",\"shape\":[34]},\"top\":{\"__ndarray__\":\"AAAAAABgZUAAAAAAAHB+QAAAAAAAAHlAAAAAAADAe0AAAAAAAMiEQAAAAAAAEIRAAAAAAACogUAAAAAAAGiSQAAAAAAAoHZAAAAAAACgcEAAAAAAAJiQQAAAAAAAIHZAAAAAAABIiEAAAAAAABB6QAAAAAAAEHdAAAAAAABYgUAAAAAAALB1QAAAAAAAHKNAAAAAAACQoUAAAAAAAHydQAAAAAAAQqJAAAAAAAD0mkAAAAAAANqjQAAAAAAA2JtAAAAAAABKqUAAAAAAAFCjQAAAAAAAIrBAAAAAAABYokAAAAAAAPCbQAAAAAAAhJNAAAAAAABWoUAAAAAAAEKwQAAAAAAARqZAAAAAAACUoEA=\",\"dtype\":\"float64\",\"order\":\"little\",\"shape\":[34]}},\"selected\":{\"id\":\"37266\"},\"selection_policy\":{\"id\":\"37280\"}},\"id\":\"37265\",\"type\":\"ColumnDataSource\"},{\"attributes\":{\"label\":{\"field\":\"Household_Head_Sex\"},\"renderers\":[{\"id\":\"37271\"}]},\"id\":\"37284\",\"type\":\"LegendItem\"},{\"attributes\":{},\"id\":\"37252\",\"type\":\"PanTool\"},{\"attributes\":{},\"id\":\"37278\",\"type\":\"CategoricalTickFormatter\"},{\"attributes\":{\"bottom\":{\"field\":\"bottom\"},\"fill_alpha\":{\"value\":1.0},\"fill_color\":{\"field\":\"Household_Head_Sex\",\"transform\":{\"id\":\"37264\"}},\"hatch_alpha\":{\"value\":1.0},\"hatch_color\":{\"field\":\"Household_Head_Sex\",\"transform\":{\"id\":\"37264\"}},\"hatch_scale\":{\"value\":12.0},\"hatch_weight\":{\"value\":1.0},\"line_alpha\":{\"value\":1.0},\"line_cap\":{\"value\":\"butt\"},\"line_color\":{\"value\":\"black\"},\"line_dash\":{\"value\":[]},\"line_dash_offset\":{\"value\":0},\"line_join\":{\"value\":\"bevel\"},\"line_width\":{\"value\":1},\"top\":{\"field\":\"top\"},\"width\":{\"value\":0.8},\"x\":{\"field\":\"Region\"}},\"id\":\"37285\",\"type\":\"VBar\"},{\"attributes\":{\"factors\":[\"Female\",\"Male\"],\"palette\":[\"#30a2da\",\"#fc4f30\"]},\"id\":\"37264\",\"type\":\"CategoricalColorMapper\"},{\"attributes\":{},\"id\":\"37276\",\"type\":\"AllLabels\"},{\"attributes\":{\"end\":4453.3,\"reset_end\":4453.3,\"reset_start\":0.0,\"tags\":[[[\"Count\",\"Count\",null]]]},\"id\":\"37233\",\"type\":\"Range1d\"},{\"attributes\":{},\"id\":\"37266\",\"type\":\"Selection\"},{\"attributes\":{},\"id\":\"37242\",\"type\":\"LinearScale\"}],\"root_ids\":[\"37231\"]},\"title\":\"Bokeh Application\",\"version\":\"2.4.3\"}};\n",
       "    var render_items = [{\"docid\":\"98613beb-0651-4eef-8677-1f96e2c0fb3e\",\"root_ids\":[\"37231\"],\"roots\":{\"37231\":\"98610bf4-f0d5-40ae-9212-d69fcccfa567\"}}];\n",
       "    root.Bokeh.embed.embed_items_notebook(docs_json, render_items);\n",
       "    for (const render_item of render_items) {\n",
       "      for (const root_id of render_item.root_ids) {\n",
       "\tconst id_el = document.getElementById(root_id)\n",
       "\tif (id_el.children.length && (id_el.children[0].className === 'bk-root')) {\n",
       "\t  const root_el = id_el.children[0]\n",
       "\t  root_el.id = root_el.id + '-rendered'\n",
       "\t}\n",
       "      }\n",
       "    }\n",
       "  }\n",
       "  if (root.Bokeh !== undefined && root.Bokeh.Panel !== undefined) {\n",
       "    embed_document(root);\n",
       "  } else {\n",
       "    var attempts = 0;\n",
       "    var timer = setInterval(function(root) {\n",
       "      if (root.Bokeh !== undefined && root.Bokeh.Panel !== undefined) {\n",
       "        clearInterval(timer);\n",
       "        embed_document(root);\n",
       "      } else if (document.readyState == \"complete\") {\n",
       "        attempts++;\n",
       "        if (attempts > 200) {\n",
       "          clearInterval(timer);\n",
       "          console.log(\"Bokeh: ERROR: Unable to run BokehJS code because BokehJS library is missing\");\n",
       "        }\n",
       "      }\n",
       "    }, 25, root)\n",
       "  }\n",
       "})(window);</script>"
      ],
      "text/plain": [
       ":Bars   [Region,Household Head Sex]   (Count)"
      ]
     },
     "execution_count": 330,
     "metadata": {
      "application/vnd.holoviews_exec.v0+json": {
       "id": "37231"
      }
     },
     "output_type": "execute_result"
    }
   ],
   "source": [
    "head_sex = dataset.groupby([\"Region\", \"Household Head Sex\"]).size().to_frame()\n",
    "head_sex.columns = [\"Count\"]\n",
    "head_sex.hvplot.bar(title=\"Household Head Sex per Region\",stacked=True, height=700, width=800, legend='top', rot=25)"
   ]
  },
  {
   "attachments": {},
   "cell_type": "markdown",
   "metadata": {},
   "source": [
    "7. Head age distribution"
   ]
  },
  {
   "cell_type": "code",
   "execution_count": 351,
   "metadata": {},
   "outputs": [
    {
     "data": {},
     "metadata": {},
     "output_type": "display_data"
    },
    {
     "data": {
      "application/vnd.holoviews_exec.v0+json": "",
      "text/html": [
       "<div id='39104'>\n",
       "  <div class=\"bk-root\" id=\"9869247c-097e-4135-8236-f21a2bb6f0f4\" data-root-id=\"39104\"></div>\n",
       "</div>\n",
       "<script type=\"application/javascript\">(function(root) {\n",
       "  function embed_document(root) {\n",
       "    var docs_json = {\"502ab244-0557-4ee9-b152-a15abaf6c95c\":{\"defs\":[{\"extends\":null,\"module\":null,\"name\":\"ReactiveHTML1\",\"overrides\":[],\"properties\":[]},{\"extends\":null,\"module\":null,\"name\":\"FlexBox1\",\"overrides\":[],\"properties\":[{\"default\":\"flex-start\",\"kind\":null,\"name\":\"align_content\"},{\"default\":\"flex-start\",\"kind\":null,\"name\":\"align_items\"},{\"default\":\"row\",\"kind\":null,\"name\":\"flex_direction\"},{\"default\":\"wrap\",\"kind\":null,\"name\":\"flex_wrap\"},{\"default\":\"flex-start\",\"kind\":null,\"name\":\"justify_content\"}]},{\"extends\":null,\"module\":null,\"name\":\"GridStack1\",\"overrides\":[],\"properties\":[{\"default\":\"warn\",\"kind\":null,\"name\":\"mode\"},{\"default\":null,\"kind\":null,\"name\":\"ncols\"},{\"default\":null,\"kind\":null,\"name\":\"nrows\"},{\"default\":true,\"kind\":null,\"name\":\"allow_resize\"},{\"default\":true,\"kind\":null,\"name\":\"allow_drag\"},{\"default\":[],\"kind\":null,\"name\":\"state\"}]},{\"extends\":null,\"module\":null,\"name\":\"click1\",\"overrides\":[],\"properties\":[{\"default\":\"\",\"kind\":null,\"name\":\"terminal_output\"},{\"default\":\"\",\"kind\":null,\"name\":\"debug_name\"},{\"default\":0,\"kind\":null,\"name\":\"clears\"}]},{\"extends\":null,\"module\":null,\"name\":\"NotificationAreaBase1\",\"overrides\":[],\"properties\":[{\"default\":\"bottom-right\",\"kind\":null,\"name\":\"position\"},{\"default\":0,\"kind\":null,\"name\":\"_clear\"}]},{\"extends\":null,\"module\":null,\"name\":\"NotificationArea1\",\"overrides\":[],\"properties\":[{\"default\":[],\"kind\":null,\"name\":\"notifications\"},{\"default\":\"bottom-right\",\"kind\":null,\"name\":\"position\"},{\"default\":0,\"kind\":null,\"name\":\"_clear\"},{\"default\":[{\"background\":\"#ffc107\",\"icon\":{\"className\":\"fas fa-exclamation-triangle\",\"color\":\"white\",\"tagName\":\"i\"},\"type\":\"warning\"},{\"background\":\"#007bff\",\"icon\":{\"className\":\"fas fa-info-circle\",\"color\":\"white\",\"tagName\":\"i\"},\"type\":\"info\"}],\"kind\":null,\"name\":\"types\"}]},{\"extends\":null,\"module\":null,\"name\":\"Notification\",\"overrides\":[],\"properties\":[{\"default\":null,\"kind\":null,\"name\":\"background\"},{\"default\":3000,\"kind\":null,\"name\":\"duration\"},{\"default\":null,\"kind\":null,\"name\":\"icon\"},{\"default\":\"\",\"kind\":null,\"name\":\"message\"},{\"default\":null,\"kind\":null,\"name\":\"notification_type\"},{\"default\":false,\"kind\":null,\"name\":\"_destroyed\"}]},{\"extends\":null,\"module\":null,\"name\":\"TemplateActions1\",\"overrides\":[],\"properties\":[{\"default\":0,\"kind\":null,\"name\":\"open_modal\"},{\"default\":0,\"kind\":null,\"name\":\"close_modal\"}]},{\"extends\":null,\"module\":null,\"name\":\"MaterialTemplateActions1\",\"overrides\":[],\"properties\":[{\"default\":0,\"kind\":null,\"name\":\"open_modal\"},{\"default\":0,\"kind\":null,\"name\":\"close_modal\"}]}],\"roots\":{\"references\":[{\"attributes\":{\"factors\":[\"9\",\"10\",\"13\",\"14\",\"15\",\"16\",\"17\",\"18\",\"19\",\"20\",\"21\",\"22\",\"23\",\"24\",\"25\",\"26\",\"27\",\"28\",\"29\",\"30\",\"31\",\"32\",\"33\",\"34\",\"35\",\"36\",\"37\",\"38\",\"39\",\"40\",\"41\",\"42\",\"43\",\"44\",\"45\",\"46\",\"47\",\"48\",\"49\",\"50\",\"51\",\"52\",\"53\",\"54\",\"55\",\"56\",\"57\",\"58\",\"59\",\"60\",\"61\",\"62\",\"63\",\"64\",\"65\",\"66\",\"67\",\"68\",\"69\",\"70\",\"71\",\"72\",\"73\",\"74\",\"75\",\"76\",\"77\",\"78\",\"79\",\"80\",\"81\",\"82\",\"83\",\"84\",\"85\",\"86\",\"87\",\"88\",\"89\",\"90\",\"91\",\"92\",\"93\",\"94\",\"95\",\"96\",\"97\",\"98\",\"99\"],\"tags\":[[[\"Household Head Age\",\"Household Head Age\",null]]]},\"id\":\"39105\",\"type\":\"FactorRange\"},{\"attributes\":{\"overlay\":{\"id\":\"39129\"}},\"id\":\"39127\",\"type\":\"BoxZoomTool\"},{\"attributes\":{\"bottom\":{\"value\":0},\"fill_alpha\":{\"value\":1.0},\"fill_color\":{\"value\":\"#30a2da\"},\"hatch_alpha\":{\"value\":1.0},\"hatch_color\":{\"value\":\"#30a2da\"},\"hatch_scale\":{\"value\":12.0},\"hatch_weight\":{\"value\":1.0},\"line_alpha\":{\"value\":1.0},\"line_cap\":{\"value\":\"butt\"},\"line_color\":{\"value\":\"black\"},\"line_dash\":{\"value\":[]},\"line_dash_offset\":{\"value\":0},\"line_join\":{\"value\":\"bevel\"},\"line_width\":{\"value\":1},\"top\":{\"field\":\"A_0\"},\"width\":{\"value\":0.8},\"x\":{\"field\":\"Household_Head_Age\"}},\"id\":\"39145\",\"type\":\"VBar\"},{\"attributes\":{},\"id\":\"39128\",\"type\":\"ResetTool\"},{\"attributes\":{},\"id\":\"39163\",\"type\":\"UnionRenderers\"},{\"attributes\":{\"source\":{\"id\":\"39137\"}},\"id\":\"39144\",\"type\":\"CDSView\"},{\"attributes\":{\"bottom_units\":\"screen\",\"coordinates\":null,\"fill_alpha\":0.5,\"fill_color\":\"lightgrey\",\"group\":null,\"left_units\":\"screen\",\"level\":\"overlay\",\"line_alpha\":1.0,\"line_color\":\"black\",\"line_dash\":[4,4],\"line_width\":2,\"right_units\":\"screen\",\"syncable\":false,\"top_units\":\"screen\"},\"id\":\"39129\",\"type\":\"BoxAnnotation\"},{\"attributes\":{\"coordinates\":null,\"data_source\":{\"id\":\"39137\"},\"glyph\":{\"id\":\"39140\"},\"group\":null,\"hover_glyph\":null,\"muted_glyph\":{\"id\":\"39142\"},\"nonselection_glyph\":{\"id\":\"39141\"},\"selection_glyph\":{\"id\":\"39145\"},\"view\":{\"id\":\"39144\"}},\"id\":\"39143\",\"type\":\"GlyphRenderer\"},{\"attributes\":{},\"id\":\"39148\",\"type\":\"AllLabels\"},{\"attributes\":{},\"id\":\"39151\",\"type\":\"AllLabels\"},{\"attributes\":{\"end\":1260.5,\"reset_end\":1260.5,\"reset_start\":0.0,\"tags\":[[[\"0\",\"0\",null]]]},\"id\":\"39106\",\"type\":\"Range1d\"},{\"attributes\":{\"active_drag\":{\"id\":\"39125\"},\"active_scroll\":{\"id\":\"39126\"},\"tools\":[{\"id\":\"39107\"},{\"id\":\"39124\"},{\"id\":\"39125\"},{\"id\":\"39126\"},{\"id\":\"39127\"},{\"id\":\"39128\"}]},\"id\":\"39130\",\"type\":\"Toolbar\"},{\"attributes\":{},\"id\":\"39150\",\"type\":\"BasicTickFormatter\"},{\"attributes\":{\"data\":{\"A_0\":[1,1,2,1,6,19,13,30,34,48,87,100,118,169,210,251,278,357,358,512,469,524,650,613,814,802,807,881,856,1003,950,1010,1096,962,1133,1140,1020,1099,1123,1123,1059,1074,1146,907,1097,980,856,994,908,982,763,845,828,674,771,643,586,562,507,467,382,364,426,394,383,307,292,272,206,219,155,143,141,108,119,64,57,43,22,43,19,18,7,6,10,7,3,8,7],\"Household_Head_Age\":[\"9\",\"10\",\"13\",\"14\",\"15\",\"16\",\"17\",\"18\",\"19\",\"20\",\"21\",\"22\",\"23\",\"24\",\"25\",\"26\",\"27\",\"28\",\"29\",\"30\",\"31\",\"32\",\"33\",\"34\",\"35\",\"36\",\"37\",\"38\",\"39\",\"40\",\"41\",\"42\",\"43\",\"44\",\"45\",\"46\",\"47\",\"48\",\"49\",\"50\",\"51\",\"52\",\"53\",\"54\",\"55\",\"56\",\"57\",\"58\",\"59\",\"60\",\"61\",\"62\",\"63\",\"64\",\"65\",\"66\",\"67\",\"68\",\"69\",\"70\",\"71\",\"72\",\"73\",\"74\",\"75\",\"76\",\"77\",\"78\",\"79\",\"80\",\"81\",\"82\",\"83\",\"84\",\"85\",\"86\",\"87\",\"88\",\"89\",\"90\",\"91\",\"92\",\"93\",\"94\",\"95\",\"96\",\"97\",\"98\",\"99\"]},\"selected\":{\"id\":\"39138\"},\"selection_policy\":{\"id\":\"39163\"}},\"id\":\"39137\",\"type\":\"ColumnDataSource\"},{\"attributes\":{},\"id\":\"39113\",\"type\":\"CategoricalScale\"},{\"attributes\":{},\"id\":\"39115\",\"type\":\"LinearScale\"},{\"attributes\":{\"callback\":null,\"renderers\":[{\"id\":\"39143\"}],\"tags\":[\"hv_created\"],\"tooltips\":[[\"Household Head Age\",\"@{Household_Head_Age}\"],[\"0\",\"@{A_0}\"]]},\"id\":\"39107\",\"type\":\"HoverTool\"},{\"attributes\":{\"below\":[{\"id\":\"39117\"}],\"center\":[{\"id\":\"39119\"},{\"id\":\"39123\"}],\"height\":700,\"left\":[{\"id\":\"39120\"}],\"margin\":[5,5,5,5],\"min_border_bottom\":10,\"min_border_left\":10,\"min_border_right\":10,\"min_border_top\":10,\"renderers\":[{\"id\":\"39143\"}],\"sizing_mode\":\"fixed\",\"title\":{\"id\":\"39109\"},\"toolbar\":{\"id\":\"39130\"},\"width\":1300,\"x_range\":{\"id\":\"39105\"},\"x_scale\":{\"id\":\"39113\"},\"y_range\":{\"id\":\"39106\"},\"y_scale\":{\"id\":\"39115\"}},\"id\":\"39108\",\"subtype\":\"Figure\",\"type\":\"Plot\"},{\"attributes\":{\"coordinates\":null,\"group\":null,\"text_color\":\"black\",\"text_font_size\":\"12pt\"},\"id\":\"39109\",\"type\":\"Title\"},{\"attributes\":{\"fill_color\":{\"value\":\"#30a2da\"},\"hatch_color\":{\"value\":\"#30a2da\"},\"top\":{\"field\":\"A_0\"},\"width\":{\"value\":0.8},\"x\":{\"field\":\"Household_Head_Age\"}},\"id\":\"39140\",\"type\":\"VBar\"},{\"attributes\":{\"axis_label\":\"Household Head Age\",\"coordinates\":null,\"formatter\":{\"id\":\"39147\"},\"group\":null,\"major_label_policy\":{\"id\":\"39148\"},\"ticker\":{\"id\":\"39118\"}},\"id\":\"39117\",\"type\":\"CategoricalAxis\"},{\"attributes\":{},\"id\":\"39118\",\"type\":\"CategoricalTicker\"},{\"attributes\":{\"axis\":{\"id\":\"39117\"},\"coordinates\":null,\"grid_line_color\":null,\"group\":null,\"ticker\":null},\"id\":\"39119\",\"type\":\"Grid\"},{\"attributes\":{\"fill_alpha\":{\"value\":0.1},\"fill_color\":{\"value\":\"#30a2da\"},\"hatch_alpha\":{\"value\":0.1},\"hatch_color\":{\"value\":\"#30a2da\"},\"line_alpha\":{\"value\":0.1},\"top\":{\"field\":\"A_0\"},\"width\":{\"value\":0.8},\"x\":{\"field\":\"Household_Head_Age\"}},\"id\":\"39141\",\"type\":\"VBar\"},{\"attributes\":{},\"id\":\"39138\",\"type\":\"Selection\"},{\"attributes\":{},\"id\":\"39125\",\"type\":\"PanTool\"},{\"attributes\":{\"fill_alpha\":{\"value\":0.2},\"fill_color\":{\"value\":\"#30a2da\"},\"hatch_alpha\":{\"value\":0.2},\"hatch_color\":{\"value\":\"#30a2da\"},\"line_alpha\":{\"value\":0.2},\"top\":{\"field\":\"A_0\"},\"width\":{\"value\":0.8},\"x\":{\"field\":\"Household_Head_Age\"}},\"id\":\"39142\",\"type\":\"VBar\"},{\"attributes\":{\"axis_label\":\"0\",\"coordinates\":null,\"formatter\":{\"id\":\"39150\"},\"group\":null,\"major_label_policy\":{\"id\":\"39151\"},\"ticker\":{\"id\":\"39121\"}},\"id\":\"39120\",\"type\":\"LinearAxis\"},{\"attributes\":{},\"id\":\"39147\",\"type\":\"CategoricalTickFormatter\"},{\"attributes\":{\"axis\":{\"id\":\"39120\"},\"coordinates\":null,\"dimension\":1,\"grid_line_color\":null,\"group\":null,\"ticker\":null},\"id\":\"39123\",\"type\":\"Grid\"},{\"attributes\":{},\"id\":\"39121\",\"type\":\"BasicTicker\"},{\"attributes\":{},\"id\":\"39126\",\"type\":\"WheelZoomTool\"},{\"attributes\":{\"children\":[{\"id\":\"39108\"}],\"height\":700,\"margin\":[0,0,0,0],\"name\":\"Row43913\",\"sizing_mode\":\"fixed\",\"tags\":[\"embedded\"],\"width\":1300},\"id\":\"39104\",\"type\":\"Row\"},{\"attributes\":{},\"id\":\"39124\",\"type\":\"SaveTool\"}],\"root_ids\":[\"39104\"]},\"title\":\"Bokeh Application\",\"version\":\"2.4.3\"}};\n",
       "    var render_items = [{\"docid\":\"502ab244-0557-4ee9-b152-a15abaf6c95c\",\"root_ids\":[\"39104\"],\"roots\":{\"39104\":\"9869247c-097e-4135-8236-f21a2bb6f0f4\"}}];\n",
       "    root.Bokeh.embed.embed_items_notebook(docs_json, render_items);\n",
       "    for (const render_item of render_items) {\n",
       "      for (const root_id of render_item.root_ids) {\n",
       "\tconst id_el = document.getElementById(root_id)\n",
       "\tif (id_el.children.length && (id_el.children[0].className === 'bk-root')) {\n",
       "\t  const root_el = id_el.children[0]\n",
       "\t  root_el.id = root_el.id + '-rendered'\n",
       "\t}\n",
       "      }\n",
       "    }\n",
       "  }\n",
       "  if (root.Bokeh !== undefined && root.Bokeh.Panel !== undefined) {\n",
       "    embed_document(root);\n",
       "  } else {\n",
       "    var attempts = 0;\n",
       "    var timer = setInterval(function(root) {\n",
       "      if (root.Bokeh !== undefined && root.Bokeh.Panel !== undefined) {\n",
       "        clearInterval(timer);\n",
       "        embed_document(root);\n",
       "      } else if (document.readyState == \"complete\") {\n",
       "        attempts++;\n",
       "        if (attempts > 200) {\n",
       "          clearInterval(timer);\n",
       "          console.log(\"Bokeh: ERROR: Unable to run BokehJS code because BokehJS library is missing\");\n",
       "        }\n",
       "      }\n",
       "    }, 25, root)\n",
       "  }\n",
       "})(window);</script>"
      ],
      "text/plain": [
       ":Bars   [Household Head Age]   (0)"
      ]
     },
     "execution_count": 351,
     "metadata": {
      "application/vnd.holoviews_exec.v0+json": {
       "id": "39104"
      }
     },
     "output_type": "execute_result"
    }
   ],
   "source": [
    "head_age = dataset.groupby([\"Household Head Age\"]).size().to_frame()\n",
    "head_age.hvplot.bar(width=1300, height=700)"
   ]
  },
  {
   "attachments": {},
   "cell_type": "markdown",
   "metadata": {},
   "source": [
    "8. Top regions of Total Entrepreneurial Activities"
   ]
  },
  {
   "cell_type": "code",
   "execution_count": 369,
   "metadata": {},
   "outputs": [
    {
     "data": {},
     "metadata": {},
     "output_type": "display_data"
    },
    {
     "data": {
      "application/vnd.holoviews_exec.v0+json": "",
      "text/html": [
       "<div id='41582'>\n",
       "  <div class=\"bk-root\" id=\"b0f74878-bf79-4be8-9025-8df5a5731cb9\" data-root-id=\"41582\"></div>\n",
       "</div>\n",
       "<script type=\"application/javascript\">(function(root) {\n",
       "  function embed_document(root) {\n",
       "    var docs_json = {\"2657985d-a2d0-4307-a3e8-5aec6acf4e17\":{\"defs\":[{\"extends\":null,\"module\":null,\"name\":\"ReactiveHTML1\",\"overrides\":[],\"properties\":[]},{\"extends\":null,\"module\":null,\"name\":\"FlexBox1\",\"overrides\":[],\"properties\":[{\"default\":\"flex-start\",\"kind\":null,\"name\":\"align_content\"},{\"default\":\"flex-start\",\"kind\":null,\"name\":\"align_items\"},{\"default\":\"row\",\"kind\":null,\"name\":\"flex_direction\"},{\"default\":\"wrap\",\"kind\":null,\"name\":\"flex_wrap\"},{\"default\":\"flex-start\",\"kind\":null,\"name\":\"justify_content\"}]},{\"extends\":null,\"module\":null,\"name\":\"GridStack1\",\"overrides\":[],\"properties\":[{\"default\":\"warn\",\"kind\":null,\"name\":\"mode\"},{\"default\":null,\"kind\":null,\"name\":\"ncols\"},{\"default\":null,\"kind\":null,\"name\":\"nrows\"},{\"default\":true,\"kind\":null,\"name\":\"allow_resize\"},{\"default\":true,\"kind\":null,\"name\":\"allow_drag\"},{\"default\":[],\"kind\":null,\"name\":\"state\"}]},{\"extends\":null,\"module\":null,\"name\":\"click1\",\"overrides\":[],\"properties\":[{\"default\":\"\",\"kind\":null,\"name\":\"terminal_output\"},{\"default\":\"\",\"kind\":null,\"name\":\"debug_name\"},{\"default\":0,\"kind\":null,\"name\":\"clears\"}]},{\"extends\":null,\"module\":null,\"name\":\"NotificationAreaBase1\",\"overrides\":[],\"properties\":[{\"default\":\"bottom-right\",\"kind\":null,\"name\":\"position\"},{\"default\":0,\"kind\":null,\"name\":\"_clear\"}]},{\"extends\":null,\"module\":null,\"name\":\"NotificationArea1\",\"overrides\":[],\"properties\":[{\"default\":[],\"kind\":null,\"name\":\"notifications\"},{\"default\":\"bottom-right\",\"kind\":null,\"name\":\"position\"},{\"default\":0,\"kind\":null,\"name\":\"_clear\"},{\"default\":[{\"background\":\"#ffc107\",\"icon\":{\"className\":\"fas fa-exclamation-triangle\",\"color\":\"white\",\"tagName\":\"i\"},\"type\":\"warning\"},{\"background\":\"#007bff\",\"icon\":{\"className\":\"fas fa-info-circle\",\"color\":\"white\",\"tagName\":\"i\"},\"type\":\"info\"}],\"kind\":null,\"name\":\"types\"}]},{\"extends\":null,\"module\":null,\"name\":\"Notification\",\"overrides\":[],\"properties\":[{\"default\":null,\"kind\":null,\"name\":\"background\"},{\"default\":3000,\"kind\":null,\"name\":\"duration\"},{\"default\":null,\"kind\":null,\"name\":\"icon\"},{\"default\":\"\",\"kind\":null,\"name\":\"message\"},{\"default\":null,\"kind\":null,\"name\":\"notification_type\"},{\"default\":false,\"kind\":null,\"name\":\"_destroyed\"}]},{\"extends\":null,\"module\":null,\"name\":\"TemplateActions1\",\"overrides\":[],\"properties\":[{\"default\":0,\"kind\":null,\"name\":\"open_modal\"},{\"default\":0,\"kind\":null,\"name\":\"close_modal\"}]},{\"extends\":null,\"module\":null,\"name\":\"MaterialTemplateActions1\",\"overrides\":[],\"properties\":[{\"default\":0,\"kind\":null,\"name\":\"open_modal\"},{\"default\":0,\"kind\":null,\"name\":\"close_modal\"}]}],\"roots\":{\"references\":[{\"attributes\":{\"active_drag\":{\"id\":\"41603\"},\"active_scroll\":{\"id\":\"41604\"},\"tools\":[{\"id\":\"41585\"},{\"id\":\"41602\"},{\"id\":\"41603\"},{\"id\":\"41604\"},{\"id\":\"41605\"},{\"id\":\"41606\"}]},\"id\":\"41608\",\"type\":\"Toolbar\"},{\"attributes\":{\"fill_alpha\":{\"value\":0.1},\"fill_color\":{\"value\":\"#30a2da\"},\"hatch_alpha\":{\"value\":0.1},\"hatch_color\":{\"value\":\"#30a2da\"},\"height\":{\"value\":0.8},\"line_alpha\":{\"value\":0.1},\"right\":{\"field\":\"Total_Income_from_Entrepreneurial_Acitivites\"},\"y\":{\"field\":\"Region\"}},\"id\":\"41619\",\"type\":\"HBar\"},{\"attributes\":{\"children\":[{\"id\":\"41586\"}],\"height\":300,\"margin\":[0,0,0,0],\"name\":\"Row46357\",\"sizing_mode\":\"fixed\",\"tags\":[\"embedded\"],\"width\":700},\"id\":\"41582\",\"type\":\"Row\"},{\"attributes\":{},\"id\":\"41591\",\"type\":\"LinearScale\"},{\"attributes\":{\"source\":{\"id\":\"41615\"}},\"id\":\"41622\",\"type\":\"CDSView\"},{\"attributes\":{\"below\":[{\"id\":\"41595\"}],\"center\":[{\"id\":\"41598\"},{\"id\":\"41601\"}],\"height\":300,\"left\":[{\"id\":\"41599\"}],\"margin\":[5,5,5,5],\"min_border_bottom\":10,\"min_border_left\":10,\"min_border_right\":10,\"min_border_top\":10,\"renderers\":[{\"id\":\"41621\"}],\"sizing_mode\":\"fixed\",\"title\":{\"id\":\"41587\"},\"toolbar\":{\"id\":\"41608\"},\"width\":700,\"x_range\":{\"id\":\"41583\"},\"x_scale\":{\"id\":\"41591\"},\"y_range\":{\"id\":\"41584\"},\"y_scale\":{\"id\":\"41593\"}},\"id\":\"41586\",\"subtype\":\"Figure\",\"type\":\"Plot\"},{\"attributes\":{\"coordinates\":null,\"data_source\":{\"id\":\"41615\"},\"glyph\":{\"id\":\"41618\"},\"group\":null,\"hover_glyph\":null,\"muted_glyph\":{\"id\":\"41620\"},\"nonselection_glyph\":{\"id\":\"41619\"},\"selection_glyph\":{\"id\":\"41623\"},\"view\":{\"id\":\"41622\"}},\"id\":\"41621\",\"type\":\"GlyphRenderer\"},{\"attributes\":{},\"id\":\"41593\",\"type\":\"CategoricalScale\"},{\"attributes\":{\"callback\":null,\"renderers\":[{\"id\":\"41621\"}],\"tags\":[\"hv_created\"],\"tooltips\":[[\"Region\",\"@{Region}\"],[\"Total Income from Entrepreneurial Acitivites\",\"@{Total_Income_from_Entrepreneurial_Acitivites}\"]]},\"id\":\"41585\",\"type\":\"HoverTool\"},{\"attributes\":{\"fill_alpha\":{\"value\":0.2},\"fill_color\":{\"value\":\"#30a2da\"},\"hatch_alpha\":{\"value\":0.2},\"hatch_color\":{\"value\":\"#30a2da\"},\"height\":{\"value\":0.8},\"line_alpha\":{\"value\":0.2},\"right\":{\"field\":\"Total_Income_from_Entrepreneurial_Acitivites\"},\"y\":{\"field\":\"Region\"}},\"id\":\"41620\",\"type\":\"HBar\"},{\"attributes\":{\"coordinates\":null,\"group\":null,\"text_color\":\"black\",\"text_font_size\":\"12pt\"},\"id\":\"41587\",\"type\":\"Title\"},{\"attributes\":{},\"id\":\"41625\",\"type\":\"BasicTickFormatter\"},{\"attributes\":{\"fill_color\":{\"value\":\"#30a2da\"},\"hatch_color\":{\"value\":\"#30a2da\"},\"height\":{\"value\":0.8},\"right\":{\"field\":\"Total_Income_from_Entrepreneurial_Acitivites\"},\"y\":{\"field\":\"Region\"}},\"id\":\"41618\",\"type\":\"HBar\"},{\"attributes\":{\"axis_label\":\"Total Income from Entrepreneurial Acitivites\",\"coordinates\":null,\"formatter\":{\"id\":\"41625\"},\"group\":null,\"major_label_policy\":{\"id\":\"41626\"},\"ticker\":{\"id\":\"41596\"}},\"id\":\"41595\",\"type\":\"LinearAxis\"},{\"attributes\":{},\"id\":\"41628\",\"type\":\"CategoricalTickFormatter\"},{\"attributes\":{},\"id\":\"41596\",\"type\":\"BasicTicker\"},{\"attributes\":{\"end\":83445.10100000001,\"reset_end\":83445.10100000001,\"reset_start\":0.0,\"tags\":[[[\"Total Income from Entrepreneurial Acitivites\",\"Total Income from Entrepreneurial Acitivites\",null]]]},\"id\":\"41583\",\"type\":\"Range1d\"},{\"attributes\":{\"axis\":{\"id\":\"41595\"},\"coordinates\":null,\"grid_line_color\":null,\"group\":null,\"ticker\":null},\"id\":\"41598\",\"type\":\"Grid\"},{\"attributes\":{},\"id\":\"41604\",\"type\":\"WheelZoomTool\"},{\"attributes\":{},\"id\":\"41603\",\"type\":\"PanTool\"},{\"attributes\":{\"axis_label\":\"Region\",\"coordinates\":null,\"formatter\":{\"id\":\"41628\"},\"group\":null,\"major_label_policy\":{\"id\":\"41629\"},\"ticker\":{\"id\":\"41600\"}},\"id\":\"41599\",\"type\":\"CategoricalAxis\"},{\"attributes\":{\"axis\":{\"id\":\"41599\"},\"coordinates\":null,\"dimension\":1,\"grid_line_color\":null,\"group\":null,\"ticker\":null},\"id\":\"41601\",\"type\":\"Grid\"},{\"attributes\":{},\"id\":\"41600\",\"type\":\"CategoricalTicker\"},{\"attributes\":{},\"id\":\"41616\",\"type\":\"Selection\"},{\"attributes\":{\"factors\":[\"V - Bicol Region\",\"X - Northern Mindanao\",\"VII - Central Visayas\",\"VI - Western Visayas\",\"Caraga\",\"XII - SOCCSKSARGEN\",\"VIII - Eastern Visayas\",\"I - Ilocos Region\",\"IVA - CALABARZON\",\"IX - Zasmboanga Peninsula\",\"XI - Davao Region\",\"III - Central Luzon\",\"NCR\",\"CAR\",\"IVB - MIMAROPA\",\"II - Cagayan Valley\",\" ARMM\"],\"tags\":[[[\"Region\",\"Region\",null]]]},\"id\":\"41584\",\"type\":\"FactorRange\"},{\"attributes\":{},\"id\":\"41602\",\"type\":\"SaveTool\"},{\"attributes\":{\"overlay\":{\"id\":\"41607\"}},\"id\":\"41605\",\"type\":\"BoxZoomTool\"},{\"attributes\":{},\"id\":\"41606\",\"type\":\"ResetTool\"},{\"attributes\":{},\"id\":\"41641\",\"type\":\"UnionRenderers\"},{\"attributes\":{},\"id\":\"41629\",\"type\":\"AllLabels\"},{\"attributes\":{\"bottom_units\":\"screen\",\"coordinates\":null,\"fill_alpha\":0.5,\"fill_color\":\"lightgrey\",\"group\":null,\"left_units\":\"screen\",\"level\":\"overlay\",\"line_alpha\":1.0,\"line_color\":\"black\",\"line_dash\":[4,4],\"line_width\":2,\"right_units\":\"screen\",\"syncable\":false,\"top_units\":\"screen\"},\"id\":\"41607\",\"type\":\"BoxAnnotation\"},{\"attributes\":{\"fill_alpha\":{\"value\":1.0},\"fill_color\":{\"value\":\"#30a2da\"},\"hatch_alpha\":{\"value\":1.0},\"hatch_color\":{\"value\":\"#30a2da\"},\"hatch_scale\":{\"value\":12.0},\"hatch_weight\":{\"value\":1.0},\"height\":{\"value\":0.8},\"left\":{\"value\":0},\"line_alpha\":{\"value\":1.0},\"line_cap\":{\"value\":\"butt\"},\"line_color\":{\"value\":\"black\"},\"line_dash\":{\"value\":[]},\"line_dash_offset\":{\"value\":0},\"line_join\":{\"value\":\"bevel\"},\"line_width\":{\"value\":1},\"right\":{\"field\":\"Total_Income_from_Entrepreneurial_Acitivites\"},\"y\":{\"field\":\"Region\"}},\"id\":\"41623\",\"type\":\"HBar\"},{\"attributes\":{},\"id\":\"41626\",\"type\":\"AllLabels\"},{\"attributes\":{\"data\":{\"Region\":[\"V - Bicol Region\",\"X - Northern Mindanao\",\"VII - Central Visayas\",\"VI - Western Visayas\",\"Caraga\",\"XII - SOCCSKSARGEN\",\"VIII - Eastern Visayas\",\"I - Ilocos Region\",\"IVA - CALABARZON\",\"IX - Zasmboanga Peninsula\",\"XI - Davao Region\",\"III - Central Luzon\",\"NCR\",\"CAR\",\"IVB - MIMAROPA\",\"II - Cagayan Valley\",\" ARMM\"],\"Total_Income_from_Entrepreneurial_Acitivites\":{\"__ndarray__\":\"FK5H4ZLP40DsUbgeParlQOF6FK53F+ZAzczMzHw+5kDD9Shc55/mQEjhehS+IOdAPQrXo1gr50DD9ShcZ2bnQGZmZmbeHOhAPQrXo3hr6EBcj8L1sB3rQFK4HoXr6e1A16NwPaKB7kDsUbgeTWPvQKRwPQojN/FArkfheuR28UCamZmZuWvzQA==\",\"dtype\":\"float64\",\"order\":\"little\",\"shape\":[17]}},\"selected\":{\"id\":\"41616\"},\"selection_policy\":{\"id\":\"41641\"}},\"id\":\"41615\",\"type\":\"ColumnDataSource\"}],\"root_ids\":[\"41582\"]},\"title\":\"Bokeh Application\",\"version\":\"2.4.3\"}};\n",
       "    var render_items = [{\"docid\":\"2657985d-a2d0-4307-a3e8-5aec6acf4e17\",\"root_ids\":[\"41582\"],\"roots\":{\"41582\":\"b0f74878-bf79-4be8-9025-8df5a5731cb9\"}}];\n",
       "    root.Bokeh.embed.embed_items_notebook(docs_json, render_items);\n",
       "    for (const render_item of render_items) {\n",
       "      for (const root_id of render_item.root_ids) {\n",
       "\tconst id_el = document.getElementById(root_id)\n",
       "\tif (id_el.children.length && (id_el.children[0].className === 'bk-root')) {\n",
       "\t  const root_el = id_el.children[0]\n",
       "\t  root_el.id = root_el.id + '-rendered'\n",
       "\t}\n",
       "      }\n",
       "    }\n",
       "  }\n",
       "  if (root.Bokeh !== undefined && root.Bokeh.Panel !== undefined) {\n",
       "    embed_document(root);\n",
       "  } else {\n",
       "    var attempts = 0;\n",
       "    var timer = setInterval(function(root) {\n",
       "      if (root.Bokeh !== undefined && root.Bokeh.Panel !== undefined) {\n",
       "        clearInterval(timer);\n",
       "        embed_document(root);\n",
       "      } else if (document.readyState == \"complete\") {\n",
       "        attempts++;\n",
       "        if (attempts > 200) {\n",
       "          clearInterval(timer);\n",
       "          console.log(\"Bokeh: ERROR: Unable to run BokehJS code because BokehJS library is missing\");\n",
       "        }\n",
       "      }\n",
       "    }, 25, root)\n",
       "  }\n",
       "})(window);</script>"
      ],
      "text/plain": [
       ":Bars   [Region]   (Total Income from Entrepreneurial Acitivites)"
      ]
     },
     "execution_count": 369,
     "metadata": {
      "application/vnd.holoviews_exec.v0+json": {
       "id": "41582"
      }
     },
     "output_type": "execute_result"
    }
   ],
   "source": [
    "entrep = dataset.groupby(\"Region\")[[\"Total Income from Entrepreneurial Acitivites\"]].mean().sort_values(\"Total Income from Entrepreneurial Acitivites\").round(2)\n",
    "entrep.hvplot.barh()"
   ]
  },
  {
   "attachments": {},
   "cell_type": "markdown",
   "metadata": {},
   "source": [
    "9. Correlation of Income and Expenditures"
   ]
  },
  {
   "cell_type": "code",
   "execution_count": 370,
   "metadata": {},
   "outputs": [
    {
     "data": {
      "text/plain": [
       "Index(['Total Household Income', 'Region', 'Total Food Expenditure',\n",
       "       'Main Source of Income', 'Agricultural Household indicator',\n",
       "       'Bread and Cereals Expenditure', 'Total Rice Expenditure',\n",
       "       'Meat Expenditure', 'Total Fish and  marine products Expenditure',\n",
       "       'Fruit Expenditure', 'Vegetables Expenditure',\n",
       "       'Restaurant and hotels Expenditure', 'Alcoholic Beverages Expenditure',\n",
       "       'Tobacco Expenditure', 'Clothing, Footwear and Other Wear Expenditure',\n",
       "       'Housing and water Expenditure', 'Imputed House Rental Value',\n",
       "       'Medical Care Expenditure', 'Transportation Expenditure',\n",
       "       'Communication Expenditure', 'Education Expenditure',\n",
       "       'Miscellaneous Goods and Services Expenditure',\n",
       "       'Special Occasions Expenditure', 'Crop Farming and Gardening expenses',\n",
       "       'Total Income from Entrepreneurial Acitivites', 'Household Head Sex',\n",
       "       'Household Head Age', 'Household Head Marital Status',\n",
       "       'Household Head Highest Grade Completed',\n",
       "       'Household Head Job or Business Indicator', 'Household Head Occupation',\n",
       "       'Household Head Class of Worker', 'Type of Household',\n",
       "       'Total Number of Family members',\n",
       "       'Members with age less than 5 year old',\n",
       "       'Members with age 5 - 17 years old',\n",
       "       'Total number of family members employed', 'Type of Building/House',\n",
       "       'Type of Roof', 'Type of Walls', 'House Floor Area', 'House Age',\n",
       "       'Number of bedrooms', 'Tenure Status', 'Toilet Facilities',\n",
       "       'Electricity', 'Main Source of Water Supply', 'Number of Television',\n",
       "       'Number of CD/VCD/DVD', 'Number of Component/Stereo set',\n",
       "       'Number of Refrigerator/Freezer', 'Number of Washing Machine',\n",
       "       'Number of Airconditioner', 'Number of Car, Jeep, Van',\n",
       "       'Number of Landline/wireless telephones', 'Number of Cellular phone',\n",
       "       'Number of Personal Computer', 'Number of Stove with Oven/Gas Range',\n",
       "       'Number of Motorized Banca', 'Number of Motorcycle/Tricycle',\n",
       "       'Food Percentage to Income'],\n",
       "      dtype='object')"
      ]
     },
     "execution_count": 370,
     "metadata": {},
     "output_type": "execute_result"
    }
   ],
   "source": [
    "dataset.columns"
   ]
  },
  {
   "cell_type": "code",
   "execution_count": 372,
   "metadata": {},
   "outputs": [
    {
     "name": "stderr",
     "output_type": "stream",
     "text": [
      "C:\\Users\\User\\AppData\\Local\\Temp\\ipykernel_11360\\1405808177.py:13: FutureWarning: The default value of numeric_only in DataFrame.corr is deprecated. In a future version, it will default to False. Select only valid columns or specify the value of numeric_only to silence this warning.\n",
      "  'Total Income from Entrepreneurial Acitivites']].corr()\n"
     ]
    },
    {
     "data": {},
     "metadata": {},
     "output_type": "display_data"
    },
    {
     "data": {
      "application/vnd.holoviews_exec.v0+json": "",
      "text/html": [
       "<div id='41816'>\n",
       "  <div class=\"bk-root\" id=\"9bcb836e-ef1d-4432-b0ae-bc63d9d3594c\" data-root-id=\"41816\"></div>\n",
       "</div>\n",
       "<script type=\"application/javascript\">(function(root) {\n",
       "  function embed_document(root) {\n",
       "    var docs_json = {\"ebd5f285-219b-4632-a2f5-36d6aebfd255\":{\"defs\":[{\"extends\":null,\"module\":null,\"name\":\"ReactiveHTML1\",\"overrides\":[],\"properties\":[]},{\"extends\":null,\"module\":null,\"name\":\"FlexBox1\",\"overrides\":[],\"properties\":[{\"default\":\"flex-start\",\"kind\":null,\"name\":\"align_content\"},{\"default\":\"flex-start\",\"kind\":null,\"name\":\"align_items\"},{\"default\":\"row\",\"kind\":null,\"name\":\"flex_direction\"},{\"default\":\"wrap\",\"kind\":null,\"name\":\"flex_wrap\"},{\"default\":\"flex-start\",\"kind\":null,\"name\":\"justify_content\"}]},{\"extends\":null,\"module\":null,\"name\":\"GridStack1\",\"overrides\":[],\"properties\":[{\"default\":\"warn\",\"kind\":null,\"name\":\"mode\"},{\"default\":null,\"kind\":null,\"name\":\"ncols\"},{\"default\":null,\"kind\":null,\"name\":\"nrows\"},{\"default\":true,\"kind\":null,\"name\":\"allow_resize\"},{\"default\":true,\"kind\":null,\"name\":\"allow_drag\"},{\"default\":[],\"kind\":null,\"name\":\"state\"}]},{\"extends\":null,\"module\":null,\"name\":\"click1\",\"overrides\":[],\"properties\":[{\"default\":\"\",\"kind\":null,\"name\":\"terminal_output\"},{\"default\":\"\",\"kind\":null,\"name\":\"debug_name\"},{\"default\":0,\"kind\":null,\"name\":\"clears\"}]},{\"extends\":null,\"module\":null,\"name\":\"NotificationAreaBase1\",\"overrides\":[],\"properties\":[{\"default\":\"bottom-right\",\"kind\":null,\"name\":\"position\"},{\"default\":0,\"kind\":null,\"name\":\"_clear\"}]},{\"extends\":null,\"module\":null,\"name\":\"NotificationArea1\",\"overrides\":[],\"properties\":[{\"default\":[],\"kind\":null,\"name\":\"notifications\"},{\"default\":\"bottom-right\",\"kind\":null,\"name\":\"position\"},{\"default\":0,\"kind\":null,\"name\":\"_clear\"},{\"default\":[{\"background\":\"#ffc107\",\"icon\":{\"className\":\"fas fa-exclamation-triangle\",\"color\":\"white\",\"tagName\":\"i\"},\"type\":\"warning\"},{\"background\":\"#007bff\",\"icon\":{\"className\":\"fas fa-info-circle\",\"color\":\"white\",\"tagName\":\"i\"},\"type\":\"info\"}],\"kind\":null,\"name\":\"types\"}]},{\"extends\":null,\"module\":null,\"name\":\"Notification\",\"overrides\":[],\"properties\":[{\"default\":null,\"kind\":null,\"name\":\"background\"},{\"default\":3000,\"kind\":null,\"name\":\"duration\"},{\"default\":null,\"kind\":null,\"name\":\"icon\"},{\"default\":\"\",\"kind\":null,\"name\":\"message\"},{\"default\":null,\"kind\":null,\"name\":\"notification_type\"},{\"default\":false,\"kind\":null,\"name\":\"_destroyed\"}]},{\"extends\":null,\"module\":null,\"name\":\"TemplateActions1\",\"overrides\":[],\"properties\":[{\"default\":0,\"kind\":null,\"name\":\"open_modal\"},{\"default\":0,\"kind\":null,\"name\":\"close_modal\"}]},{\"extends\":null,\"module\":null,\"name\":\"MaterialTemplateActions1\",\"overrides\":[],\"properties\":[{\"default\":0,\"kind\":null,\"name\":\"open_modal\"},{\"default\":0,\"kind\":null,\"name\":\"close_modal\"}]}],\"roots\":{\"references\":[{\"attributes\":{\"callback\":null,\"renderers\":[{\"id\":\"41856\"}],\"tags\":[\"hv_created\"],\"tooltips\":[[\"columns\",\"@{columns}\"],[\"index\",\"@{index}\"],[\"value\",\"@{value}\"]]},\"id\":\"41819\",\"type\":\"HoverTool\"},{\"attributes\":{\"coordinates\":null,\"data_source\":{\"id\":\"41849\"},\"glyph\":{\"id\":\"41852\"},\"group\":null,\"hover_glyph\":null,\"muted_glyph\":{\"id\":\"41855\"},\"nonselection_glyph\":{\"id\":\"41853\"},\"selection_glyph\":{\"id\":\"41854\"},\"view\":{\"id\":\"41857\"}},\"id\":\"41856\",\"type\":\"GlyphRenderer\"},{\"attributes\":{},\"id\":\"41837\",\"type\":\"WheelZoomTool\"},{\"attributes\":{\"bar_line_color\":\"black\",\"color_mapper\":{\"id\":\"41848\"},\"coordinates\":null,\"group\":null,\"label_standoff\":8,\"location\":[0,0],\"major_label_policy\":{\"id\":\"41874\"},\"major_tick_line_color\":\"black\",\"ticker\":{\"id\":\"41858\"}},\"id\":\"41859\",\"type\":\"ColorBar\"},{\"attributes\":{},\"id\":\"41836\",\"type\":\"PanTool\"},{\"attributes\":{\"axis_label\":\"\",\"coordinates\":null,\"formatter\":{\"id\":\"41864\"},\"group\":null,\"major_label_policy\":{\"id\":\"41865\"},\"ticker\":{\"id\":\"41833\"}},\"id\":\"41832\",\"type\":\"CategoricalAxis\"},{\"attributes\":{},\"id\":\"41858\",\"type\":\"BasicTicker\"},{\"attributes\":{\"axis\":{\"id\":\"41832\"},\"coordinates\":null,\"dimension\":1,\"grid_line_color\":null,\"group\":null,\"ticker\":null},\"id\":\"41834\",\"type\":\"Grid\"},{\"attributes\":{},\"id\":\"41833\",\"type\":\"CategoricalTicker\"},{\"attributes\":{},\"id\":\"41861\",\"type\":\"CategoricalTickFormatter\"},{\"attributes\":{},\"id\":\"41835\",\"type\":\"SaveTool\"},{\"attributes\":{},\"id\":\"41864\",\"type\":\"CategoricalTickFormatter\"},{\"attributes\":{\"axis_label\":\"\",\"coordinates\":null,\"formatter\":{\"id\":\"41861\"},\"group\":null,\"major_label_orientation\":0.4363323129985824,\"major_label_policy\":{\"id\":\"41862\"},\"ticker\":{\"id\":\"41830\"}},\"id\":\"41829\",\"type\":\"CategoricalAxis\"},{\"attributes\":{\"overlay\":{\"id\":\"41840\"}},\"id\":\"41838\",\"type\":\"BoxZoomTool\"},{\"attributes\":{\"coordinates\":null,\"group\":null,\"text_color\":\"black\",\"text_font_size\":\"12pt\"},\"id\":\"41821\",\"type\":\"Title\"},{\"attributes\":{},\"id\":\"41839\",\"type\":\"ResetTool\"},{\"attributes\":{\"below\":[{\"id\":\"41829\"}],\"center\":[{\"id\":\"41831\"},{\"id\":\"41834\"}],\"height\":1000,\"left\":[{\"id\":\"41832\"}],\"margin\":[5,5,5,5],\"min_border_bottom\":10,\"min_border_left\":10,\"min_border_right\":10,\"min_border_top\":10,\"renderers\":[{\"id\":\"41856\"}],\"right\":[{\"id\":\"41859\"}],\"sizing_mode\":\"fixed\",\"title\":{\"id\":\"41821\"},\"toolbar\":{\"id\":\"41841\"},\"width\":1500,\"x_range\":{\"id\":\"41817\"},\"x_scale\":{\"id\":\"41825\"},\"y_range\":{\"id\":\"41818\"},\"y_scale\":{\"id\":\"41827\"}},\"id\":\"41820\",\"subtype\":\"Figure\",\"type\":\"Plot\"},{\"attributes\":{\"bottom_units\":\"screen\",\"coordinates\":null,\"fill_alpha\":0.5,\"fill_color\":\"lightgrey\",\"group\":null,\"left_units\":\"screen\",\"level\":\"overlay\",\"line_alpha\":1.0,\"line_color\":\"black\",\"line_dash\":[4,4],\"line_width\":2,\"right_units\":\"screen\",\"syncable\":false,\"top_units\":\"screen\"},\"id\":\"41840\",\"type\":\"BoxAnnotation\"},{\"attributes\":{},\"id\":\"41830\",\"type\":\"CategoricalTicker\"},{\"attributes\":{},\"id\":\"41825\",\"type\":\"CategoricalScale\"},{\"attributes\":{\"factors\":[\"Total Household Income\",\"Total Food Expenditure\",\"Bread and Cereals Expenditure\",\"Total Rice Expenditure\",\"Meat Expenditure\",\"Total Fish and  marine products Expenditure\",\"Fruit Expenditure\",\"Vegetables Expenditure\",\"Restaurant and hotels Expenditure\",\"Alcoholic Beverages Expenditure\",\"Tobacco Expenditure\",\"Clothing, Footwear and Other Wear Expenditure\",\"Housing and water Expenditure\",\"Imputed House Rental Value\",\"Medical Care Expenditure\",\"Transportation Expenditure\",\"Communication Expenditure\",\"Education Expenditure\",\"Miscellaneous Goods and Services Expenditure\",\"Special Occasions Expenditure\",\"Crop Farming and Gardening expenses\",\"Total Income from Entrepreneurial Acitivites\"],\"tags\":[[[\"columns\",\"columns\",null]]]},\"id\":\"41817\",\"type\":\"FactorRange\"},{\"attributes\":{\"active_drag\":{\"id\":\"41836\"},\"active_scroll\":{\"id\":\"41837\"},\"tools\":[{\"id\":\"41819\"},{\"id\":\"41835\"},{\"id\":\"41836\"},{\"id\":\"41837\"},{\"id\":\"41838\"},{\"id\":\"41839\"}]},\"id\":\"41841\",\"type\":\"Toolbar\"},{\"attributes\":{\"fill_alpha\":{\"value\":0.1},\"fill_color\":{\"field\":\"zvalues\",\"transform\":{\"id\":\"41848\"}},\"hatch_alpha\":{\"value\":0.1},\"height\":{\"value\":1},\"line_alpha\":{\"value\":0},\"line_color\":{\"value\":\"#1f77b4\"},\"width\":{\"value\":1},\"x\":{\"field\":\"columns\"},\"y\":{\"field\":\"index\"}},\"id\":\"41853\",\"type\":\"Rect\"},{\"attributes\":{\"axis\":{\"id\":\"41829\"},\"coordinates\":null,\"grid_line_color\":null,\"group\":null,\"ticker\":null},\"id\":\"41831\",\"type\":\"Grid\"},{\"attributes\":{},\"id\":\"41865\",\"type\":\"AllLabels\"},{\"attributes\":{\"fill_color\":{\"field\":\"zvalues\",\"transform\":{\"id\":\"41848\"}},\"height\":{\"value\":1},\"line_alpha\":{\"value\":0},\"line_color\":{\"value\":\"#1f77b4\"},\"width\":{\"value\":1},\"x\":{\"field\":\"columns\"},\"y\":{\"field\":\"index\"}},\"id\":\"41854\",\"type\":\"Rect\"},{\"attributes\":{\"high\":1.0,\"low\":-0.04768434300433378,\"nan_color\":\"white\",\"palette\":[\"#b3fef5\",\"#b0fef5\",\"#adfdf5\",\"#a9fcf5\",\"#a6fbf6\",\"#a3faf6\",\"#a0faf6\",\"#9df9f6\",\"#9af8f6\",\"#97f7f6\",\"#93f7f6\",\"#90f6f6\",\"#8df5f6\",\"#8af4f7\",\"#87f3f7\",\"#83f2f7\",\"#80f2f7\",\"#7df1f7\",\"#79f0f7\",\"#76eff7\",\"#73eef7\",\"#6fedf8\",\"#6cecf8\",\"#68ecf8\",\"#65ebf8\",\"#61eaf8\",\"#5ee9f8\",\"#5ae8f8\",\"#57e7f8\",\"#53e6f8\",\"#50e5f9\",\"#4ce4f9\",\"#49e3f9\",\"#45e2f9\",\"#42e1f9\",\"#3ee0f9\",\"#3bdff9\",\"#38def9\",\"#35ddf9\",\"#32dcf9\",\"#30dbfa\",\"#2ed9fa\",\"#2dd8fa\",\"#2cd7fa\",\"#2bd6fa\",\"#2bd5fa\",\"#2ad3fa\",\"#2ad2fa\",\"#29d1fa\",\"#29d0fb\",\"#29cffb\",\"#28cdfb\",\"#28ccfb\",\"#28cbfb\",\"#28cafb\",\"#28c8fb\",\"#28c7fb\",\"#29c6fb\",\"#29c5fb\",\"#29c4fb\",\"#29c2fb\",\"#2ac1fb\",\"#2ac0fb\",\"#2bbffb\",\"#2bbdfc\",\"#2cbcfc\",\"#2dbbfc\",\"#2db9fc\",\"#2eb8fc\",\"#2fb7fc\",\"#2fb6fc\",\"#30b4fc\",\"#31b3fc\",\"#32b2fc\",\"#32b0fc\",\"#33affc\",\"#33aefc\",\"#34adfc\",\"#34abfc\",\"#34aafc\",\"#35a9fc\",\"#35a8fc\",\"#35a6fc\",\"#35a5fc\",\"#35a4fc\",\"#35a3fc\",\"#35a1fc\",\"#35a0fc\",\"#359ffc\",\"#359dfc\",\"#359cfc\",\"#359bfc\",\"#349afd\",\"#3498fd\",\"#3497fd\",\"#3396fd\",\"#3395fd\",\"#3293fd\",\"#3292fd\",\"#3191fd\",\"#3090fd\",\"#308ffd\",\"#2f8dfd\",\"#2f8cfd\",\"#2e8bfd\",\"#2e8afd\",\"#2d88fd\",\"#2d87fd\",\"#2c86fd\",\"#2c84fd\",\"#2c83fd\",\"#2c82fd\",\"#2b81fd\",\"#2b7ffd\",\"#2b7efd\",\"#2b7dfd\",\"#2b7bfd\",\"#2b7afd\",\"#2b79fd\",\"#2b77fd\",\"#2b76fd\",\"#2b75fd\",\"#2b73fd\",\"#2c72fd\",\"#2c71fd\",\"#2c6ffd\",\"#2c6efd\",\"#2d6cfd\",\"#2d6bfd\",\"#2d6afc\",\"#2e68fc\",\"#2e67fc\",\"#2e65fc\",\"#2e64fc\",\"#2f62fc\",\"#2f61fc\",\"#2f5ffc\",\"#2f5efc\",\"#2f5dfc\",\"#2f5bfc\",\"#2f5afc\",\"#2f58fb\",\"#2f57fb\",\"#2f55fb\",\"#2f53fb\",\"#2f52fb\",\"#2f50fb\",\"#2f4ffb\",\"#2f4dfb\",\"#2e4cfb\",\"#2e4afb\",\"#2e48fb\",\"#2e47fa\",\"#2d45fa\",\"#2d43fa\",\"#2d42fa\",\"#2d40fa\",\"#2c3efa\",\"#2c3dfa\",\"#2b3bf9\",\"#2b39f9\",\"#2a37f9\",\"#2a36f8\",\"#2934f8\",\"#2832f7\",\"#2831f7\",\"#272ff6\",\"#262ef5\",\"#252cf5\",\"#252af4\",\"#2429f3\",\"#2327f2\",\"#2226f1\",\"#2124f0\",\"#2023ef\",\"#1f22ee\",\"#1e20ed\",\"#1d1feb\",\"#1c1eea\",\"#1b1ce9\",\"#1a1be7\",\"#181ae6\",\"#1719e5\",\"#1618e3\",\"#1417e1\",\"#1316e0\",\"#1215de\",\"#1014dc\",\"#0f13db\",\"#0e12d9\",\"#0d11d7\",\"#0c10d5\",\"#0b0fd3\",\"#0a0ed1\",\"#090dd0\",\"#080dce\",\"#080ccc\",\"#070bca\",\"#070ac8\",\"#0709c6\",\"#0708c4\",\"#0707c2\",\"#0707bf\",\"#0806bd\",\"#0806bb\",\"#0905b9\",\"#0904b7\",\"#0a04b5\",\"#0a04b2\",\"#0b03b0\",\"#0c03ae\",\"#0d02ab\",\"#0e02a9\",\"#0e02a7\",\"#0f02a4\",\"#0f01a2\",\"#1001a0\",\"#10019d\",\"#10019b\",\"#100199\",\"#100197\",\"#100194\",\"#0f0192\",\"#0f0190\",\"#0f018e\",\"#0e018b\",\"#0e0189\",\"#0d0187\",\"#0d0185\",\"#0c0183\",\"#0b0181\",\"#0b017e\",\"#0a017c\",\"#09017a\",\"#090178\",\"#080276\",\"#070274\",\"#060272\",\"#060270\",\"#05026e\",\"#04026c\",\"#030269\",\"#030267\",\"#020265\",\"#010263\",\"#010261\",\"#00025f\",\"#00025d\",\"#00025b\",\"#000259\",\"#000257\",\"#000255\",\"#000154\",\"#000152\",\"#000150\",\"#00004e\"]},\"id\":\"41848\",\"type\":\"LinearColorMapper\"},{\"attributes\":{\"fill_color\":{\"field\":\"zvalues\",\"transform\":{\"id\":\"41848\"}},\"height\":{\"value\":1},\"line_alpha\":{\"value\":0},\"line_color\":{\"value\":\"#1f77b4\"},\"width\":{\"value\":1},\"x\":{\"field\":\"columns\"},\"y\":{\"field\":\"index\"}},\"id\":\"41852\",\"type\":\"Rect\"},{\"attributes\":{},\"id\":\"41878\",\"type\":\"UnionRenderers\"},{\"attributes\":{},\"id\":\"41862\",\"type\":\"AllLabels\"},{\"attributes\":{},\"id\":\"41874\",\"type\":\"NoOverlap\"},{\"attributes\":{\"factors\":[\"Total Household Income\",\"Total Food Expenditure\",\"Bread and Cereals Expenditure\",\"Total Rice Expenditure\",\"Meat Expenditure\",\"Total Fish and  marine products Expenditure\",\"Fruit Expenditure\",\"Vegetables Expenditure\",\"Restaurant and hotels Expenditure\",\"Alcoholic Beverages Expenditure\",\"Tobacco Expenditure\",\"Clothing, Footwear and Other Wear Expenditure\",\"Housing and water Expenditure\",\"Imputed House Rental Value\",\"Medical Care Expenditure\",\"Transportation Expenditure\",\"Communication Expenditure\",\"Education Expenditure\",\"Miscellaneous Goods and Services Expenditure\",\"Special Occasions Expenditure\",\"Crop Farming and Gardening expenses\",\"Total Income from Entrepreneurial Acitivites\"],\"tags\":[[[\"index\",\"index\",null]]]},\"id\":\"41818\",\"type\":\"FactorRange\"},{\"attributes\":{},\"id\":\"41850\",\"type\":\"Selection\"},{\"attributes\":{\"children\":[{\"id\":\"41820\"}],\"height\":1000,\"margin\":[0,0,0,0],\"name\":\"Row46540\",\"sizing_mode\":\"fixed\",\"tags\":[\"embedded\"],\"width\":1500},\"id\":\"41816\",\"type\":\"Row\"},{\"attributes\":{\"source\":{\"id\":\"41849\"}},\"id\":\"41857\",\"type\":\"CDSView\"},{\"attributes\":{\"data\":{\"columns\":[\"Total Household Income\",\"Total Household Income\",\"Total Household Income\",\"Total Household Income\",\"Total Household Income\",\"Total Household Income\",\"Total Household Income\",\"Total Household Income\",\"Total Household Income\",\"Total Household Income\",\"Total Household Income\",\"Total Household Income\",\"Total Household Income\",\"Total Household Income\",\"Total Household Income\",\"Total Household Income\",\"Total Household Income\",\"Total Household Income\",\"Total Household Income\",\"Total Household Income\",\"Total Household Income\",\"Total Household Income\",\"Total Food Expenditure\",\"Total Food Expenditure\",\"Total Food Expenditure\",\"Total Food Expenditure\",\"Total Food Expenditure\",\"Total Food Expenditure\",\"Total Food Expenditure\",\"Total Food Expenditure\",\"Total Food Expenditure\",\"Total Food Expenditure\",\"Total Food Expenditure\",\"Total Food Expenditure\",\"Total Food Expenditure\",\"Total Food Expenditure\",\"Total Food Expenditure\",\"Total Food Expenditure\",\"Total Food Expenditure\",\"Total Food Expenditure\",\"Total Food Expenditure\",\"Total Food Expenditure\",\"Total Food Expenditure\",\"Total Food Expenditure\",\"Bread and Cereals Expenditure\",\"Bread and Cereals Expenditure\",\"Bread and Cereals Expenditure\",\"Bread and Cereals Expenditure\",\"Bread and Cereals Expenditure\",\"Bread and Cereals Expenditure\",\"Bread and Cereals Expenditure\",\"Bread and Cereals Expenditure\",\"Bread and Cereals Expenditure\",\"Bread and Cereals Expenditure\",\"Bread and Cereals Expenditure\",\"Bread and Cereals Expenditure\",\"Bread and Cereals Expenditure\",\"Bread and Cereals Expenditure\",\"Bread and Cereals Expenditure\",\"Bread and Cereals Expenditure\",\"Bread and Cereals Expenditure\",\"Bread and Cereals Expenditure\",\"Bread and Cereals Expenditure\",\"Bread and Cereals Expenditure\",\"Bread and Cereals Expenditure\",\"Bread and Cereals Expenditure\",\"Total Rice Expenditure\",\"Total Rice Expenditure\",\"Total Rice Expenditure\",\"Total Rice Expenditure\",\"Total Rice Expenditure\",\"Total Rice Expenditure\",\"Total Rice Expenditure\",\"Total Rice Expenditure\",\"Total Rice Expenditure\",\"Total Rice Expenditure\",\"Total Rice Expenditure\",\"Total Rice Expenditure\",\"Total Rice Expenditure\",\"Total Rice Expenditure\",\"Total Rice Expenditure\",\"Total Rice Expenditure\",\"Total Rice Expenditure\",\"Total Rice Expenditure\",\"Total Rice Expenditure\",\"Total Rice Expenditure\",\"Total Rice Expenditure\",\"Total Rice Expenditure\",\"Meat Expenditure\",\"Meat Expenditure\",\"Meat Expenditure\",\"Meat Expenditure\",\"Meat Expenditure\",\"Meat Expenditure\",\"Meat Expenditure\",\"Meat Expenditure\",\"Meat Expenditure\",\"Meat Expenditure\",\"Meat Expenditure\",\"Meat Expenditure\",\"Meat Expenditure\",\"Meat Expenditure\",\"Meat Expenditure\",\"Meat Expenditure\",\"Meat Expenditure\",\"Meat Expenditure\",\"Meat Expenditure\",\"Meat Expenditure\",\"Meat Expenditure\",\"Meat Expenditure\",\"Total Fish and  marine products Expenditure\",\"Total Fish and  marine products Expenditure\",\"Total Fish and  marine products Expenditure\",\"Total Fish and  marine products Expenditure\",\"Total Fish and  marine products Expenditure\",\"Total Fish and  marine products Expenditure\",\"Total Fish and  marine products Expenditure\",\"Total Fish and  marine products Expenditure\",\"Total Fish and  marine products Expenditure\",\"Total Fish and  marine products Expenditure\",\"Total Fish and  marine products Expenditure\",\"Total Fish and  marine products Expenditure\",\"Total Fish and  marine products Expenditure\",\"Total Fish and  marine products Expenditure\",\"Total Fish and  marine products Expenditure\",\"Total Fish and  marine products Expenditure\",\"Total Fish and  marine products Expenditure\",\"Total Fish and  marine products Expenditure\",\"Total Fish and  marine products Expenditure\",\"Total Fish and  marine products Expenditure\",\"Total Fish and  marine products Expenditure\",\"Total Fish and  marine products Expenditure\",\"Fruit Expenditure\",\"Fruit Expenditure\",\"Fruit Expenditure\",\"Fruit Expenditure\",\"Fruit Expenditure\",\"Fruit Expenditure\",\"Fruit Expenditure\",\"Fruit Expenditure\",\"Fruit Expenditure\",\"Fruit Expenditure\",\"Fruit Expenditure\",\"Fruit Expenditure\",\"Fruit Expenditure\",\"Fruit Expenditure\",\"Fruit Expenditure\",\"Fruit Expenditure\",\"Fruit Expenditure\",\"Fruit Expenditure\",\"Fruit Expenditure\",\"Fruit Expenditure\",\"Fruit Expenditure\",\"Fruit Expenditure\",\"Vegetables Expenditure\",\"Vegetables Expenditure\",\"Vegetables Expenditure\",\"Vegetables Expenditure\",\"Vegetables Expenditure\",\"Vegetables Expenditure\",\"Vegetables Expenditure\",\"Vegetables Expenditure\",\"Vegetables Expenditure\",\"Vegetables Expenditure\",\"Vegetables Expenditure\",\"Vegetables Expenditure\",\"Vegetables Expenditure\",\"Vegetables Expenditure\",\"Vegetables Expenditure\",\"Vegetables Expenditure\",\"Vegetables Expenditure\",\"Vegetables Expenditure\",\"Vegetables Expenditure\",\"Vegetables Expenditure\",\"Vegetables Expenditure\",\"Vegetables Expenditure\",\"Restaurant and hotels Expenditure\",\"Restaurant and hotels Expenditure\",\"Restaurant and hotels Expenditure\",\"Restaurant and hotels Expenditure\",\"Restaurant and hotels Expenditure\",\"Restaurant and hotels Expenditure\",\"Restaurant and hotels Expenditure\",\"Restaurant and hotels Expenditure\",\"Restaurant and hotels Expenditure\",\"Restaurant and hotels Expenditure\",\"Restaurant and hotels Expenditure\",\"Restaurant and hotels Expenditure\",\"Restaurant and hotels Expenditure\",\"Restaurant and hotels Expenditure\",\"Restaurant and hotels Expenditure\",\"Restaurant and hotels Expenditure\",\"Restaurant and hotels Expenditure\",\"Restaurant and hotels Expenditure\",\"Restaurant and hotels Expenditure\",\"Restaurant and hotels Expenditure\",\"Restaurant and hotels Expenditure\",\"Restaurant and hotels Expenditure\",\"Alcoholic Beverages Expenditure\",\"Alcoholic Beverages Expenditure\",\"Alcoholic Beverages Expenditure\",\"Alcoholic Beverages Expenditure\",\"Alcoholic Beverages Expenditure\",\"Alcoholic Beverages Expenditure\",\"Alcoholic Beverages Expenditure\",\"Alcoholic Beverages Expenditure\",\"Alcoholic Beverages Expenditure\",\"Alcoholic Beverages Expenditure\",\"Alcoholic Beverages Expenditure\",\"Alcoholic Beverages Expenditure\",\"Alcoholic Beverages Expenditure\",\"Alcoholic Beverages Expenditure\",\"Alcoholic Beverages Expenditure\",\"Alcoholic Beverages Expenditure\",\"Alcoholic Beverages Expenditure\",\"Alcoholic Beverages Expenditure\",\"Alcoholic Beverages Expenditure\",\"Alcoholic Beverages Expenditure\",\"Alcoholic Beverages Expenditure\",\"Alcoholic Beverages Expenditure\",\"Tobacco Expenditure\",\"Tobacco Expenditure\",\"Tobacco Expenditure\",\"Tobacco Expenditure\",\"Tobacco Expenditure\",\"Tobacco Expenditure\",\"Tobacco Expenditure\",\"Tobacco Expenditure\",\"Tobacco Expenditure\",\"Tobacco Expenditure\",\"Tobacco Expenditure\",\"Tobacco Expenditure\",\"Tobacco Expenditure\",\"Tobacco Expenditure\",\"Tobacco Expenditure\",\"Tobacco Expenditure\",\"Tobacco Expenditure\",\"Tobacco Expenditure\",\"Tobacco Expenditure\",\"Tobacco Expenditure\",\"Tobacco Expenditure\",\"Tobacco Expenditure\",\"Clothing, Footwear and Other Wear Expenditure\",\"Clothing, Footwear and Other Wear Expenditure\",\"Clothing, Footwear and Other Wear Expenditure\",\"Clothing, Footwear and Other Wear Expenditure\",\"Clothing, Footwear and Other Wear Expenditure\",\"Clothing, Footwear and Other Wear Expenditure\",\"Clothing, Footwear and Other Wear Expenditure\",\"Clothing, Footwear and Other Wear Expenditure\",\"Clothing, Footwear and Other Wear Expenditure\",\"Clothing, Footwear and Other Wear Expenditure\",\"Clothing, Footwear and Other Wear Expenditure\",\"Clothing, Footwear and Other Wear Expenditure\",\"Clothing, Footwear and Other Wear Expenditure\",\"Clothing, Footwear and Other Wear Expenditure\",\"Clothing, Footwear and Other Wear Expenditure\",\"Clothing, Footwear and Other Wear Expenditure\",\"Clothing, Footwear and Other Wear Expenditure\",\"Clothing, Footwear and Other Wear Expenditure\",\"Clothing, Footwear and Other Wear Expenditure\",\"Clothing, Footwear and Other Wear Expenditure\",\"Clothing, Footwear and Other Wear Expenditure\",\"Clothing, Footwear and Other Wear Expenditure\",\"Housing and water Expenditure\",\"Housing and water Expenditure\",\"Housing and water Expenditure\",\"Housing and water Expenditure\",\"Housing and water Expenditure\",\"Housing and water Expenditure\",\"Housing and water Expenditure\",\"Housing and water Expenditure\",\"Housing and water Expenditure\",\"Housing and water Expenditure\",\"Housing and water Expenditure\",\"Housing and water Expenditure\",\"Housing and water Expenditure\",\"Housing and water Expenditure\",\"Housing and water Expenditure\",\"Housing and water Expenditure\",\"Housing and water Expenditure\",\"Housing and water Expenditure\",\"Housing and water Expenditure\",\"Housing and water Expenditure\",\"Housing and water Expenditure\",\"Housing and water Expenditure\",\"Imputed House Rental Value\",\"Imputed House Rental Value\",\"Imputed House Rental Value\",\"Imputed House Rental Value\",\"Imputed House Rental Value\",\"Imputed House Rental Value\",\"Imputed House Rental Value\",\"Imputed House Rental Value\",\"Imputed House Rental Value\",\"Imputed House Rental Value\",\"Imputed House Rental Value\",\"Imputed House Rental Value\",\"Imputed House Rental Value\",\"Imputed House Rental Value\",\"Imputed House Rental Value\",\"Imputed House Rental Value\",\"Imputed House Rental Value\",\"Imputed House Rental Value\",\"Imputed House Rental Value\",\"Imputed House Rental Value\",\"Imputed House Rental Value\",\"Imputed House Rental Value\",\"Medical Care Expenditure\",\"Medical Care Expenditure\",\"Medical Care Expenditure\",\"Medical Care Expenditure\",\"Medical Care Expenditure\",\"Medical Care Expenditure\",\"Medical Care Expenditure\",\"Medical Care Expenditure\",\"Medical Care Expenditure\",\"Medical Care Expenditure\",\"Medical Care Expenditure\",\"Medical Care Expenditure\",\"Medical Care Expenditure\",\"Medical Care Expenditure\",\"Medical Care Expenditure\",\"Medical Care Expenditure\",\"Medical Care Expenditure\",\"Medical Care Expenditure\",\"Medical Care Expenditure\",\"Medical Care Expenditure\",\"Medical Care Expenditure\",\"Medical Care Expenditure\",\"Transportation Expenditure\",\"Transportation Expenditure\",\"Transportation Expenditure\",\"Transportation Expenditure\",\"Transportation Expenditure\",\"Transportation Expenditure\",\"Transportation Expenditure\",\"Transportation Expenditure\",\"Transportation Expenditure\",\"Transportation Expenditure\",\"Transportation Expenditure\",\"Transportation Expenditure\",\"Transportation Expenditure\",\"Transportation Expenditure\",\"Transportation Expenditure\",\"Transportation Expenditure\",\"Transportation Expenditure\",\"Transportation Expenditure\",\"Transportation Expenditure\",\"Transportation Expenditure\",\"Transportation Expenditure\",\"Transportation Expenditure\",\"Communication Expenditure\",\"Communication Expenditure\",\"Communication Expenditure\",\"Communication Expenditure\",\"Communication Expenditure\",\"Communication Expenditure\",\"Communication Expenditure\",\"Communication Expenditure\",\"Communication Expenditure\",\"Communication Expenditure\",\"Communication Expenditure\",\"Communication Expenditure\",\"Communication Expenditure\",\"Communication Expenditure\",\"Communication Expenditure\",\"Communication Expenditure\",\"Communication Expenditure\",\"Communication Expenditure\",\"Communication Expenditure\",\"Communication Expenditure\",\"Communication Expenditure\",\"Communication Expenditure\",\"Education Expenditure\",\"Education Expenditure\",\"Education Expenditure\",\"Education Expenditure\",\"Education Expenditure\",\"Education Expenditure\",\"Education Expenditure\",\"Education Expenditure\",\"Education Expenditure\",\"Education Expenditure\",\"Education Expenditure\",\"Education Expenditure\",\"Education Expenditure\",\"Education Expenditure\",\"Education Expenditure\",\"Education Expenditure\",\"Education Expenditure\",\"Education Expenditure\",\"Education Expenditure\",\"Education Expenditure\",\"Education Expenditure\",\"Education Expenditure\",\"Miscellaneous Goods and Services Expenditure\",\"Miscellaneous Goods and Services Expenditure\",\"Miscellaneous Goods and Services Expenditure\",\"Miscellaneous Goods and Services Expenditure\",\"Miscellaneous Goods and Services Expenditure\",\"Miscellaneous Goods and Services Expenditure\",\"Miscellaneous Goods and Services Expenditure\",\"Miscellaneous Goods and Services Expenditure\",\"Miscellaneous Goods and Services Expenditure\",\"Miscellaneous Goods and Services Expenditure\",\"Miscellaneous Goods and Services Expenditure\",\"Miscellaneous Goods and Services Expenditure\",\"Miscellaneous Goods and Services Expenditure\",\"Miscellaneous Goods and Services Expenditure\",\"Miscellaneous Goods and Services Expenditure\",\"Miscellaneous Goods and Services Expenditure\",\"Miscellaneous Goods and Services Expenditure\",\"Miscellaneous Goods and Services Expenditure\",\"Miscellaneous Goods and Services Expenditure\",\"Miscellaneous Goods and Services Expenditure\",\"Miscellaneous Goods and Services Expenditure\",\"Miscellaneous Goods and Services Expenditure\",\"Special Occasions Expenditure\",\"Special Occasions Expenditure\",\"Special Occasions Expenditure\",\"Special Occasions Expenditure\",\"Special Occasions Expenditure\",\"Special Occasions Expenditure\",\"Special Occasions Expenditure\",\"Special Occasions Expenditure\",\"Special Occasions Expenditure\",\"Special Occasions Expenditure\",\"Special Occasions Expenditure\",\"Special Occasions Expenditure\",\"Special Occasions Expenditure\",\"Special Occasions Expenditure\",\"Special Occasions Expenditure\",\"Special Occasions Expenditure\",\"Special Occasions Expenditure\",\"Special Occasions Expenditure\",\"Special Occasions Expenditure\",\"Special Occasions Expenditure\",\"Special Occasions Expenditure\",\"Special Occasions Expenditure\",\"Crop Farming and Gardening expenses\",\"Crop Farming and Gardening expenses\",\"Crop Farming and Gardening expenses\",\"Crop Farming and Gardening expenses\",\"Crop Farming and Gardening expenses\",\"Crop Farming and Gardening expenses\",\"Crop Farming and Gardening expenses\",\"Crop Farming and Gardening expenses\",\"Crop Farming and Gardening expenses\",\"Crop Farming and Gardening expenses\",\"Crop Farming and Gardening expenses\",\"Crop Farming and Gardening expenses\",\"Crop Farming and Gardening expenses\",\"Crop Farming and Gardening expenses\",\"Crop Farming and Gardening expenses\",\"Crop Farming and Gardening expenses\",\"Crop Farming and Gardening expenses\",\"Crop Farming and Gardening expenses\",\"Crop Farming and Gardening expenses\",\"Crop Farming and Gardening expenses\",\"Crop Farming and Gardening expenses\",\"Crop Farming and Gardening expenses\",\"Total Income from Entrepreneurial Acitivites\",\"Total Income from Entrepreneurial Acitivites\",\"Total Income from Entrepreneurial Acitivites\",\"Total Income from Entrepreneurial Acitivites\",\"Total Income from Entrepreneurial Acitivites\",\"Total Income from Entrepreneurial Acitivites\",\"Total Income from Entrepreneurial Acitivites\",\"Total Income from Entrepreneurial Acitivites\",\"Total Income from Entrepreneurial Acitivites\",\"Total Income from Entrepreneurial Acitivites\",\"Total Income from Entrepreneurial Acitivites\",\"Total Income from Entrepreneurial Acitivites\",\"Total Income from Entrepreneurial Acitivites\",\"Total Income from Entrepreneurial Acitivites\",\"Total Income from Entrepreneurial Acitivites\",\"Total Income from Entrepreneurial Acitivites\",\"Total Income from Entrepreneurial Acitivites\",\"Total Income from Entrepreneurial Acitivites\",\"Total Income from Entrepreneurial Acitivites\",\"Total Income from Entrepreneurial Acitivites\",\"Total Income from Entrepreneurial Acitivites\",\"Total Income from Entrepreneurial Acitivites\"],\"index\":[\"Total Household Income\",\"Total Food Expenditure\",\"Bread and Cereals Expenditure\",\"Total Rice Expenditure\",\"Meat Expenditure\",\"Total Fish and  marine products Expenditure\",\"Fruit Expenditure\",\"Vegetables Expenditure\",\"Restaurant and hotels Expenditure\",\"Alcoholic Beverages Expenditure\",\"Tobacco Expenditure\",\"Clothing, Footwear and Other Wear Expenditure\",\"Housing and water Expenditure\",\"Imputed House Rental Value\",\"Medical Care Expenditure\",\"Transportation Expenditure\",\"Communication Expenditure\",\"Education Expenditure\",\"Miscellaneous Goods and Services Expenditure\",\"Special Occasions Expenditure\",\"Crop Farming and Gardening expenses\",\"Total Income from Entrepreneurial Acitivites\",\"Total Household Income\",\"Total Food Expenditure\",\"Bread and Cereals Expenditure\",\"Total Rice Expenditure\",\"Meat Expenditure\",\"Total Fish and  marine products Expenditure\",\"Fruit Expenditure\",\"Vegetables Expenditure\",\"Restaurant and hotels Expenditure\",\"Alcoholic Beverages Expenditure\",\"Tobacco Expenditure\",\"Clothing, Footwear and Other Wear Expenditure\",\"Housing and water Expenditure\",\"Imputed House Rental Value\",\"Medical Care Expenditure\",\"Transportation Expenditure\",\"Communication Expenditure\",\"Education Expenditure\",\"Miscellaneous Goods and Services Expenditure\",\"Special Occasions Expenditure\",\"Crop Farming and Gardening expenses\",\"Total Income from Entrepreneurial Acitivites\",\"Total Household Income\",\"Total Food Expenditure\",\"Bread and Cereals Expenditure\",\"Total Rice Expenditure\",\"Meat Expenditure\",\"Total Fish and  marine products Expenditure\",\"Fruit Expenditure\",\"Vegetables Expenditure\",\"Restaurant and hotels Expenditure\",\"Alcoholic Beverages Expenditure\",\"Tobacco Expenditure\",\"Clothing, Footwear and Other Wear Expenditure\",\"Housing and water Expenditure\",\"Imputed House Rental Value\",\"Medical Care Expenditure\",\"Transportation Expenditure\",\"Communication Expenditure\",\"Education Expenditure\",\"Miscellaneous Goods and Services Expenditure\",\"Special Occasions Expenditure\",\"Crop Farming and Gardening expenses\",\"Total Income from Entrepreneurial Acitivites\",\"Total Household Income\",\"Total Food Expenditure\",\"Bread and Cereals Expenditure\",\"Total Rice Expenditure\",\"Meat Expenditure\",\"Total Fish and  marine products Expenditure\",\"Fruit Expenditure\",\"Vegetables Expenditure\",\"Restaurant and hotels Expenditure\",\"Alcoholic Beverages Expenditure\",\"Tobacco Expenditure\",\"Clothing, Footwear and Other Wear Expenditure\",\"Housing and water Expenditure\",\"Imputed House Rental Value\",\"Medical Care Expenditure\",\"Transportation Expenditure\",\"Communication Expenditure\",\"Education Expenditure\",\"Miscellaneous Goods and Services Expenditure\",\"Special Occasions Expenditure\",\"Crop Farming and Gardening expenses\",\"Total Income from Entrepreneurial Acitivites\",\"Total Household Income\",\"Total Food Expenditure\",\"Bread and Cereals Expenditure\",\"Total Rice Expenditure\",\"Meat Expenditure\",\"Total Fish and  marine products Expenditure\",\"Fruit Expenditure\",\"Vegetables Expenditure\",\"Restaurant and hotels Expenditure\",\"Alcoholic Beverages Expenditure\",\"Tobacco Expenditure\",\"Clothing, Footwear and Other Wear Expenditure\",\"Housing and water Expenditure\",\"Imputed House Rental Value\",\"Medical Care Expenditure\",\"Transportation Expenditure\",\"Communication Expenditure\",\"Education Expenditure\",\"Miscellaneous Goods and Services Expenditure\",\"Special Occasions Expenditure\",\"Crop Farming and Gardening expenses\",\"Total Income from Entrepreneurial Acitivites\",\"Total Household Income\",\"Total Food Expenditure\",\"Bread and Cereals Expenditure\",\"Total Rice Expenditure\",\"Meat Expenditure\",\"Total Fish and  marine products Expenditure\",\"Fruit Expenditure\",\"Vegetables Expenditure\",\"Restaurant and hotels Expenditure\",\"Alcoholic Beverages Expenditure\",\"Tobacco Expenditure\",\"Clothing, Footwear and Other Wear Expenditure\",\"Housing and water Expenditure\",\"Imputed House Rental Value\",\"Medical Care Expenditure\",\"Transportation Expenditure\",\"Communication Expenditure\",\"Education Expenditure\",\"Miscellaneous Goods and Services Expenditure\",\"Special Occasions Expenditure\",\"Crop Farming and Gardening expenses\",\"Total Income from Entrepreneurial Acitivites\",\"Total Household Income\",\"Total Food Expenditure\",\"Bread and Cereals Expenditure\",\"Total Rice Expenditure\",\"Meat Expenditure\",\"Total Fish and  marine products Expenditure\",\"Fruit Expenditure\",\"Vegetables Expenditure\",\"Restaurant and hotels Expenditure\",\"Alcoholic Beverages Expenditure\",\"Tobacco Expenditure\",\"Clothing, Footwear and Other Wear Expenditure\",\"Housing and water Expenditure\",\"Imputed House Rental Value\",\"Medical Care Expenditure\",\"Transportation Expenditure\",\"Communication Expenditure\",\"Education Expenditure\",\"Miscellaneous Goods and Services Expenditure\",\"Special Occasions Expenditure\",\"Crop Farming and Gardening expenses\",\"Total Income from Entrepreneurial Acitivites\",\"Total Household Income\",\"Total Food Expenditure\",\"Bread and Cereals Expenditure\",\"Total Rice Expenditure\",\"Meat Expenditure\",\"Total Fish and  marine products Expenditure\",\"Fruit Expenditure\",\"Vegetables Expenditure\",\"Restaurant and hotels Expenditure\",\"Alcoholic Beverages Expenditure\",\"Tobacco Expenditure\",\"Clothing, Footwear and Other Wear Expenditure\",\"Housing and water Expenditure\",\"Imputed House Rental Value\",\"Medical Care Expenditure\",\"Transportation Expenditure\",\"Communication Expenditure\",\"Education Expenditure\",\"Miscellaneous Goods and Services Expenditure\",\"Special Occasions Expenditure\",\"Crop Farming and Gardening expenses\",\"Total Income from Entrepreneurial Acitivites\",\"Total Household Income\",\"Total Food Expenditure\",\"Bread and Cereals Expenditure\",\"Total Rice Expenditure\",\"Meat Expenditure\",\"Total Fish and  marine products Expenditure\",\"Fruit Expenditure\",\"Vegetables Expenditure\",\"Restaurant and hotels Expenditure\",\"Alcoholic Beverages Expenditure\",\"Tobacco Expenditure\",\"Clothing, Footwear and Other Wear Expenditure\",\"Housing and water Expenditure\",\"Imputed House Rental Value\",\"Medical Care Expenditure\",\"Transportation Expenditure\",\"Communication Expenditure\",\"Education Expenditure\",\"Miscellaneous Goods and Services Expenditure\",\"Special Occasions Expenditure\",\"Crop Farming and Gardening expenses\",\"Total Income from Entrepreneurial Acitivites\",\"Total Household Income\",\"Total Food Expenditure\",\"Bread and Cereals Expenditure\",\"Total Rice Expenditure\",\"Meat Expenditure\",\"Total Fish and  marine products Expenditure\",\"Fruit Expenditure\",\"Vegetables Expenditure\",\"Restaurant and hotels Expenditure\",\"Alcoholic Beverages Expenditure\",\"Tobacco Expenditure\",\"Clothing, Footwear and Other Wear Expenditure\",\"Housing and water Expenditure\",\"Imputed House Rental Value\",\"Medical Care Expenditure\",\"Transportation Expenditure\",\"Communication Expenditure\",\"Education Expenditure\",\"Miscellaneous Goods and Services Expenditure\",\"Special Occasions Expenditure\",\"Crop Farming and Gardening expenses\",\"Total Income from Entrepreneurial Acitivites\",\"Total Household Income\",\"Total Food Expenditure\",\"Bread and Cereals Expenditure\",\"Total Rice Expenditure\",\"Meat Expenditure\",\"Total Fish and  marine products Expenditure\",\"Fruit Expenditure\",\"Vegetables Expenditure\",\"Restaurant and hotels Expenditure\",\"Alcoholic Beverages Expenditure\",\"Tobacco Expenditure\",\"Clothing, Footwear and Other Wear Expenditure\",\"Housing and water Expenditure\",\"Imputed House Rental Value\",\"Medical Care Expenditure\",\"Transportation Expenditure\",\"Communication Expenditure\",\"Education Expenditure\",\"Miscellaneous Goods and Services Expenditure\",\"Special Occasions Expenditure\",\"Crop Farming and Gardening expenses\",\"Total Income from Entrepreneurial Acitivites\",\"Total Household Income\",\"Total Food Expenditure\",\"Bread and Cereals Expenditure\",\"Total Rice Expenditure\",\"Meat Expenditure\",\"Total Fish and  marine products Expenditure\",\"Fruit Expenditure\",\"Vegetables Expenditure\",\"Restaurant and hotels Expenditure\",\"Alcoholic Beverages Expenditure\",\"Tobacco Expenditure\",\"Clothing, Footwear and Other Wear Expenditure\",\"Housing and water Expenditure\",\"Imputed House Rental Value\",\"Medical Care Expenditure\",\"Transportation Expenditure\",\"Communication Expenditure\",\"Education Expenditure\",\"Miscellaneous Goods and Services Expenditure\",\"Special Occasions Expenditure\",\"Crop Farming and Gardening expenses\",\"Total Income from Entrepreneurial Acitivites\",\"Total Household Income\",\"Total Food Expenditure\",\"Bread and Cereals Expenditure\",\"Total Rice Expenditure\",\"Meat Expenditure\",\"Total Fish and  marine products Expenditure\",\"Fruit Expenditure\",\"Vegetables Expenditure\",\"Restaurant and hotels Expenditure\",\"Alcoholic Beverages Expenditure\",\"Tobacco Expenditure\",\"Clothing, Footwear and Other Wear Expenditure\",\"Housing and water Expenditure\",\"Imputed House Rental Value\",\"Medical Care Expenditure\",\"Transportation Expenditure\",\"Communication Expenditure\",\"Education Expenditure\",\"Miscellaneous Goods and Services Expenditure\",\"Special Occasions Expenditure\",\"Crop Farming and Gardening expenses\",\"Total Income from Entrepreneurial Acitivites\",\"Total Household Income\",\"Total Food Expenditure\",\"Bread and Cereals Expenditure\",\"Total Rice Expenditure\",\"Meat Expenditure\",\"Total Fish and  marine products Expenditure\",\"Fruit Expenditure\",\"Vegetables Expenditure\",\"Restaurant and hotels Expenditure\",\"Alcoholic Beverages Expenditure\",\"Tobacco Expenditure\",\"Clothing, Footwear and Other Wear Expenditure\",\"Housing and water Expenditure\",\"Imputed House Rental Value\",\"Medical Care Expenditure\",\"Transportation Expenditure\",\"Communication Expenditure\",\"Education Expenditure\",\"Miscellaneous Goods and Services Expenditure\",\"Special Occasions Expenditure\",\"Crop Farming and Gardening expenses\",\"Total Income from Entrepreneurial Acitivites\",\"Total Household Income\",\"Total Food Expenditure\",\"Bread and Cereals Expenditure\",\"Total Rice Expenditure\",\"Meat Expenditure\",\"Total Fish and  marine products Expenditure\",\"Fruit Expenditure\",\"Vegetables Expenditure\",\"Restaurant and hotels Expenditure\",\"Alcoholic Beverages Expenditure\",\"Tobacco Expenditure\",\"Clothing, Footwear and Other Wear Expenditure\",\"Housing and water Expenditure\",\"Imputed House Rental Value\",\"Medical Care Expenditure\",\"Transportation Expenditure\",\"Communication Expenditure\",\"Education Expenditure\",\"Miscellaneous Goods and Services Expenditure\",\"Special Occasions Expenditure\",\"Crop Farming and Gardening expenses\",\"Total Income from Entrepreneurial Acitivites\",\"Total Household Income\",\"Total Food Expenditure\",\"Bread and Cereals Expenditure\",\"Total Rice Expenditure\",\"Meat Expenditure\",\"Total Fish and  marine products Expenditure\",\"Fruit Expenditure\",\"Vegetables Expenditure\",\"Restaurant and hotels Expenditure\",\"Alcoholic Beverages Expenditure\",\"Tobacco Expenditure\",\"Clothing, Footwear and Other Wear Expenditure\",\"Housing and water Expenditure\",\"Imputed House Rental Value\",\"Medical Care Expenditure\",\"Transportation Expenditure\",\"Communication Expenditure\",\"Education Expenditure\",\"Miscellaneous Goods and Services Expenditure\",\"Special Occasions Expenditure\",\"Crop Farming and Gardening expenses\",\"Total Income from Entrepreneurial Acitivites\",\"Total Household Income\",\"Total Food Expenditure\",\"Bread and Cereals Expenditure\",\"Total Rice Expenditure\",\"Meat Expenditure\",\"Total Fish and  marine products Expenditure\",\"Fruit Expenditure\",\"Vegetables Expenditure\",\"Restaurant and hotels Expenditure\",\"Alcoholic Beverages Expenditure\",\"Tobacco Expenditure\",\"Clothing, Footwear and Other Wear Expenditure\",\"Housing and water Expenditure\",\"Imputed House Rental Value\",\"Medical Care Expenditure\",\"Transportation Expenditure\",\"Communication Expenditure\",\"Education Expenditure\",\"Miscellaneous Goods and Services Expenditure\",\"Special Occasions Expenditure\",\"Crop Farming and Gardening expenses\",\"Total Income from Entrepreneurial Acitivites\",\"Total Household Income\",\"Total Food Expenditure\",\"Bread and Cereals Expenditure\",\"Total Rice Expenditure\",\"Meat Expenditure\",\"Total Fish and  marine products Expenditure\",\"Fruit Expenditure\",\"Vegetables Expenditure\",\"Restaurant and hotels Expenditure\",\"Alcoholic Beverages Expenditure\",\"Tobacco Expenditure\",\"Clothing, Footwear and Other Wear Expenditure\",\"Housing and water Expenditure\",\"Imputed House Rental Value\",\"Medical Care Expenditure\",\"Transportation Expenditure\",\"Communication Expenditure\",\"Education Expenditure\",\"Miscellaneous Goods and Services Expenditure\",\"Special Occasions Expenditure\",\"Crop Farming and Gardening expenses\",\"Total Income from Entrepreneurial Acitivites\",\"Total Household Income\",\"Total Food Expenditure\",\"Bread and Cereals Expenditure\",\"Total Rice Expenditure\",\"Meat Expenditure\",\"Total Fish and  marine products Expenditure\",\"Fruit Expenditure\",\"Vegetables Expenditure\",\"Restaurant and hotels Expenditure\",\"Alcoholic Beverages Expenditure\",\"Tobacco Expenditure\",\"Clothing, Footwear and Other Wear Expenditure\",\"Housing and water Expenditure\",\"Imputed House Rental Value\",\"Medical Care Expenditure\",\"Transportation Expenditure\",\"Communication Expenditure\",\"Education Expenditure\",\"Miscellaneous Goods and Services Expenditure\",\"Special Occasions Expenditure\",\"Crop Farming and Gardening expenses\",\"Total Income from Entrepreneurial Acitivites\",\"Total Household Income\",\"Total Food Expenditure\",\"Bread and Cereals Expenditure\",\"Total Rice Expenditure\",\"Meat Expenditure\",\"Total Fish and  marine products Expenditure\",\"Fruit Expenditure\",\"Vegetables Expenditure\",\"Restaurant and hotels Expenditure\",\"Alcoholic Beverages Expenditure\",\"Tobacco Expenditure\",\"Clothing, Footwear and Other Wear Expenditure\",\"Housing and water Expenditure\",\"Imputed House Rental Value\",\"Medical Care Expenditure\",\"Transportation Expenditure\",\"Communication Expenditure\",\"Education Expenditure\",\"Miscellaneous Goods and Services Expenditure\",\"Special Occasions Expenditure\",\"Crop Farming and Gardening expenses\",\"Total Income from Entrepreneurial Acitivites\",\"Total Household Income\",\"Total Food Expenditure\",\"Bread and Cereals Expenditure\",\"Total Rice Expenditure\",\"Meat Expenditure\",\"Total Fish and  marine products Expenditure\",\"Fruit Expenditure\",\"Vegetables Expenditure\",\"Restaurant and hotels Expenditure\",\"Alcoholic Beverages Expenditure\",\"Tobacco Expenditure\",\"Clothing, Footwear and Other Wear Expenditure\",\"Housing and water Expenditure\",\"Imputed House Rental Value\",\"Medical Care Expenditure\",\"Transportation Expenditure\",\"Communication Expenditure\",\"Education Expenditure\",\"Miscellaneous Goods and Services Expenditure\",\"Special Occasions Expenditure\",\"Crop Farming and Gardening expenses\",\"Total Income from Entrepreneurial Acitivites\",\"Total Household Income\",\"Total Food Expenditure\",\"Bread and Cereals Expenditure\",\"Total Rice Expenditure\",\"Meat Expenditure\",\"Total Fish and  marine products Expenditure\",\"Fruit Expenditure\",\"Vegetables Expenditure\",\"Restaurant and hotels Expenditure\",\"Alcoholic Beverages Expenditure\",\"Tobacco Expenditure\",\"Clothing, Footwear and Other Wear Expenditure\",\"Housing and water Expenditure\",\"Imputed House Rental Value\",\"Medical Care Expenditure\",\"Transportation Expenditure\",\"Communication Expenditure\",\"Education Expenditure\",\"Miscellaneous Goods and Services Expenditure\",\"Special Occasions Expenditure\",\"Crop Farming and Gardening expenses\",\"Total Income from Entrepreneurial Acitivites\"],\"value\":[\"1\",\"0.66366\",\"0.27661\",\"0.16248\",\"0.56714\",\"0.39507\",\"0.44894\",\"0.37322\",\"0.51002\",\"0.15338\",\"0.068891\",\"0.60599\",\"0.67619\",\"0.57409\",\"0.30414\",\"0.63994\",\"0.71014\",\"0.43959\",\"0.66629\",\"0.3826\",\"0.1287\",\"0.56366\",\"0.66366\",\"1\",\"0.60032\",\"0.43591\",\"0.77127\",\"0.60559\",\"0.52614\",\"0.55608\",\"0.73218\",\"0.21794\",\"0.16383\",\"0.54324\",\"0.52225\",\"0.38954\",\"0.18664\",\"0.57737\",\"0.63382\",\"0.3749\",\"0.59445\",\"0.29662\",\"0.0208\",\"0.24407\",\"0.27661\",\"0.60032\",\"1\",\"0.87629\",\"0.34678\",\"0.39139\",\"0.22885\",\"0.3492\",\"0.17253\",\"0.13102\",\"0.14876\",\"0.22436\",\"0.14666\",\"0.095659\",\"0.055608\",\"0.21958\",\"0.20496\",\"0.15936\",\"0.24028\",\"0.14681\",\"0.085204\",\"0.13764\",\"0.16248\",\"0.43591\",\"0.87629\",\"1\",\"0.21504\",\"0.2777\",\"0.11773\",\"0.23326\",\"0.091281\",\"0.092468\",\"0.13581\",\"0.11927\",\"0.05492\",\"0.024058\",\"0.024236\",\"0.12267\",\"0.093062\",\"0.097582\",\"0.13835\",\"0.094312\",\"0.086164\",\"0.095851\",\"0.56714\",\"0.77127\",\"0.34678\",\"0.21504\",\"1\",\"0.46542\",\"0.41936\",\"0.47434\",\"0.43498\",\"0.21871\",\"0.13183\",\"0.47627\",\"0.46526\",\"0.34872\",\"0.16361\",\"0.47683\",\"0.554\",\"0.32386\",\"0.50316\",\"0.27431\",\"0.025302\",\"0.20458\",\"0.39507\",\"0.60559\",\"0.39139\",\"0.2777\",\"0.46542\",\"1\",\"0.35649\",\"0.48559\",\"0.20728\",\"0.16746\",\"0.12615\",\"0.32436\",\"0.25466\",\"0.1932\",\"0.11574\",\"0.30718\",\"0.32422\",\"0.21312\",\"0.3327\",\"0.20465\",\"0.052055\",\"0.20004\",\"0.44894\",\"0.52614\",\"0.22885\",\"0.11773\",\"0.41936\",\"0.35649\",\"1\",\"0.43824\",\"0.28208\",\"0.090177\",\"0.019765\",\"0.39469\",\"0.37726\",\"0.30563\",\"0.17772\",\"0.36631\",\"0.42969\",\"0.24244\",\"0.39068\",\"0.21915\",\"0.050811\",\"0.20296\",\"0.37322\",\"0.55608\",\"0.3492\",\"0.23326\",\"0.47434\",\"0.48559\",\"0.43824\",\"1\",\"0.19745\",\"0.14668\",\"0.079731\",\"0.32962\",\"0.27498\",\"0.20802\",\"0.12141\",\"0.30327\",\"0.33127\",\"0.20745\",\"0.32428\",\"0.18674\",\"0.08877\",\"0.18121\",\"0.51002\",\"0.73218\",\"0.17253\",\"0.091281\",\"0.43498\",\"0.20728\",\"0.28208\",\"0.19745\",\"1\",\"0.12197\",\"0.084798\",\"0.40005\",\"0.43765\",\"0.32844\",\"0.11574\",\"0.49446\",\"0.53913\",\"0.32901\",\"0.46244\",\"0.17539\",\"-0.047684\",\"0.14009\",\"0.15338\",\"0.21794\",\"0.13102\",\"0.092468\",\"0.21871\",\"0.16746\",\"0.090177\",\"0.14668\",\"0.12197\",\"1\",\"0.2569\",\"0.14169\",\"0.083355\",\"0.052124\",\"0.017132\",\"0.10957\",\"0.11471\",\"0.0375\",\"0.11641\",\"0.092478\",\"0.036451\",\"0.088295\",\"0.068891\",\"0.16383\",\"0.14876\",\"0.13581\",\"0.13183\",\"0.12615\",\"0.019765\",\"0.079731\",\"0.084798\",\"0.2569\",\"1\",\"0.045142\",\"0.026763\",\"0.0084546\",\"0.0068015\",\"0.057163\",\"0.052699\",\"-0.010259\",\"0.041747\",\"0.029318\",\"0.0097892\",\"0.034833\",\"0.60599\",\"0.54324\",\"0.22436\",\"0.11927\",\"0.47627\",\"0.32436\",\"0.39469\",\"0.32962\",\"0.40005\",\"0.14169\",\"0.045142\",\"1\",\"0.43209\",\"0.33639\",\"0.17285\",\"0.50303\",\"0.57404\",\"0.34377\",\"0.56522\",\"0.33754\",\"0.04438\",\"0.26711\",\"0.67619\",\"0.52225\",\"0.14666\",\"0.05492\",\"0.46526\",\"0.25466\",\"0.37726\",\"0.27498\",\"0.43765\",\"0.083355\",\"0.026763\",\"0.43209\",\"1\",\"0.91904\",\"0.21218\",\"0.5158\",\"0.6397\",\"0.32794\",\"0.47087\",\"0.21676\",\"-0.01216\",\"0.2635\",\"0.57409\",\"0.38954\",\"0.095659\",\"0.024058\",\"0.34872\",\"0.1932\",\"0.30563\",\"0.20802\",\"0.32844\",\"0.052124\",\"0.0084546\",\"0.33639\",\"0.91904\",\"1\",\"0.17816\",\"0.42037\",\"0.51663\",\"0.25505\",\"0.36237\",\"0.16779\",\"-0.0063352\",\"0.21478\",\"0.30414\",\"0.18664\",\"0.055608\",\"0.024236\",\"0.16361\",\"0.11574\",\"0.17772\",\"0.12141\",\"0.11574\",\"0.017132\",\"0.0068015\",\"0.17285\",\"0.21218\",\"0.17816\",\"1\",\"0.20037\",\"0.21471\",\"0.088768\",\"0.2317\",\"0.18589\",\"0.010141\",\"0.11301\",\"0.63994\",\"0.57737\",\"0.21958\",\"0.12267\",\"0.47683\",\"0.30718\",\"0.36631\",\"0.30327\",\"0.49446\",\"0.10957\",\"0.057163\",\"0.50303\",\"0.5158\",\"0.42037\",\"0.20037\",\"1\",\"0.62161\",\"0.38669\",\"0.54453\",\"0.27204\",\"0.050873\",\"0.24437\",\"0.71014\",\"0.63382\",\"0.20496\",\"0.093062\",\"0.554\",\"0.32422\",\"0.42969\",\"0.33127\",\"0.53913\",\"0.11471\",\"0.052699\",\"0.57404\",\"0.6397\",\"0.51663\",\"0.21471\",\"0.62161\",\"1\",\"0.41962\",\"0.60435\",\"0.29351\",\"-0.0058393\",\"0.26298\",\"0.43959\",\"0.3749\",\"0.15936\",\"0.097582\",\"0.32386\",\"0.21312\",\"0.24244\",\"0.20745\",\"0.32901\",\"0.0375\",\"-0.010259\",\"0.34377\",\"0.32794\",\"0.25505\",\"0.088768\",\"0.38669\",\"0.41962\",\"1\",\"0.33428\",\"0.15884\",\"0.035074\",\"0.19919\",\"0.66629\",\"0.59445\",\"0.24028\",\"0.13835\",\"0.50316\",\"0.3327\",\"0.39068\",\"0.32428\",\"0.46244\",\"0.11641\",\"0.041747\",\"0.56522\",\"0.47087\",\"0.36237\",\"0.2317\",\"0.54453\",\"0.60435\",\"0.33428\",\"1\",\"0.37139\",\"0.013091\",\"0.20414\",\"0.3826\",\"0.29662\",\"0.14681\",\"0.094312\",\"0.27431\",\"0.20465\",\"0.21915\",\"0.18674\",\"0.17539\",\"0.092478\",\"0.029318\",\"0.33754\",\"0.21676\",\"0.16779\",\"0.18589\",\"0.27204\",\"0.29351\",\"0.15884\",\"0.37139\",\"1\",\"0.074255\",\"0.16448\",\"0.1287\",\"0.0208\",\"0.085204\",\"0.086164\",\"0.025302\",\"0.052055\",\"0.050811\",\"0.08877\",\"-0.047684\",\"0.036451\",\"0.0097892\",\"0.04438\",\"-0.01216\",\"-0.0063352\",\"0.010141\",\"0.050873\",\"-0.0058393\",\"0.035074\",\"0.013091\",\"0.074255\",\"1\",\"0.31608\",\"0.56366\",\"0.24407\",\"0.13764\",\"0.095851\",\"0.20458\",\"0.20004\",\"0.20296\",\"0.18121\",\"0.14009\",\"0.088295\",\"0.034833\",\"0.26711\",\"0.2635\",\"0.21478\",\"0.11301\",\"0.24437\",\"0.26298\",\"0.19919\",\"0.20414\",\"0.16448\",\"0.31608\",\"1\"],\"zvalues\":{\"__ndarray__\":\"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\",\"dtype\":\"float64\",\"order\":\"little\",\"shape\":[484]}},\"selected\":{\"id\":\"41850\"},\"selection_policy\":{\"id\":\"41878\"}},\"id\":\"41849\",\"type\":\"ColumnDataSource\"},{\"attributes\":{},\"id\":\"41827\",\"type\":\"CategoricalScale\"},{\"attributes\":{\"fill_alpha\":{\"value\":0.2},\"fill_color\":{\"field\":\"zvalues\",\"transform\":{\"id\":\"41848\"}},\"hatch_alpha\":{\"value\":0.2},\"height\":{\"value\":1},\"line_alpha\":{\"value\":0},\"line_color\":{\"value\":\"#1f77b4\"},\"width\":{\"value\":1},\"x\":{\"field\":\"columns\"},\"y\":{\"field\":\"index\"}},\"id\":\"41855\",\"type\":\"Rect\"}],\"root_ids\":[\"41816\"]},\"title\":\"Bokeh Application\",\"version\":\"2.4.3\"}};\n",
       "    var render_items = [{\"docid\":\"ebd5f285-219b-4632-a2f5-36d6aebfd255\",\"root_ids\":[\"41816\"],\"roots\":{\"41816\":\"9bcb836e-ef1d-4432-b0ae-bc63d9d3594c\"}}];\n",
       "    root.Bokeh.embed.embed_items_notebook(docs_json, render_items);\n",
       "    for (const render_item of render_items) {\n",
       "      for (const root_id of render_item.root_ids) {\n",
       "\tconst id_el = document.getElementById(root_id)\n",
       "\tif (id_el.children.length && (id_el.children[0].className === 'bk-root')) {\n",
       "\t  const root_el = id_el.children[0]\n",
       "\t  root_el.id = root_el.id + '-rendered'\n",
       "\t}\n",
       "      }\n",
       "    }\n",
       "  }\n",
       "  if (root.Bokeh !== undefined && root.Bokeh.Panel !== undefined) {\n",
       "    embed_document(root);\n",
       "  } else {\n",
       "    var attempts = 0;\n",
       "    var timer = setInterval(function(root) {\n",
       "      if (root.Bokeh !== undefined && root.Bokeh.Panel !== undefined) {\n",
       "        clearInterval(timer);\n",
       "        embed_document(root);\n",
       "      } else if (document.readyState == \"complete\") {\n",
       "        attempts++;\n",
       "        if (attempts > 200) {\n",
       "          clearInterval(timer);\n",
       "          console.log(\"Bokeh: ERROR: Unable to run BokehJS code because BokehJS library is missing\");\n",
       "        }\n",
       "      }\n",
       "    }, 25, root)\n",
       "  }\n",
       "})(window);</script>"
      ],
      "text/plain": [
       ":HeatMap   [columns,index]   (value)"
      ]
     },
     "execution_count": 372,
     "metadata": {
      "application/vnd.holoviews_exec.v0+json": {
       "id": "41816"
      }
     },
     "output_type": "execute_result"
    }
   ],
   "source": [
    "correlation = dataset[['Total Household Income', 'Region', 'Total Food Expenditure',\n",
    "       'Main Source of Income',\n",
    "       'Bread and Cereals Expenditure', 'Total Rice Expenditure',\n",
    "       'Meat Expenditure', 'Total Fish and  marine products Expenditure',\n",
    "       'Fruit Expenditure', 'Vegetables Expenditure',\n",
    "       'Restaurant and hotels Expenditure', 'Alcoholic Beverages Expenditure',\n",
    "       'Tobacco Expenditure', 'Clothing, Footwear and Other Wear Expenditure',\n",
    "       'Housing and water Expenditure', 'Imputed House Rental Value',\n",
    "       'Medical Care Expenditure', 'Transportation Expenditure',\n",
    "       'Communication Expenditure', 'Education Expenditure',\n",
    "       'Miscellaneous Goods and Services Expenditure',\n",
    "       'Special Occasions Expenditure', 'Crop Farming and Gardening expenses',\n",
    "       'Total Income from Entrepreneurial Acitivites']].corr()\n",
    "correlation.hvplot.heatmap(width=1500, height=1000, rot=25)"
   ]
  },
  {
   "cell_type": "code",
   "execution_count": 377,
   "metadata": {},
   "outputs": [
    {
     "data": {},
     "metadata": {},
     "output_type": "display_data"
    },
    {
     "data": {
      "application/vnd.holoviews_exec.v0+json": "",
      "text/html": [
       "<div id='42429'>\n",
       "  <div class=\"bk-root\" id=\"48ca24b5-b4c8-42db-8db3-effe0169eb2a\" data-root-id=\"42429\"></div>\n",
       "</div>\n",
       "<script type=\"application/javascript\">(function(root) {\n",
       "  function embed_document(root) {\n",
       "    var docs_json = {\"4361f776-7b60-4f21-83e4-7b585e8888eb\":{\"defs\":[{\"extends\":null,\"module\":null,\"name\":\"ReactiveHTML1\",\"overrides\":[],\"properties\":[]},{\"extends\":null,\"module\":null,\"name\":\"FlexBox1\",\"overrides\":[],\"properties\":[{\"default\":\"flex-start\",\"kind\":null,\"name\":\"align_content\"},{\"default\":\"flex-start\",\"kind\":null,\"name\":\"align_items\"},{\"default\":\"row\",\"kind\":null,\"name\":\"flex_direction\"},{\"default\":\"wrap\",\"kind\":null,\"name\":\"flex_wrap\"},{\"default\":\"flex-start\",\"kind\":null,\"name\":\"justify_content\"}]},{\"extends\":null,\"module\":null,\"name\":\"GridStack1\",\"overrides\":[],\"properties\":[{\"default\":\"warn\",\"kind\":null,\"name\":\"mode\"},{\"default\":null,\"kind\":null,\"name\":\"ncols\"},{\"default\":null,\"kind\":null,\"name\":\"nrows\"},{\"default\":true,\"kind\":null,\"name\":\"allow_resize\"},{\"default\":true,\"kind\":null,\"name\":\"allow_drag\"},{\"default\":[],\"kind\":null,\"name\":\"state\"}]},{\"extends\":null,\"module\":null,\"name\":\"click1\",\"overrides\":[],\"properties\":[{\"default\":\"\",\"kind\":null,\"name\":\"terminal_output\"},{\"default\":\"\",\"kind\":null,\"name\":\"debug_name\"},{\"default\":0,\"kind\":null,\"name\":\"clears\"}]},{\"extends\":null,\"module\":null,\"name\":\"NotificationAreaBase1\",\"overrides\":[],\"properties\":[{\"default\":\"bottom-right\",\"kind\":null,\"name\":\"position\"},{\"default\":0,\"kind\":null,\"name\":\"_clear\"}]},{\"extends\":null,\"module\":null,\"name\":\"NotificationArea1\",\"overrides\":[],\"properties\":[{\"default\":[],\"kind\":null,\"name\":\"notifications\"},{\"default\":\"bottom-right\",\"kind\":null,\"name\":\"position\"},{\"default\":0,\"kind\":null,\"name\":\"_clear\"},{\"default\":[{\"background\":\"#ffc107\",\"icon\":{\"className\":\"fas fa-exclamation-triangle\",\"color\":\"white\",\"tagName\":\"i\"},\"type\":\"warning\"},{\"background\":\"#007bff\",\"icon\":{\"className\":\"fas fa-info-circle\",\"color\":\"white\",\"tagName\":\"i\"},\"type\":\"info\"}],\"kind\":null,\"name\":\"types\"}]},{\"extends\":null,\"module\":null,\"name\":\"Notification\",\"overrides\":[],\"properties\":[{\"default\":null,\"kind\":null,\"name\":\"background\"},{\"default\":3000,\"kind\":null,\"name\":\"duration\"},{\"default\":null,\"kind\":null,\"name\":\"icon\"},{\"default\":\"\",\"kind\":null,\"name\":\"message\"},{\"default\":null,\"kind\":null,\"name\":\"notification_type\"},{\"default\":false,\"kind\":null,\"name\":\"_destroyed\"}]},{\"extends\":null,\"module\":null,\"name\":\"TemplateActions1\",\"overrides\":[],\"properties\":[{\"default\":0,\"kind\":null,\"name\":\"open_modal\"},{\"default\":0,\"kind\":null,\"name\":\"close_modal\"}]},{\"extends\":null,\"module\":null,\"name\":\"MaterialTemplateActions1\",\"overrides\":[],\"properties\":[{\"default\":0,\"kind\":null,\"name\":\"open_modal\"},{\"default\":0,\"kind\":null,\"name\":\"close_modal\"}]}],\"roots\":{\"references\":[{\"attributes\":{},\"id\":\"42495\",\"type\":\"UnionRenderers\"},{\"attributes\":{\"children\":[{\"id\":\"42433\"}],\"height\":500,\"margin\":[0,0,0,0],\"name\":\"Row47272\",\"sizing_mode\":\"fixed\",\"tags\":[\"embedded\"],\"width\":700},\"id\":\"42429\",\"type\":\"Row\"},{\"attributes\":{\"aspect_scale\":14.315359354270704,\"fill_alpha\":{\"value\":1.0},\"fill_color\":{\"field\":\"Count\",\"transform\":{\"id\":\"42463\"}},\"hatch_alpha\":{\"value\":1.0},\"hatch_color\":{\"field\":\"Count\",\"transform\":{\"id\":\"42463\"}},\"hatch_scale\":{\"value\":12.0},\"hatch_weight\":{\"value\":1.0},\"line_alpha\":{\"value\":1.0},\"line_cap\":{\"value\":\"butt\"},\"line_color\":{\"field\":\"Count\",\"transform\":{\"id\":\"42463\"}},\"line_dash\":{\"value\":[]},\"line_dash_offset\":{\"value\":0},\"line_join\":{\"value\":\"bevel\"},\"line_width\":{\"value\":1},\"q\":{\"field\":\"q\"},\"r\":{\"field\":\"r\"},\"scale\":{\"value\":1.0},\"size\":157396.03999999998},\"id\":\"42474\",\"type\":\"HexTile\"},{\"attributes\":{},\"id\":\"42440\",\"type\":\"LinearScale\"},{\"attributes\":{\"axis_label\":\"Total Food Expenditure\",\"coordinates\":null,\"formatter\":{\"id\":\"36159\"},\"group\":null,\"major_label_policy\":{\"id\":\"42477\"},\"ticker\":{\"id\":\"42443\"}},\"id\":\"42442\",\"type\":\"LinearAxis\"},{\"attributes\":{\"data\":{\"Count\":{\"__ndarray__\":\"fQMAAFgWAACgEAAAxAUAAE0TAABIDAAAKwEAAL8AAACZEgAAhAEAAKwMAAA7AAAALAAAANsCAABPAAAASgAAAMgAAACBBgAApgEAAFwDAAAUAwAAwQcAAI0CAAC5AQAAHgAAALIAAAAFAAAAdgIAAE0AAABGAAAAGAAAAAUAAAACAAAA4QAAAJ8AAAAGAAAAVAAAAAEAAAAwAAAAJQAAADAAAADeAAAAAQAAAAcAAAA+AAAAPgAAABMAAAAiAQAAHQAAABoAAABrAAAAAQAAAB4AAAA+AAAAHAAAAAQAAAABAAAABgAAAAEAAAAFAAAAqQAAAAYAAAAgAAAAHQAAADgAAACJAAAABgAAAAYAAABVAAAADAAAAAcAAAA1AAAACgAAAAEAAABBAAAADAAAAAUAAAAkAAAADgAAAA0AAAACAAAAAQAAAJQAAAAEAAAAIAAAABsAAAACAAAADAAAAAYAAAABAAAABQAAAAIAAAAFAAAADAAAAAMAAAAEAAAALAAAAA0AAAABAAAACQAAAAUAAAAJAAAAEAAAABEAAAALAAAABgAAAAUAAAABAAAAFAAAAAkAAAAeAAAAEAAAAAkAAAABAAAAAQAAAAEAAAABAAAAAQAAAAEAAAAGAAAAAQAAAAEAAAAOAAAABgAAAAIAAAAIAAAABgAAAAEAAAALAAAABgAAAAIAAAAQAAAAAwAAAAMAAAAEAAAABwAAAAEAAAAHAAAAAgAAAAUAAAABAAAAAgAAAAYAAAANAAAAEgAAAAIAAAABAAAAEwAAAAEAAAABAAAAAQAAAAMAAAACAAAAAQAAAAEAAAAEAAAAAQAAAAEAAAAJAAAABQAAAAMAAAABAAAAAQAAAAEAAAABAAAAAQAAAAMAAAABAAAAAwAAAAEAAAABAAAAAgAAAAIAAAACAAAAAQAAAAIAAAACAAAAAQAAAAEAAAAEAAAAAQAAAAEAAAABAAAAAgAAAAEAAAACAAAAAQAAAAUAAAAHAAAAAwAAAAIAAAABAAAAAgAAAAEAAAABAAAAAgAAAAEAAAADAAAABAAAAAEAAAADAAAAAQAAAAYAAAABAAAAAwAAAAEAAAABAAAAAQAAAAEAAAABAAAAAQAAAAIAAAABAAAAAQAAAAIAAAABAAAAAQAAAAEAAAABAAAAAQAAAAIAAAABAAAAAQAAAAcAAAACAAAAAgAAAAEAAAABAAAAAgAAAAEAAAAHAAAAAQAAAAEAAAABAAAAAQAAAAEAAAABAAAAAQAAAAEAAAABAAAAAQAAAAEAAAABAAAAAQAAAAEAAAABAAAAAQAAAAEAAAABAAAAAQAAAAEAAAABAAAAAQAAAAEAAAABAAAAAQAAAAEAAAABAAAAAQAAAAEAAAABAAAAAgAAAAEAAAABAAAAAgAAAAEAAAABAAAAAQAAAAEAAAABAAAAAQAAAAEAAAABAAAAAQAAAAEAAAABAAAAAQAAAAEAAAABAAAAAQAAAAEAAAABAAAA\",\"dtype\":\"int32\",\"order\":\"little\",\"shape\":[282]},\"q\":[7,4,3,4,5,6,5,10,2,9,3,6,7,6,9,14,11,7,10,8,8,1,2,5,15,4,8,9,11,10,9,15,4,9,7,14,13,31,15,0,14,8,41,14,12,3,7,11,16,15,13,10,11,8,12,19,26,10,39,18,12,20,12,16,13,12,19,11,6,16,16,5,11,40,11,15,11,14,13,17,24,18,10,22,15,16,15,16,17,34,12,23,19,13,21,18,14,20,11,8,9,7,8,13,19,13,7,19,6,18,10,4,1,21,21,37,31,37,42,5,25,12,17,21,21,23,17,22,18,13,14,14,22,22,18,17,13,6,14,2,26,17,10,17,18,20,22,18,44,27,17,15,19,29,26,15,32,22,12,14,15,31,12,26,33,24,16,18,21,22,12,19,21,28,21,22,23,28,36,24,26,28,26,17,21,21,28,9,10,15,20,25,23,28,10,22,27,21,19,17,23,31,20,19,9,7,18,14,25,3,10,26,16,18,13,24,26,15,9,30,6,20,26,20,5,25,29,20,24,25,17,43,8,40,11,16,42,11,9,36,14,6,12,36,25,23,23,20,19,13,32,29,18,27,30,22,20,28,29,28,20,16,14,16,13,37,25,18,24,23,27,16,22,25,24,11,37,32,25,25,30,10],\"r\":[-2,-1,0,0,-1,-1,0,-3,0,-1,-1,0,-4,-2,-4,-3,-3,-1,-2,-1,-2,0,-1,-2,-5,-2,0,-2,-4,-4,-5,-7,-4,-3,-3,-1,-2,-7,-3,0,-2,-3,-7,-8,-4,-2,0,-2,-3,-2,-3,-11,-5,-4,-1,-6,-7,-7,-49,-7,-2,-6,-5,-4,-4,-3,-4,-8,-3,-2,-7,-3,-6,-50,-1,-6,-7,-5,-1,-5,-7,-1,-1,-3,-4,-5,-12,-6,-2,-24,-7,-8,-7,-6,-7,-9,-4,-4,-11,-6,-6,-5,-5,-5,-5,-8,-6,-10,-4,-5,-5,-3,-1,-8,-26,-1,0,-3,-1,-4,-16,0,-3,-6,-3,-6,-6,-4,-6,-7,-9,-6,-9,-7,-2,-8,-12,-5,-10,-2,0,-14,-8,-4,-3,-3,-8,-4,-1,-30,-1,-1,0,-1,-2,-8,-1,-21,-6,-7,-9,-15,-12,-26,-11,-9,-8,-14,-9,-11,-9,-3,-11,-6,-20,-5,-10,-4,-17,-6,-12,-10,-16,-13,-14,-10,-8,-7,-6,-10,-2,-5,-9,-11,-10,-6,-4,-4,-8,-11,-7,-3,-8,-19,0,-7,-12,0,-4,-3,-14,-10,-12,-11,-10,-4,-17,-21,-9,-9,-6,-7,-5,-5,-5,-9,-18,-9,-5,-8,-7,-17,-7,-42,-9,-11,-8,-13,-10,0,-11,-8,-10,-26,-3,-12,-11,-12,-9,-9,-7,-10,-10,-9,-8,-12,-14,-17,-27,-18,-11,-10,-13,-13,-11,-11,-17,-8,-10,-5,-16,-9,-13,-11,-15,-10,-14,-10,-6,-10,-15,-9]},\"selected\":{\"id\":\"42465\"},\"selection_policy\":{\"id\":\"42495\"}},\"id\":\"42464\",\"type\":\"ColumnDataSource\"},{\"attributes\":{},\"id\":\"42482\",\"type\":\"AllLabels\"},{\"attributes\":{\"below\":[{\"id\":\"42442\"}],\"center\":[{\"id\":\"42445\"},{\"id\":\"42449\"}],\"height\":500,\"left\":[{\"id\":\"42446\"}],\"margin\":[5,5,5,5],\"min_border_bottom\":10,\"min_border_left\":10,\"min_border_right\":10,\"min_border_top\":10,\"renderers\":[{\"id\":\"42470\"}],\"right\":[{\"id\":\"42473\"}],\"sizing_mode\":\"fixed\",\"title\":{\"id\":\"42434\"},\"toolbar\":{\"id\":\"42456\"},\"width\":700,\"x_range\":{\"id\":\"42430\"},\"x_scale\":{\"id\":\"42438\"},\"y_range\":{\"id\":\"42431\"},\"y_scale\":{\"id\":\"42440\"}},\"id\":\"42433\",\"subtype\":\"Figure\",\"type\":\"Plot\"},{\"attributes\":{},\"id\":\"36159\",\"type\":\"NumeralTickFormatter\"},{\"attributes\":{\"overlay\":{\"id\":\"42455\"}},\"id\":\"42453\",\"type\":\"BoxZoomTool\"},{\"attributes\":{\"bottom_units\":\"screen\",\"coordinates\":null,\"fill_alpha\":0.5,\"fill_color\":\"lightgrey\",\"group\":null,\"left_units\":\"screen\",\"level\":\"overlay\",\"line_alpha\":1.0,\"line_color\":\"black\",\"line_dash\":[4,4],\"line_width\":2,\"right_units\":\"screen\",\"syncable\":false,\"top_units\":\"screen\"},\"id\":\"42455\",\"type\":\"BoxAnnotation\"},{\"attributes\":{\"axis\":{\"id\":\"42442\"},\"coordinates\":null,\"grid_line_color\":null,\"group\":null,\"ticker\":null},\"id\":\"42445\",\"type\":\"Grid\"},{\"attributes\":{\"aspect_scale\":14.315359354270704,\"fill_alpha\":{\"value\":0.1},\"fill_color\":{\"field\":\"Count\",\"transform\":{\"id\":\"42463\"}},\"hatch_alpha\":{\"value\":0.1},\"hatch_color\":{\"field\":\"Count\",\"transform\":{\"id\":\"42463\"}},\"line_alpha\":{\"value\":0.1},\"line_color\":{\"field\":\"Count\",\"transform\":{\"id\":\"42463\"}},\"q\":{\"field\":\"q\"},\"r\":{\"field\":\"r\"},\"size\":157396.03999999998},\"id\":\"42468\",\"type\":\"HexTile\"},{\"attributes\":{},\"id\":\"42450\",\"type\":\"SaveTool\"},{\"attributes\":{},\"id\":\"42451\",\"type\":\"PanTool\"},{\"attributes\":{\"axis_label\":\"Total Household Income\",\"coordinates\":null,\"formatter\":{\"id\":\"36159\"},\"group\":null,\"major_label_policy\":{\"id\":\"42482\"},\"ticker\":{\"id\":\"42447\"}},\"id\":\"42446\",\"type\":\"LinearAxis\"},{\"attributes\":{\"aspect_scale\":14.315359354270704,\"fill_alpha\":{\"value\":0.2},\"fill_color\":{\"field\":\"Count\",\"transform\":{\"id\":\"42463\"}},\"hatch_alpha\":{\"value\":0.2},\"hatch_color\":{\"field\":\"Count\",\"transform\":{\"id\":\"42463\"}},\"line_alpha\":{\"value\":0.2},\"line_color\":{\"field\":\"Count\",\"transform\":{\"id\":\"42463\"}},\"q\":{\"field\":\"q\"},\"r\":{\"field\":\"r\"},\"size\":157396.03999999998},\"id\":\"42469\",\"type\":\"HexTile\"},{\"attributes\":{\"aspect_scale\":14.315359354270704,\"fill_color\":{\"field\":\"Count\",\"transform\":{\"id\":\"42463\"}},\"hatch_color\":{\"field\":\"Count\",\"transform\":{\"id\":\"42463\"}},\"line_color\":{\"field\":\"Count\",\"transform\":{\"id\":\"42463\"}},\"q\":{\"field\":\"q\"},\"r\":{\"field\":\"r\"},\"size\":157396.03999999998},\"id\":\"42467\",\"type\":\"HexTile\"},{\"attributes\":{},\"id\":\"42443\",\"type\":\"BasicTicker\"},{\"attributes\":{},\"id\":\"42447\",\"type\":\"BasicTicker\"},{\"attributes\":{\"bar_line_color\":\"black\",\"color_mapper\":{\"id\":\"42463\"},\"coordinates\":null,\"group\":null,\"label_standoff\":8,\"location\":[0,0],\"major_label_policy\":{\"id\":\"42492\"},\"major_tick_line_color\":\"black\",\"ticker\":{\"id\":\"42472\"}},\"id\":\"42473\",\"type\":\"ColorBar\"},{\"attributes\":{},\"id\":\"42477\",\"type\":\"AllLabels\"},{\"attributes\":{\"coordinates\":null,\"data_source\":{\"id\":\"42464\"},\"glyph\":{\"id\":\"42467\"},\"group\":null,\"hover_glyph\":null,\"muted_glyph\":{\"id\":\"42469\"},\"nonselection_glyph\":{\"id\":\"42468\"},\"selection_glyph\":{\"id\":\"42474\"},\"view\":{\"id\":\"42471\"}},\"id\":\"42470\",\"type\":\"GlyphRenderer\"},{\"attributes\":{\"coordinates\":null,\"group\":null,\"text_color\":\"black\",\"text_font_size\":\"12pt\"},\"id\":\"42434\",\"type\":\"Title\"},{\"attributes\":{\"axis\":{\"id\":\"42446\"},\"coordinates\":null,\"dimension\":1,\"grid_line_color\":null,\"group\":null,\"ticker\":null},\"id\":\"42449\",\"type\":\"Grid\"},{\"attributes\":{\"high\":5720,\"low\":1,\"palette\":[\"#b3fef5\",\"#b0fef5\",\"#adfdf5\",\"#a9fcf5\",\"#a6fbf6\",\"#a3faf6\",\"#a0faf6\",\"#9df9f6\",\"#9af8f6\",\"#97f7f6\",\"#93f7f6\",\"#90f6f6\",\"#8df5f6\",\"#8af4f7\",\"#87f3f7\",\"#83f2f7\",\"#80f2f7\",\"#7df1f7\",\"#79f0f7\",\"#76eff7\",\"#73eef7\",\"#6fedf8\",\"#6cecf8\",\"#68ecf8\",\"#65ebf8\",\"#61eaf8\",\"#5ee9f8\",\"#5ae8f8\",\"#57e7f8\",\"#53e6f8\",\"#50e5f9\",\"#4ce4f9\",\"#49e3f9\",\"#45e2f9\",\"#42e1f9\",\"#3ee0f9\",\"#3bdff9\",\"#38def9\",\"#35ddf9\",\"#32dcf9\",\"#30dbfa\",\"#2ed9fa\",\"#2dd8fa\",\"#2cd7fa\",\"#2bd6fa\",\"#2bd5fa\",\"#2ad3fa\",\"#2ad2fa\",\"#29d1fa\",\"#29d0fb\",\"#29cffb\",\"#28cdfb\",\"#28ccfb\",\"#28cbfb\",\"#28cafb\",\"#28c8fb\",\"#28c7fb\",\"#29c6fb\",\"#29c5fb\",\"#29c4fb\",\"#29c2fb\",\"#2ac1fb\",\"#2ac0fb\",\"#2bbffb\",\"#2bbdfc\",\"#2cbcfc\",\"#2dbbfc\",\"#2db9fc\",\"#2eb8fc\",\"#2fb7fc\",\"#2fb6fc\",\"#30b4fc\",\"#31b3fc\",\"#32b2fc\",\"#32b0fc\",\"#33affc\",\"#33aefc\",\"#34adfc\",\"#34abfc\",\"#34aafc\",\"#35a9fc\",\"#35a8fc\",\"#35a6fc\",\"#35a5fc\",\"#35a4fc\",\"#35a3fc\",\"#35a1fc\",\"#35a0fc\",\"#359ffc\",\"#359dfc\",\"#359cfc\",\"#359bfc\",\"#349afd\",\"#3498fd\",\"#3497fd\",\"#3396fd\",\"#3395fd\",\"#3293fd\",\"#3292fd\",\"#3191fd\",\"#3090fd\",\"#308ffd\",\"#2f8dfd\",\"#2f8cfd\",\"#2e8bfd\",\"#2e8afd\",\"#2d88fd\",\"#2d87fd\",\"#2c86fd\",\"#2c84fd\",\"#2c83fd\",\"#2c82fd\",\"#2b81fd\",\"#2b7ffd\",\"#2b7efd\",\"#2b7dfd\",\"#2b7bfd\",\"#2b7afd\",\"#2b79fd\",\"#2b77fd\",\"#2b76fd\",\"#2b75fd\",\"#2b73fd\",\"#2c72fd\",\"#2c71fd\",\"#2c6ffd\",\"#2c6efd\",\"#2d6cfd\",\"#2d6bfd\",\"#2d6afc\",\"#2e68fc\",\"#2e67fc\",\"#2e65fc\",\"#2e64fc\",\"#2f62fc\",\"#2f61fc\",\"#2f5ffc\",\"#2f5efc\",\"#2f5dfc\",\"#2f5bfc\",\"#2f5afc\",\"#2f58fb\",\"#2f57fb\",\"#2f55fb\",\"#2f53fb\",\"#2f52fb\",\"#2f50fb\",\"#2f4ffb\",\"#2f4dfb\",\"#2e4cfb\",\"#2e4afb\",\"#2e48fb\",\"#2e47fa\",\"#2d45fa\",\"#2d43fa\",\"#2d42fa\",\"#2d40fa\",\"#2c3efa\",\"#2c3dfa\",\"#2b3bf9\",\"#2b39f9\",\"#2a37f9\",\"#2a36f8\",\"#2934f8\",\"#2832f7\",\"#2831f7\",\"#272ff6\",\"#262ef5\",\"#252cf5\",\"#252af4\",\"#2429f3\",\"#2327f2\",\"#2226f1\",\"#2124f0\",\"#2023ef\",\"#1f22ee\",\"#1e20ed\",\"#1d1feb\",\"#1c1eea\",\"#1b1ce9\",\"#1a1be7\",\"#181ae6\",\"#1719e5\",\"#1618e3\",\"#1417e1\",\"#1316e0\",\"#1215de\",\"#1014dc\",\"#0f13db\",\"#0e12d9\",\"#0d11d7\",\"#0c10d5\",\"#0b0fd3\",\"#0a0ed1\",\"#090dd0\",\"#080dce\",\"#080ccc\",\"#070bca\",\"#070ac8\",\"#0709c6\",\"#0708c4\",\"#0707c2\",\"#0707bf\",\"#0806bd\",\"#0806bb\",\"#0905b9\",\"#0904b7\",\"#0a04b5\",\"#0a04b2\",\"#0b03b0\",\"#0c03ae\",\"#0d02ab\",\"#0e02a9\",\"#0e02a7\",\"#0f02a4\",\"#0f01a2\",\"#1001a0\",\"#10019d\",\"#10019b\",\"#100199\",\"#100197\",\"#100194\",\"#0f0192\",\"#0f0190\",\"#0f018e\",\"#0e018b\",\"#0e0189\",\"#0d0187\",\"#0d0185\",\"#0c0183\",\"#0b0181\",\"#0b017e\",\"#0a017c\",\"#09017a\",\"#090178\",\"#080276\",\"#070274\",\"#060272\",\"#060270\",\"#05026e\",\"#04026c\",\"#030269\",\"#030267\",\"#020265\",\"#010263\",\"#010261\",\"#00025f\",\"#00025d\",\"#00025b\",\"#000259\",\"#000257\",\"#000255\",\"#000154\",\"#000152\",\"#000150\",\"#00004e\"]},\"id\":\"42463\",\"type\":\"LogColorMapper\"},{\"attributes\":{\"end\":827565.0,\"reset_end\":827565.0,\"reset_start\":2947.0,\"start\":2947.0,\"tags\":[[[\"Total Food Expenditure\",\"Total Food Expenditure\",null]]]},\"id\":\"42430\",\"type\":\"Range1d\"},{\"attributes\":{},\"id\":\"42465\",\"type\":\"Selection\"},{\"attributes\":{},\"id\":\"42472\",\"type\":\"LogTicker\"},{\"attributes\":{\"end\":12996458.3,\"reset_end\":12996458.3,\"reset_start\":-1169185.3,\"start\":-1169185.3,\"tags\":[[[\"Total Household Income\",\"Total Household Income\",null]]]},\"id\":\"42431\",\"type\":\"Range1d\"},{\"attributes\":{},\"id\":\"42438\",\"type\":\"LinearScale\"},{\"attributes\":{},\"id\":\"42454\",\"type\":\"ResetTool\"},{\"attributes\":{},\"id\":\"42492\",\"type\":\"NoOverlap\"},{\"attributes\":{\"active_drag\":{\"id\":\"42451\"},\"active_scroll\":{\"id\":\"42452\"},\"tools\":[{\"id\":\"42432\"},{\"id\":\"42450\"},{\"id\":\"42451\"},{\"id\":\"42452\"},{\"id\":\"42453\"},{\"id\":\"42454\"}]},\"id\":\"42456\",\"type\":\"Toolbar\"},{\"attributes\":{\"source\":{\"id\":\"42464\"}},\"id\":\"42471\",\"type\":\"CDSView\"},{\"attributes\":{\"callback\":null,\"renderers\":[{\"id\":\"42470\"}],\"tags\":[\"hv_created\"],\"tooltips\":[[\"Count\",\"@{Count}\"]]},\"id\":\"42432\",\"type\":\"HoverTool\"},{\"attributes\":{},\"id\":\"42452\",\"type\":\"WheelZoomTool\"}],\"root_ids\":[\"42429\"]},\"title\":\"Bokeh Application\",\"version\":\"2.4.3\"}};\n",
       "    var render_items = [{\"docid\":\"4361f776-7b60-4f21-83e4-7b585e8888eb\",\"root_ids\":[\"42429\"],\"roots\":{\"42429\":\"48ca24b5-b4c8-42db-8db3-effe0169eb2a\"}}];\n",
       "    root.Bokeh.embed.embed_items_notebook(docs_json, render_items);\n",
       "    for (const render_item of render_items) {\n",
       "      for (const root_id of render_item.root_ids) {\n",
       "\tconst id_el = document.getElementById(root_id)\n",
       "\tif (id_el.children.length && (id_el.children[0].className === 'bk-root')) {\n",
       "\t  const root_el = id_el.children[0]\n",
       "\t  root_el.id = root_el.id + '-rendered'\n",
       "\t}\n",
       "      }\n",
       "    }\n",
       "  }\n",
       "  if (root.Bokeh !== undefined && root.Bokeh.Panel !== undefined) {\n",
       "    embed_document(root);\n",
       "  } else {\n",
       "    var attempts = 0;\n",
       "    var timer = setInterval(function(root) {\n",
       "      if (root.Bokeh !== undefined && root.Bokeh.Panel !== undefined) {\n",
       "        clearInterval(timer);\n",
       "        embed_document(root);\n",
       "      } else if (document.readyState == \"complete\") {\n",
       "        attempts++;\n",
       "        if (attempts > 200) {\n",
       "          clearInterval(timer);\n",
       "          console.log(\"Bokeh: ERROR: Unable to run BokehJS code because BokehJS library is missing\");\n",
       "        }\n",
       "      }\n",
       "    }, 25, root)\n",
       "  }\n",
       "})(window);</script>"
      ],
      "text/plain": [
       ":HexTiles   [Total Food Expenditure,Total Household Income]"
      ]
     },
     "execution_count": 377,
     "metadata": {
      "application/vnd.holoviews_exec.v0+json": {
       "id": "42429"
      }
     },
     "output_type": "execute_result"
    }
   ],
   "source": [
    "dataset.hvplot.hexbin('Total Food Expenditure', 'Total Household Income', logz=True, height=500, xformatter=formatter, yformatter=formatter)\n"
   ]
  },
  {
   "cell_type": "code",
   "execution_count": null,
   "metadata": {},
   "outputs": [],
   "source": []
  }
 ],
 "metadata": {
  "kernelspec": {
   "display_name": "Python 3",
   "language": "python",
   "name": "python3"
  },
  "language_info": {
   "codemirror_mode": {
    "name": "ipython",
    "version": 3
   },
   "file_extension": ".py",
   "mimetype": "text/x-python",
   "name": "python",
   "nbconvert_exporter": "python",
   "pygments_lexer": "ipython3",
   "version": "3.10.10"
  },
  "orig_nbformat": 4
 },
 "nbformat": 4,
 "nbformat_minor": 2
}
